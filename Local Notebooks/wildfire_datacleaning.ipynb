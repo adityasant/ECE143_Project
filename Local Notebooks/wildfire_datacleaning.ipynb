{
 "cells": [
  {
   "cell_type": "markdown",
   "metadata": {},
   "source": [
    "Using this to import the required libraries"
   ]
  },
  {
   "cell_type": "code",
   "execution_count": 32,
   "metadata": {},
   "outputs": [],
   "source": [
    "import sqlite3\n",
    "import numpy as np\n",
    "import pandas as pd\n",
    "import seaborn as sns"
   ]
  },
  {
   "cell_type": "markdown",
   "metadata": {},
   "source": [
    "### Reading the data: Sample example"
   ]
  },
  {
   "cell_type": "code",
   "execution_count": 2,
   "metadata": {},
   "outputs": [
    {
     "data": {
      "text/plain": [
       "'/Volumes/GoogleDrive/My Drive/UCSD Acads/Year 3/Quarter 2/Programming for DS/Project/ECE143_Project/Local Notebooks'"
      ]
     },
     "execution_count": 2,
     "metadata": {},
     "output_type": "execute_result"
    }
   ],
   "source": [
    "pwd"
   ]
  },
  {
   "cell_type": "code",
   "execution_count": 3,
   "metadata": {},
   "outputs": [],
   "source": [
    "import sys"
   ]
  },
  {
   "cell_type": "code",
   "execution_count": 4,
   "metadata": {},
   "outputs": [
    {
     "data": {
      "text/plain": [
       "'/Volumes/GoogleDrive/My Drive/UCSD Acads/Year 3/Quarter 2/Programming for DS/Project/ECE143_Project/Local Notebooks'"
      ]
     },
     "execution_count": 4,
     "metadata": {},
     "output_type": "execute_result"
    }
   ],
   "source": [
    "sys.path[0]"
   ]
  },
  {
   "cell_type": "code",
   "execution_count": 5,
   "metadata": {},
   "outputs": [
    {
     "data": {
      "text/plain": [
       "'/Volumes/GoogleDrive/My Drive/UCSD Acads/Year 3/Quarter 2/Programming for DS/Project/ECE143_Project/Local Notebooks/../Datasets/FPA_FOD_20170508.sqlite'"
      ]
     },
     "execution_count": 5,
     "metadata": {},
     "output_type": "execute_result"
    }
   ],
   "source": [
    "sys.path[0]+'/../Datasets/FPA_FOD_20170508.sqlite'"
   ]
  },
  {
   "cell_type": "code",
   "execution_count": 6,
   "metadata": {},
   "outputs": [
    {
     "data": {
      "text/plain": [
       "'/Volumes/GoogleDrive/My Drive/UCSD Acads/Year 3/Quarter 2/Programming for DS/Project/ECE143_Project/Local Notebooks'"
      ]
     },
     "execution_count": 6,
     "metadata": {},
     "output_type": "execute_result"
    }
   ],
   "source": [
    "sys.path[0]"
   ]
  },
  {
   "cell_type": "code",
   "execution_count": 7,
   "metadata": {},
   "outputs": [],
   "source": [
    "conn = sqlite3.connect('../Datasets/FPA_FOD_20170508.sqlite')"
   ]
  },
  {
   "cell_type": "code",
   "execution_count": 8,
   "metadata": {},
   "outputs": [
    {
     "data": {
      "text/plain": [
       "<sqlite3.Connection at 0x11e58b730>"
      ]
     },
     "execution_count": 8,
     "metadata": {},
     "output_type": "execute_result"
    }
   ],
   "source": [
    "conn"
   ]
  },
  {
   "cell_type": "markdown",
   "metadata": {},
   "source": [
    "### Dataset description: Important keys"
   ]
  },
  {
   "cell_type": "markdown",
   "metadata": {},
   "source": [
    "Here are some useful keys needed for extraction from the dataset\n",
    "- FIRE_YEAR\n",
    "- DISCOVERY_DATE\n",
    "- FIRE_SIZE: Area in hectares\n",
    "- FIRE_SIZE_CLASS: (A=greater than 0 but less than or equal to 0.25 acres, B=0.26-9.9 acres, C=10.0-99.9 acres, D=100-299 acres, E=300 to 999 acres, F=1000 to 4999 acres, and G=5000+ acres)\n",
    "- LATITUDE\n",
    "- LONGITUDE\n",
    "- STATE"
   ]
  },
  {
   "cell_type": "code",
   "execution_count": 9,
   "metadata": {},
   "outputs": [],
   "source": [
    "data_dates = pd.read_sql_query(\"SELECT fire_year, discovery_date FROM fires;\", conn)"
   ]
  },
  {
   "cell_type": "code",
   "execution_count": 10,
   "metadata": {},
   "outputs": [],
   "source": [
    "data_size = pd.read_sql_query(\"SELECT fire_size, fire_size_class FROM fires;\", conn)"
   ]
  },
  {
   "cell_type": "code",
   "execution_count": 11,
   "metadata": {},
   "outputs": [],
   "source": [
    "data_location = pd.read_sql_query(\"SELECT latitude, longitude, state FROM fires;\", conn)"
   ]
  },
  {
   "cell_type": "markdown",
   "metadata": {},
   "source": [
    "### Checking the data statistics"
   ]
  },
  {
   "cell_type": "code",
   "execution_count": 12,
   "metadata": {},
   "outputs": [],
   "source": [
    "fire_size_arr = data_size['FIRE_SIZE']"
   ]
  },
  {
   "cell_type": "code",
   "execution_count": 13,
   "metadata": {},
   "outputs": [
    {
     "data": {
      "text/plain": [
       "1880465"
      ]
     },
     "execution_count": 13,
     "metadata": {},
     "output_type": "execute_result"
    }
   ],
   "source": [
    "len(fire_size_arr)"
   ]
  },
  {
   "cell_type": "code",
   "execution_count": 14,
   "metadata": {},
   "outputs": [],
   "source": [
    "import matplotlib.pyplot as plt"
   ]
  },
  {
   "cell_type": "code",
   "execution_count": 30,
   "metadata": {},
   "outputs": [
    {
     "data": {
      "image/png": "[encoded data removed]",
      "text/plain": [
       "<Figure size 432x288 with 1 Axes>"
      ]
     },
     "metadata": {
      "needs_background": "light"
     },
     "output_type": "display_data"
    }
   ],
   "source": [
    "plt.yscale('log')\n",
    "fire_size_hist = plt.hist(fire_size_arr,25)"
   ]
  },
  {
   "cell_type": "code",
   "execution_count": 45,
   "metadata": {},
   "outputs": [],
   "source": [
    "fire_size_class_arr = data_size['FIRE_SIZE_CLASS']"
   ]
  },
  {
   "cell_type": "code",
   "execution_count": null,
   "metadata": {},
   "outputs": [],
   "source": [
    "plt.yscale('log')\n",
    "fire_size_class_hist = plt.hist(fire_size_class_arr,25)"
   ]
  },
  {
   "cell_type": "code",
   "execution_count": null,
   "metadata": {},
   "outputs": [],
   "source": []
  },
  {
   "cell_type": "markdown",
   "metadata": {},
   "source": [
    "Checking the location statistics"
   ]
  },
  {
   "cell_type": "code",
   "execution_count": 16,
   "metadata": {},
   "outputs": [],
   "source": [
    "lat_arr = data_location['LATITUDE']"
   ]
  },
  {
   "cell_type": "code",
   "execution_count": 17,
   "metadata": {
    "scrolled": false
   },
   "outputs": [
    {
     "data": {
      "text/plain": [
       "(array([2.31510e+04, 8.63900e+03, 1.86000e+02, 1.03660e+04, 3.18220e+04,\n",
       "        8.27090e+04, 2.76474e+05, 3.83311e+05, 2.78656e+05, 1.74539e+05,\n",
       "        1.54833e+05, 1.23231e+05, 1.38547e+05, 1.03015e+05, 7.81430e+04,\n",
       "        0.00000e+00, 3.00000e+00, 8.30000e+01, 2.62000e+02, 8.55000e+02,\n",
       "        4.21000e+03, 2.08200e+03, 4.22100e+03, 1.07700e+03, 5.00000e+01]),\n",
       " array([17.93972222, 20.03535733, 22.13099244, 24.22662755, 26.32226266,\n",
       "        28.41789778, 30.51353289, 32.609168  , 34.70480311, 36.80043822,\n",
       "        38.89607333, 40.99170844, 43.08734355, 45.18297867, 47.27861378,\n",
       "        49.37424889, 51.469884  , 53.56551911, 55.66115422, 57.75678933,\n",
       "        59.85242444, 61.94805956, 64.04369467, 66.13932978, 68.23496489,\n",
       "        70.3306    ]),\n",
       " <a list of 25 Patch objects>)"
      ]
     },
     "execution_count": 17,
     "metadata": {},
     "output_type": "execute_result"
    },
    {
     "data": {
      "image/png": "[encoded data removed]",
      "text/plain": [
       "<Figure size 432x288 with 1 Axes>"
      ]
     },
     "metadata": {
      "needs_background": "light"
     },
     "output_type": "display_data"
    }
   ],
   "source": [
    "plt.hist(lat_arr,bins = 25)"
   ]
  },
  {
   "cell_type": "code",
   "execution_count": 18,
   "metadata": {},
   "outputs": [],
   "source": [
    "long_arr = data_location['LONGITUDE']"
   ]
  },
  {
   "cell_type": "code",
   "execution_count": 31,
   "metadata": {
    "scrolled": false
   },
   "outputs": [
    {
     "data": {
      "text/plain": [
       "(array([1.00000e+00, 2.00000e+00, 2.20000e+01, 4.30000e+02, 9.76200e+03,\n",
       "        2.47100e+03, 6.68600e+03, 2.38500e+03, 3.25000e+02, 4.53000e+02,\n",
       "        2.01000e+02, 8.17000e+02, 1.85633e+05, 1.35581e+05, 1.14719e+05,\n",
       "        9.51750e+04, 6.18030e+04, 9.83690e+04, 2.11348e+05, 1.69995e+05,\n",
       "        2.10022e+05, 3.62101e+05, 1.12286e+05, 6.86730e+04, 3.12050e+04]),\n",
       " array([-178.8026    , -174.26077378, -169.71894756, -165.17712133,\n",
       "        -160.63529511, -156.09346889, -151.55164267, -147.00981644,\n",
       "        -142.46799022, -137.926164  , -133.38433778, -128.84251155,\n",
       "        -124.30068533, -119.75885911, -115.21703289, -110.67520666,\n",
       "        -106.13338044, -101.59155422,  -97.049728  ,  -92.50790177,\n",
       "         -87.96607555,  -83.42424933,  -78.88242311,  -74.34059688,\n",
       "         -69.79877066,  -65.25694444]),\n",
       " <a list of 25 Patch objects>)"
      ]
     },
     "execution_count": 31,
     "metadata": {},
     "output_type": "execute_result"
    },
    {
     "data": {
      "image/png": "[encoded data removed]",
      "text/plain": [
       "<Figure size 432x288 with 1 Axes>"
      ]
     },
     "metadata": {
      "needs_background": "light"
     },
     "output_type": "display_data"
    }
   ],
   "source": [
    "plt.hist(long_arr,bins=25)"
   ]
  },
  {
   "cell_type": "markdown",
   "metadata": {},
   "source": [
    "### Show data correlations"
   ]
  },
  {
   "cell_type": "markdown",
   "metadata": {},
   "source": [
    "All data correlations"
   ]
  },
  {
   "cell_type": "code",
   "execution_count": 39,
   "metadata": {},
   "outputs": [],
   "source": [
    "wildfire_data = pd.read_sql_query(\"SELECT fire_size, latitude, longitude FROM fires;\", conn)"
   ]
  },
  {
   "cell_type": "code",
   "execution_count": 40,
   "metadata": {},
   "outputs": [
    {
     "data": {
      "image/png": "[encoded data removed]",
      "text/plain": [
       "<Figure size 432x288 with 2 Axes>"
      ]
     },
     "metadata": {
      "needs_background": "light"
     },
     "output_type": "display_data"
    }
   ],
   "source": [
    "f,ax = plt.subplots()\n",
    "svm = sns.heatmap(wildfire_data.corr(), annot = True, linewidths = .5, fmt = '.2f', ax = ax)\n",
    "plt.show()\n",
    "figure = svm.get_figure()"
   ]
  },
  {
   "cell_type": "markdown",
   "metadata": {},
   "source": [
    "Small fire correlations"
   ]
  },
  {
   "cell_type": "code",
   "execution_count": 52,
   "metadata": {},
   "outputs": [
    {
     "data": {
      "text/plain": [
       "'A'"
      ]
     },
     "execution_count": 52,
     "metadata": {},
     "output_type": "execute_result"
    }
   ],
   "source": [
    "fire_size_class_arr[0]"
   ]
  },
  {
   "cell_type": "code",
   "execution_count": 57,
   "metadata": {},
   "outputs": [
    {
     "data": {
      "text/plain": [
       "1880465"
      ]
     },
     "execution_count": 57,
     "metadata": {},
     "output_type": "execute_result"
    }
   ],
   "source": [
    "len(fire_size_class_arr)"
   ]
  },
  {
   "cell_type": "code",
   "execution_count": 58,
   "metadata": {},
   "outputs": [],
   "source": [
    "size_key = 'G'"
   ]
  },
  {
   "cell_type": "code",
   "execution_count": 59,
   "metadata": {},
   "outputs": [],
   "source": [
    "small_size_wildfire_data.update({'FIRE_SIZE':[fire_size_arr[i] for i in range(len(fire_size_arr)) \\\n",
    "                                              if fire_size_class_arr[i]==size_key]})"
   ]
  },
  {
   "cell_type": "code",
   "execution_count": 60,
   "metadata": {},
   "outputs": [],
   "source": [
    "small_size_wildfire_data.update({'LATITUDE':[lat_arr[i] for i in range(len(fire_size_arr)) \\\n",
    "                                              if fire_size_class_arr[i]==size_key]})"
   ]
  },
  {
   "cell_type": "code",
   "execution_count": 61,
   "metadata": {},
   "outputs": [],
   "source": [
    "small_size_wildfire_data.update({'LONGITUDE':[long_arr[i] for i in range(len(fire_size_arr)) \\\n",
    "                                              if fire_size_class_arr[i]==size_key]})"
   ]
  },
  {
   "cell_type": "code",
   "execution_count": 62,
   "metadata": {},
   "outputs": [],
   "source": [
    "small_size_wildfire_data = pd.DataFrame(small_size_wildfire_data)"
   ]
  },
  {
   "cell_type": "code",
   "execution_count": 63,
   "metadata": {},
   "outputs": [
    {
     "data": {
      "image/png": "[encoded data removed]",
      "text/plain": [
       "<Figure size 432x288 with 2 Axes>"
      ]
     },
     "metadata": {
      "needs_background": "light"
     },
     "output_type": "display_data"
    }
   ],
   "source": [
    "f,ax = plt.subplots()\n",
    "svm = sns.heatmap(small_size_wildfire_data.corr(), annot = True, linewidths = .5, fmt = '.2f', ax = ax)\n",
    "plt.show()\n",
    "figure = svm.get_figure()"
   ]
  },
  {
   "cell_type": "markdown",
   "metadata": {},
   "source": [
    "Large size, with class F and G"
   ]
  },
  {
   "cell_type": "code",
   "execution_count": 66,
   "metadata": {},
   "outputs": [],
   "source": [
    "small_size_wildfire_data = {}"
   ]
  },
  {
   "cell_type": "code",
   "execution_count": 67,
   "metadata": {},
   "outputs": [],
   "source": [
    "small_size_wildfire_data.update({'FIRE_SIZE':[fire_size_arr[i] for i in range(len(fire_size_arr)) \\\n",
    "                                              if fire_size_class_arr[i]=='F' or fire_size_class_arr[i]=='G']})"
   ]
  },
  {
   "cell_type": "code",
   "execution_count": 68,
   "metadata": {},
   "outputs": [],
   "source": [
    "small_size_wildfire_data.update({'LATITUDE':[lat_arr[i] for i in range(len(fire_size_arr)) \\\n",
    "                                              if fire_size_class_arr[i]=='F' or fire_size_class_arr[i]=='G']})"
   ]
  },
  {
   "cell_type": "code",
   "execution_count": 69,
   "metadata": {},
   "outputs": [],
   "source": [
    "small_size_wildfire_data.update({'LONGITUDE':[long_arr[i] for i in range(len(fire_size_arr)) \\\n",
    "                                              if fire_size_class_arr[i]=='F' or fire_size_class_arr[i]=='G']})"
   ]
  },
  {
   "cell_type": "code",
   "execution_count": 70,
   "metadata": {},
   "outputs": [],
   "source": [
    "small_size_wildfire_data = pd.DataFrame(small_size_wildfire_data)"
   ]
  },
  {
   "cell_type": "code",
   "execution_count": 71,
   "metadata": {},
   "outputs": [
    {
     "data": {
      "image/png": "[encoded data removed]",
      "text/plain": [
       "<Figure size 432x288 with 2 Axes>"
      ]
     },
     "metadata": {
      "needs_background": "light"
     },
     "output_type": "display_data"
    }
   ],
   "source": [
    "f,ax = plt.subplots()\n",
    "svm = sns.heatmap(small_size_wildfire_data.corr(), annot = True, linewidths = .5, fmt = '.2f', ax = ax)\n",
    "plt.show()\n",
    "figure = svm.get_figure()"
   ]
  },
  {
   "cell_type": "code",
   "execution_count": null,
   "metadata": {},
   "outputs": [],
   "source": []
  }
 ],
 "metadata": {
  "kernelspec": {
   "display_name": "Python 3",
   "language": "python",
   "name": "python3"
  },
  "language_info": {
   "codemirror_mode": {
    "name": "ipython",
    "version": 3
   },
   "file_extension": ".py",
   "mimetype": "text/x-python",
   "name": "python",
   "nbconvert_exporter": "python",
   "pygments_lexer": "ipython3",
   "version": "3.7.3"
  }
 },
 "nbformat": 4,
 "nbformat_minor": 2
}
