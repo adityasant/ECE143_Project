{
 "cells": [
  {
   "cell_type": "markdown",
   "metadata": {},
   "source": [
    "Using this to import the required libraries"
   ]
  },
  {
   "cell_type": "code",
   "execution_count": 1,
   "metadata": {},
   "outputs": [],
   "source": [
    "import sqlite3\n",
    "import numpy as np\n",
    "import pandas as pd"
   ]
  },
  {
   "cell_type": "markdown",
   "metadata": {},
   "source": [
    "Reading the data: Sample example"
   ]
  },
  {
   "cell_type": "code",
   "execution_count": 5,
   "metadata": {},
   "outputs": [],
   "source": [
    "conn = sqlite3.connect('../Datasets/FPA_FOD_20170508.sqlite')"
   ]
  },
  {
   "cell_type": "markdown",
   "metadata": {},
   "source": [
    "### Dataset description: Important keys"
   ]
  },
  {
   "cell_type": "markdown",
   "metadata": {},
   "source": [
    "Here are some useful keys needed for extraction from the dataset\n",
    "- FIRE_YEAR\n",
    "- DISCOVERY_DATE\n",
    "- FIRE_SIZE: Area in hectares\n",
    "- FIRE_SIZE_CLASS: (A=greater than 0 but less than or equal to 0.25 acres, B=0.26-9.9 acres, C=10.0-99.9 acres, D=100-299 acres, E=300 to 999 acres, F=1000 to 4999 acres, and G=5000+ acres)\n",
    "- LATITUDE\n",
    "- LONGITUDE\n",
    "- STATE"
   ]
  },
  {
   "cell_type": "code",
   "execution_count": 30,
   "metadata": {},
   "outputs": [],
   "source": [
    "data_dates = pd.read_sql_query(\"SELECT fire_year, discovery_date FROM fires;\", conn)"
   ]
  },
  {
   "cell_type": "code",
   "execution_count": 31,
   "metadata": {},
   "outputs": [],
   "source": [
    "data_size = pd.read_sql_query(\"SELECT fire_size, fire_size_class FROM fires;\", conn)"
   ]
  },
  {
   "cell_type": "code",
   "execution_count": 32,
   "metadata": {},
   "outputs": [],
   "source": [
    "data_location = pd.read_sql_query(\"SELECT latitude, longitude, state FROM fires;\", conn)"
   ]
  },
  {
   "cell_type": "markdown",
   "metadata": {},
   "source": [
    "Checking the size statistics"
   ]
  },
  {
   "cell_type": "code",
   "execution_count": 33,
   "metadata": {},
   "outputs": [],
   "source": [
    "fire_size_arr = data_size['FIRE_SIZE']"
   ]
  },
  {
   "cell_type": "code",
   "execution_count": 35,
   "metadata": {},
   "outputs": [
    {
     "data": {
      "text/plain": [
       "1880465"
      ]
     },
     "execution_count": 35,
     "metadata": {},
     "output_type": "execute_result"
    }
   ],
   "source": [
    "len(fire_size_arr)"
   ]
  },
  {
   "cell_type": "code",
   "execution_count": 38,
   "metadata": {},
   "outputs": [],
   "source": [
    "import matplotlib.pyplot as plt"
   ]
  },
  {
   "cell_type": "code",
   "execution_count": 59,
   "metadata": {},
   "outputs": [
    {
     "data": {
      "image/png": "[encoded data removed]",
      "text/plain": [
       "<Figure size 432x288 with 1 Axes>"
      ]
     },
     "metadata": {
      "needs_background": "light"
     },
     "output_type": "display_data"
    }
   ],
   "source": [
    "plt.xscale('log')\n",
    "plt.plot(fire_size_arr)\n",
    "plt.show()"
   ]
  },
  {
   "cell_type": "markdown",
   "metadata": {},
   "source": [
    "Checking the location statistics"
   ]
  },
  {
   "cell_type": "code",
   "execution_count": 44,
   "metadata": {},
   "outputs": [],
   "source": [
    "lat_arr = data_location['LATITUDE']"
   ]
  },
  {
   "cell_type": "code",
   "execution_count": 48,
   "metadata": {},
   "outputs": [
    {
     "data": {
      "text/plain": [
       "(array([2.31510e+04, 8.63900e+03, 1.86000e+02, 1.03660e+04, 3.18220e+04,\n",
       "        8.27090e+04, 2.76474e+05, 3.83311e+05, 2.78656e+05, 1.74539e+05,\n",
       "        1.54833e+05, 1.23231e+05, 1.38547e+05, 1.03015e+05, 7.81430e+04,\n",
       "        0.00000e+00, 3.00000e+00, 8.30000e+01, 2.62000e+02, 8.55000e+02,\n",
       "        4.21000e+03, 2.08200e+03, 4.22100e+03, 1.07700e+03, 5.00000e+01]),\n",
       " array([17.93972222, 20.03535733, 22.13099244, 24.22662755, 26.32226266,\n",
       "        28.41789778, 30.51353289, 32.609168  , 34.70480311, 36.80043822,\n",
       "        38.89607333, 40.99170844, 43.08734355, 45.18297867, 47.27861378,\n",
       "        49.37424889, 51.469884  , 53.56551911, 55.66115422, 57.75678933,\n",
       "        59.85242444, 61.94805956, 64.04369467, 66.13932978, 68.23496489,\n",
       "        70.3306    ]),\n",
       " <a list of 25 Patch objects>)"
      ]
     },
     "execution_count": 48,
     "metadata": {},
     "output_type": "execute_result"
    },
    {
     "data": {
      "image/png": "[encoded data removed]",
      "text/plain": [
       "<Figure size 432x288 with 1 Axes>"
      ]
     },
     "metadata": {
      "needs_background": "light"
     },
     "output_type": "display_data"
    }
   ],
   "source": [
    "plt.hist(lat_arr,bins = 25)"
   ]
  },
  {
   "cell_type": "code",
   "execution_count": 51,
   "metadata": {},
   "outputs": [],
   "source": [
    "long_arr = data_location['LONGITUDE']"
   ]
  },
  {
   "cell_type": "code",
   "execution_count": 53,
   "metadata": {},
   "outputs": [
    {
     "data": {
      "text/plain": [
       "(array([2.00000e+00, 2.00000e+00, 2.72000e+02, 9.94100e+03, 3.73500e+03,\n",
       "        7.12900e+03, 1.00200e+03, 4.54000e+02, 2.01000e+02, 7.15050e+04,\n",
       "        2.20128e+05, 1.45117e+05, 1.15719e+05, 7.48390e+04, 2.28537e+05,\n",
       "        2.17595e+05, 3.15218e+05, 3.21595e+05, 1.11553e+05, 3.59210e+04]),\n",
       " array([-178.8026    , -173.12531722, -167.44803444, -161.77075167,\n",
       "        -156.09346889, -150.41618611, -144.73890333, -139.06162055,\n",
       "        -133.38433778, -127.707055  , -122.02977222, -116.35248944,\n",
       "        -110.67520666, -104.99792389,  -99.32064111,  -93.64335833,\n",
       "         -87.96607555,  -82.28879277,  -76.61151   ,  -70.93422722,\n",
       "         -65.25694444]),\n",
       " <a list of 20 Patch objects>)"
      ]
     },
     "execution_count": 53,
     "metadata": {},
     "output_type": "execute_result"
    },
    {
     "data": {
      "image/png": "[encoded data removed]",
      "text/plain": [
       "<Figure size 432x288 with 1 Axes>"
      ]
     },
     "metadata": {
      "needs_background": "light"
     },
     "output_type": "display_data"
    }
   ],
   "source": [
    "plt.hist(long_arr,bins=20)"
   ]
  },
  {
   "cell_type": "code",
   "execution_count": null,
   "metadata": {},
   "outputs": [],
   "source": []
  }
 ],
 "metadata": {
  "kernelspec": {
   "display_name": "Python 3",
   "language": "python",
   "name": "python3"
  },
  "language_info": {
   "codemirror_mode": {
    "name": "ipython",
    "version": 3
   },
   "file_extension": ".py",
   "mimetype": "text/x-python",
   "name": "python",
   "nbconvert_exporter": "python",
   "pygments_lexer": "ipython3",
   "version": "3.7.3"
  }
 },
 "nbformat": 4,
 "nbformat_minor": 2
}
