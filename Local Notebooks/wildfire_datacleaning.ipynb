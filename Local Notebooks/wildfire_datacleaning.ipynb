{
 "cells": [
  {
   "cell_type": "markdown",
   "metadata": {},
   "source": [
    "Using this to import the required libraries"
   ]
  },
  {
   "cell_type": "code",
   "execution_count": 48,
   "metadata": {},
   "outputs": [],
   "source": [
    "import sqlite3\n",
    "import numpy as np\n",
    "import pandas as pd\n",
    "import seaborn as sns\n",
    "import numpy as np"
   ]
  },
  {
   "cell_type": "markdown",
   "metadata": {},
   "source": [
    "### Reading the data: Sample example"
   ]
  },
  {
   "cell_type": "code",
   "execution_count": 2,
   "metadata": {},
   "outputs": [
    {
     "data": {
      "text/plain": [
       "'/Volumes/GoogleDrive/My Drive/UCSD Acads/Year 3/Quarter 2/Programming for DS/Project/ECE143_Project/Local Notebooks'"
      ]
     },
     "execution_count": 2,
     "metadata": {},
     "output_type": "execute_result"
    }
   ],
   "source": [
    "pwd"
   ]
  },
  {
   "cell_type": "code",
   "execution_count": 3,
   "metadata": {},
   "outputs": [],
   "source": [
    "import sys"
   ]
  },
  {
   "cell_type": "code",
   "execution_count": 4,
   "metadata": {},
   "outputs": [
    {
     "data": {
      "text/plain": [
       "'/Volumes/GoogleDrive/My Drive/UCSD Acads/Year 3/Quarter 2/Programming for DS/Project/ECE143_Project/Local Notebooks'"
      ]
     },
     "execution_count": 4,
     "metadata": {},
     "output_type": "execute_result"
    }
   ],
   "source": [
    "sys.path[0]"
   ]
  },
  {
   "cell_type": "code",
   "execution_count": 5,
   "metadata": {},
   "outputs": [
    {
     "data": {
      "text/plain": [
       "'/Volumes/GoogleDrive/My Drive/UCSD Acads/Year 3/Quarter 2/Programming for DS/Project/ECE143_Project/Local Notebooks/../Datasets/FPA_FOD_20170508.sqlite'"
      ]
     },
     "execution_count": 5,
     "metadata": {},
     "output_type": "execute_result"
    }
   ],
   "source": [
    "sys.path[0]+'/../Datasets/FPA_FOD_20170508.sqlite'"
   ]
  },
  {
   "cell_type": "code",
   "execution_count": 6,
   "metadata": {},
   "outputs": [
    {
     "data": {
      "text/plain": [
       "'/Volumes/GoogleDrive/My Drive/UCSD Acads/Year 3/Quarter 2/Programming for DS/Project/ECE143_Project/Local Notebooks'"
      ]
     },
     "execution_count": 6,
     "metadata": {},
     "output_type": "execute_result"
    }
   ],
   "source": [
    "sys.path[0]"
   ]
  },
  {
   "cell_type": "code",
   "execution_count": 7,
   "metadata": {},
   "outputs": [],
   "source": [
    "conn = sqlite3.connect('../Datasets/FPA_FOD_20170508.sqlite')"
   ]
  },
  {
   "cell_type": "code",
   "execution_count": 8,
   "metadata": {},
   "outputs": [
    {
     "data": {
      "text/plain": [
       "<sqlite3.Connection at 0x1a16fdb9d0>"
      ]
     },
     "execution_count": 8,
     "metadata": {},
     "output_type": "execute_result"
    }
   ],
   "source": [
    "conn"
   ]
  },
  {
   "cell_type": "markdown",
   "metadata": {},
   "source": [
    "### Dataset description: Important keys"
   ]
  },
  {
   "cell_type": "markdown",
   "metadata": {},
   "source": [
    "Here are some useful keys needed for extraction from the dataset\n",
    "- FIRE_YEAR\n",
    "- DISCOVERY_DATE\n",
    "- FIRE_SIZE: Area in hectares\n",
    "- FIRE_SIZE_CLASS: (A=greater than 0 but less than or equal to 0.25 acres, B=0.26-9.9 acres, C=10.0-99.9 acres, D=100-299 acres, E=300 to 999 acres, F=1000 to 4999 acres, and G=5000+ acres)\n",
    "- LATITUDE\n",
    "- LONGITUDE\n",
    "- STATE"
   ]
  },
  {
   "cell_type": "code",
   "execution_count": 9,
   "metadata": {},
   "outputs": [],
   "source": [
    "data_dates = pd.read_sql_query(\"SELECT fire_year, discovery_date FROM fires;\", conn)"
   ]
  },
  {
   "cell_type": "code",
   "execution_count": 10,
   "metadata": {},
   "outputs": [],
   "source": [
    "data_size = pd.read_sql_query(\"SELECT fire_size, fire_size_class FROM fires;\", conn)"
   ]
  },
  {
   "cell_type": "code",
   "execution_count": 11,
   "metadata": {},
   "outputs": [],
   "source": [
    "data_location = pd.read_sql_query(\"SELECT latitude, longitude, state FROM fires;\", conn)"
   ]
  },
  {
   "cell_type": "markdown",
   "metadata": {},
   "source": [
    "### Checking the data statistics"
   ]
  },
  {
   "cell_type": "code",
   "execution_count": 12,
   "metadata": {},
   "outputs": [],
   "source": [
    "data_dates_arr = data_dates['DISCOVERY_DATE']"
   ]
  },
  {
   "cell_type": "code",
   "execution_count": 13,
   "metadata": {},
   "outputs": [],
   "source": [
    "fire_year_arr = data_dates['FIRE_YEAR']"
   ]
  },
  {
   "cell_type": "code",
   "execution_count": 14,
   "metadata": {},
   "outputs": [],
   "source": [
    "fire_size_arr = data_size['FIRE_SIZE']"
   ]
  },
  {
   "cell_type": "code",
   "execution_count": 15,
   "metadata": {},
   "outputs": [
    {
     "data": {
      "text/plain": [
       "1880465"
      ]
     },
     "execution_count": 15,
     "metadata": {},
     "output_type": "execute_result"
    }
   ],
   "source": [
    "len(fire_size_arr)"
   ]
  },
  {
   "cell_type": "code",
   "execution_count": 16,
   "metadata": {},
   "outputs": [],
   "source": [
    "import matplotlib.pyplot as plt"
   ]
  },
  {
   "cell_type": "code",
   "execution_count": 17,
   "metadata": {},
   "outputs": [
    {
     "data": {
      "image/png": "[encoded data removed]",
      "text/plain": [
       "<Figure size 432x288 with 1 Axes>"
      ]
     },
     "metadata": {
      "needs_background": "light"
     },
     "output_type": "display_data"
    }
   ],
   "source": [
    "plt.yscale('log')\n",
    "fire_size_hist = plt.hist(fire_size_arr,25)"
   ]
  },
  {
   "cell_type": "code",
   "execution_count": 18,
   "metadata": {},
   "outputs": [],
   "source": [
    "fire_size_class_arr = data_size['FIRE_SIZE_CLASS']"
   ]
  },
  {
   "cell_type": "markdown",
   "metadata": {},
   "source": [
    "Checking the location statistics"
   ]
  },
  {
   "cell_type": "code",
   "execution_count": 19,
   "metadata": {},
   "outputs": [],
   "source": [
    "lat_arr = data_location['LATITUDE']"
   ]
  },
  {
   "cell_type": "code",
   "execution_count": 20,
   "metadata": {
    "scrolled": true
   },
   "outputs": [
    {
     "data": {
      "text/plain": [
       "(array([7.1040e+03, 5.5580e+03, 2.4420e+03, 3.5600e+03, 2.6480e+03,\n",
       "        7.6900e+02, 0.0000e+00, 0.0000e+00, 0.0000e+00, 4.0000e+00,\n",
       "        5.6000e+01, 5.8000e+01, 5.0000e+01, 7.8000e+01, 1.2700e+02,\n",
       "        1.4200e+02, 1.7800e+02, 9.4000e+01, 1.0000e+02, 1.8300e+02,\n",
       "        8.3000e+01, 3.4000e+01, 5.0000e+00, 0.0000e+00, 0.0000e+00,\n",
       "        1.8000e+01, 1.2100e+02, 3.5900e+02, 3.9100e+02, 4.3000e+01,\n",
       "        7.2000e+01, 3.0700e+02, 2.9650e+03, 2.5520e+03, 7.5300e+02,\n",
       "        2.0700e+02, 0.0000e+00, 1.5300e+02, 3.3300e+02, 2.4300e+02,\n",
       "        1.8600e+02, 0.0000e+00, 0.0000e+00, 0.0000e+00, 0.0000e+00,\n",
       "        0.0000e+00, 0.0000e+00, 0.0000e+00, 0.0000e+00, 0.0000e+00,\n",
       "        0.0000e+00, 0.0000e+00, 0.0000e+00, 0.0000e+00, 0.0000e+00,\n",
       "        0.0000e+00, 0.0000e+00, 0.0000e+00, 0.0000e+00, 0.0000e+00,\n",
       "        0.0000e+00, 0.0000e+00, 0.0000e+00, 5.0000e+00, 2.8100e+02,\n",
       "        0.0000e+00, 0.0000e+00, 0.0000e+00, 6.0000e+00, 1.6000e+01,\n",
       "        8.0000e+01, 6.3400e+02, 7.8700e+02, 1.0020e+03, 3.0800e+02,\n",
       "        3.6000e+02, 6.1500e+02, 1.3600e+03, 2.5040e+03, 2.4080e+03,\n",
       "        1.9160e+03, 1.0020e+03, 1.3900e+03, 1.9120e+03, 1.3230e+03,\n",
       "        1.5340e+03, 2.3930e+03, 1.9000e+03, 1.5450e+03, 1.5620e+03,\n",
       "        1.5550e+03, 1.5480e+03, 1.3950e+03, 1.6960e+03, 1.5310e+03,\n",
       "        1.3900e+03, 1.3730e+03, 1.5520e+03, 1.5580e+03, 1.7470e+03,\n",
       "        2.2420e+03, 1.9360e+03, 1.8720e+03, 2.0140e+03, 3.0950e+03,\n",
       "        3.3600e+03, 3.1790e+03, 3.6010e+03, 2.5960e+03, 2.7270e+03,\n",
       "        3.0720e+03, 3.4550e+03, 3.1920e+03, 3.1970e+03, 3.2120e+03,\n",
       "        4.8060e+03, 6.2350e+03, 7.8800e+03, 8.6030e+03, 1.2435e+04,\n",
       "        1.2237e+04, 1.2725e+04, 1.4101e+04, 1.4618e+04, 1.3710e+04,\n",
       "        1.4729e+04, 1.4470e+04, 1.2835e+04, 1.2118e+04, 1.3887e+04,\n",
       "        1.3221e+04, 1.3632e+04, 1.3317e+04, 1.2145e+04, 1.2657e+04,\n",
       "        1.4281e+04, 1.4404e+04, 1.5480e+04, 1.5386e+04, 1.6521e+04,\n",
       "        1.7810e+04, 1.9040e+04, 1.6081e+04, 1.7013e+04, 1.8782e+04,\n",
       "        1.7749e+04, 1.9528e+04, 2.2033e+04, 1.9202e+04, 1.9165e+04,\n",
       "        2.1209e+04, 2.0900e+04, 2.1901e+04, 2.0587e+04, 1.8966e+04,\n",
       "        1.8918e+04, 1.8940e+04, 1.9038e+04, 1.8264e+04, 1.8185e+04,\n",
       "        1.7606e+04, 1.9329e+04, 1.7712e+04, 1.6513e+04, 1.5536e+04,\n",
       "        1.8879e+04, 1.5896e+04, 1.4729e+04, 1.4126e+04, 1.6770e+04,\n",
       "        1.4129e+04, 1.3353e+04, 1.3658e+04, 1.1763e+04, 1.1287e+04,\n",
       "        1.1833e+04, 1.1045e+04, 7.9380e+03, 7.9890e+03, 8.5650e+03,\n",
       "        8.5610e+03, 1.0195e+04, 1.1711e+04, 1.0716e+04, 1.2298e+04,\n",
       "        1.2092e+04, 9.4880e+03, 8.5700e+03, 9.2450e+03, 8.9960e+03,\n",
       "        7.6080e+03, 8.1780e+03, 6.9270e+03, 7.8300e+03, 7.9120e+03,\n",
       "        7.2980e+03, 6.1730e+03, 6.7590e+03, 7.0840e+03, 6.8980e+03,\n",
       "        7.2150e+03, 6.1850e+03, 6.8290e+03, 7.0870e+03, 8.9450e+03,\n",
       "        9.3310e+03, 7.1140e+03, 6.9090e+03, 7.2370e+03, 7.1900e+03,\n",
       "        7.1550e+03, 6.5170e+03, 5.2950e+03, 5.6810e+03, 6.2990e+03,\n",
       "        7.8690e+03, 1.1087e+04, 1.2016e+04, 1.1108e+04, 7.7640e+03,\n",
       "        9.7830e+03, 7.4940e+03, 5.0910e+03, 6.3010e+03, 5.3130e+03,\n",
       "        5.5950e+03, 5.4200e+03, 5.2990e+03, 4.3870e+03, 4.9440e+03,\n",
       "        6.7850e+03, 5.4160e+03, 4.7370e+03, 4.9640e+03, 5.3500e+03,\n",
       "        5.8020e+03, 6.3200e+03, 5.8100e+03, 6.8690e+03, 1.1551e+04,\n",
       "        1.1197e+04, 1.0592e+04, 7.6320e+03, 5.8250e+03, 5.5310e+03,\n",
       "        5.7420e+03, 6.0740e+03, 6.3200e+03, 7.9230e+03, 8.5060e+03,\n",
       "        6.4510e+03, 7.1680e+03, 6.5230e+03, 6.3650e+03, 6.1230e+03,\n",
       "        6.4980e+03, 6.5280e+03, 6.0080e+03, 6.1780e+03, 5.3630e+03,\n",
       "        5.0120e+03, 5.5180e+03, 5.6050e+03, 5.9920e+03, 7.2250e+03,\n",
       "        5.8390e+03, 6.3630e+03, 6.7200e+03, 5.8980e+03, 4.7450e+03,\n",
       "        3.8250e+03, 4.8610e+03, 4.5030e+03, 4.0230e+03, 4.3120e+03,\n",
       "        4.7230e+03, 4.4350e+03, 4.7610e+03, 4.4190e+03, 4.2360e+03,\n",
       "        4.1050e+03, 4.0090e+03, 3.6580e+03, 3.2280e+03, 3.4180e+03,\n",
       "        1.0936e+04, 1.0315e+04, 7.1200e+03, 3.7100e+03, 4.3250e+03,\n",
       "        3.4190e+03, 3.7290e+03, 4.3080e+03, 2.8200e+03, 4.7000e+03,\n",
       "        3.6400e+03, 7.0100e+02, 0.0000e+00, 0.0000e+00, 2.0000e+00,\n",
       "        0.0000e+00, 0.0000e+00, 0.0000e+00, 0.0000e+00, 0.0000e+00,\n",
       "        0.0000e+00, 0.0000e+00, 0.0000e+00, 0.0000e+00, 0.0000e+00,\n",
       "        0.0000e+00, 0.0000e+00, 0.0000e+00, 0.0000e+00, 0.0000e+00,\n",
       "        0.0000e+00, 0.0000e+00, 0.0000e+00, 0.0000e+00, 0.0000e+00,\n",
       "        1.0000e+00, 0.0000e+00, 0.0000e+00, 0.0000e+00, 0.0000e+00,\n",
       "        1.0000e+00, 0.0000e+00, 0.0000e+00, 0.0000e+00, 0.0000e+00,\n",
       "        0.0000e+00, 0.0000e+00, 0.0000e+00, 1.0000e+00, 0.0000e+00,\n",
       "        0.0000e+00, 0.0000e+00, 0.0000e+00, 0.0000e+00, 0.0000e+00,\n",
       "        0.0000e+00, 0.0000e+00, 0.0000e+00, 0.0000e+00, 0.0000e+00,\n",
       "        0.0000e+00, 0.0000e+00, 0.0000e+00, 0.0000e+00, 0.0000e+00,\n",
       "        0.0000e+00, 0.0000e+00, 1.0000e+00, 0.0000e+00, 2.0000e+00,\n",
       "        1.0000e+00, 9.0000e+00, 2.1000e+01, 4.0000e+01, 9.0000e+00,\n",
       "        2.7000e+01, 3.0000e+00, 1.3000e+01, 1.3000e+01, 4.0000e+00,\n",
       "        7.0000e+00, 1.8000e+01, 7.0000e+00, 1.5000e+01, 1.1000e+01,\n",
       "        1.3000e+01, 1.8000e+01, 1.2000e+01, 1.7000e+01, 4.0000e+00,\n",
       "        1.1000e+01, 1.2000e+01, 1.8000e+01, 2.3000e+01, 1.6000e+01,\n",
       "        2.8000e+01, 1.3000e+01, 7.0000e+00, 2.9000e+01, 3.2000e+01,\n",
       "        6.9000e+01, 3.6000e+01, 2.7000e+01, 5.6000e+01, 7.0000e+00,\n",
       "        1.5000e+01, 9.0000e+00, 1.8000e+01, 3.8000e+01, 4.7000e+01,\n",
       "        2.8000e+01, 5.0000e+01, 5.4000e+01, 1.8600e+02, 1.0600e+02,\n",
       "        5.2000e+01, 5.9000e+01, 5.2000e+01, 4.8000e+01, 7.6000e+01,\n",
       "        2.2700e+02, 5.2600e+02, 7.2000e+01, 7.9000e+01, 4.1000e+01,\n",
       "        6.7000e+01, 6.5000e+01, 7.1000e+01, 1.4100e+02, 1.1400e+02,\n",
       "        3.4400e+02, 1.4320e+03, 4.4200e+02, 2.0500e+02, 9.7000e+01,\n",
       "        1.5700e+02, 1.2300e+02, 6.2000e+01, 1.2000e+02, 5.2000e+01,\n",
       "        5.4000e+01, 6.7000e+01, 8.0000e+01, 5.8000e+01, 9.8000e+01,\n",
       "        7.7000e+01, 7.4000e+01, 7.8000e+01, 2.1800e+02, 7.3000e+01,\n",
       "        5.9000e+01, 8.7000e+01, 9.9000e+01, 1.8700e+02, 2.5900e+02,\n",
       "        3.6500e+02, 1.4300e+02, 1.3400e+02, 1.2300e+02, 1.1800e+02,\n",
       "        1.3400e+02, 4.6300e+02, 1.1630e+03, 5.0100e+02, 1.2300e+02,\n",
       "        1.3100e+02, 1.1800e+02, 1.1100e+02, 9.3000e+01, 9.6000e+01,\n",
       "        9.5000e+01, 8.7000e+01, 9.4000e+01, 6.5000e+01, 6.4000e+01,\n",
       "        5.5000e+01, 6.6000e+01, 7.5000e+01, 6.6000e+01, 1.1200e+02,\n",
       "        1.0600e+02, 7.4000e+01, 6.9000e+01, 9.2000e+01, 7.1000e+01,\n",
       "        4.1000e+01, 3.1000e+01, 2.8000e+01, 2.5000e+01, 2.1000e+01,\n",
       "        1.9000e+01, 3.6000e+01, 4.6000e+01, 2.6000e+01, 1.8000e+01,\n",
       "        4.0000e+00, 3.0000e+00, 2.0000e+00, 1.0000e+00, 0.0000e+00,\n",
       "        2.0000e+00, 8.0000e+00, 6.0000e+00, 0.0000e+00, 1.1000e+01,\n",
       "        3.0000e+00, 3.0000e+00, 0.0000e+00, 1.0000e+00, 2.0000e+00,\n",
       "        1.0000e+00, 0.0000e+00, 0.0000e+00, 2.0000e+00, 1.0000e+00]),\n",
       " array([17.93972222, 18.04450398, 18.14928573, 18.25406749, 18.35884924,\n",
       "        18.463631  , 18.56841275, 18.67319451, 18.77797626, 18.88275802,\n",
       "        18.98753978, 19.09232153, 19.19710329, 19.30188504, 19.4066668 ,\n",
       "        19.51144855, 19.61623031, 19.72101206, 19.82579382, 19.93057558,\n",
       "        20.03535733, 20.14013909, 20.24492084, 20.3497026 , 20.45448435,\n",
       "        20.55926611, 20.66404786, 20.76882962, 20.87361138, 20.97839313,\n",
       "        21.08317489, 21.18795664, 21.2927384 , 21.39752015, 21.50230191,\n",
       "        21.60708366, 21.71186542, 21.81664718, 21.92142893, 22.02621069,\n",
       "        22.13099244, 22.2357742 , 22.34055595, 22.44533771, 22.55011946,\n",
       "        22.65490122, 22.75968298, 22.86446473, 22.96924649, 23.07402824,\n",
       "        23.17881   , 23.28359175, 23.38837351, 23.49315526, 23.59793702,\n",
       "        23.70271878, 23.80750053, 23.91228229, 24.01706404, 24.1218458 ,\n",
       "        24.22662755, 24.33140931, 24.43619106, 24.54097282, 24.64575458,\n",
       "        24.75053633, 24.85531809, 24.96009984, 25.0648816 , 25.16966335,\n",
       "        25.27444511, 25.37922686, 25.48400862, 25.58879038, 25.69357213,\n",
       "        25.79835389, 25.90313564, 26.0079174 , 26.11269915, 26.21748091,\n",
       "        26.32226266, 26.42704442, 26.53182618, 26.63660793, 26.74138969,\n",
       "        26.84617144, 26.9509532 , 27.05573495, 27.16051671, 27.26529846,\n",
       "        27.37008022, 27.47486198, 27.57964373, 27.68442549, 27.78920724,\n",
       "        27.893989  , 27.99877075, 28.10355251, 28.20833426, 28.31311602,\n",
       "        28.41789778, 28.52267953, 28.62746129, 28.73224304, 28.8370248 ,\n",
       "        28.94180655, 29.04658831, 29.15137006, 29.25615182, 29.36093358,\n",
       "        29.46571533, 29.57049709, 29.67527884, 29.7800606 , 29.88484235,\n",
       "        29.98962411, 30.09440586, 30.19918762, 30.30396938, 30.40875113,\n",
       "        30.51353289, 30.61831464, 30.7230964 , 30.82787815, 30.93265991,\n",
       "        31.03744167, 31.14222342, 31.24700518, 31.35178693, 31.45656869,\n",
       "        31.56135044, 31.6661322 , 31.77091395, 31.87569571, 31.98047747,\n",
       "        32.08525922, 32.19004098, 32.29482273, 32.39960449, 32.50438624,\n",
       "        32.609168  , 32.71394975, 32.81873151, 32.92351327, 33.02829502,\n",
       "        33.13307678, 33.23785853, 33.34264029, 33.44742204, 33.5522038 ,\n",
       "        33.65698555, 33.76176731, 33.86654907, 33.97133082, 34.07611258,\n",
       "        34.18089433, 34.28567609, 34.39045784, 34.4952396 , 34.60002135,\n",
       "        34.70480311, 34.80958487, 34.91436662, 35.01914838, 35.12393013,\n",
       "        35.22871189, 35.33349364, 35.4382754 , 35.54305715, 35.64783891,\n",
       "        35.75262067, 35.85740242, 35.96218418, 36.06696593, 36.17174769,\n",
       "        36.27652944, 36.3813112 , 36.48609295, 36.59087471, 36.69565647,\n",
       "        36.80043822, 36.90521998, 37.01000173, 37.11478349, 37.21956524,\n",
       "        37.324347  , 37.42912875, 37.53391051, 37.63869227, 37.74347402,\n",
       "        37.84825578, 37.95303753, 38.05781929, 38.16260104, 38.2673828 ,\n",
       "        38.37216455, 38.47694631, 38.58172807, 38.68650982, 38.79129158,\n",
       "        38.89607333, 39.00085509, 39.10563684, 39.2104186 , 39.31520035,\n",
       "        39.41998211, 39.52476387, 39.62954562, 39.73432738, 39.83910913,\n",
       "        39.94389089, 40.04867264, 40.1534544 , 40.25823615, 40.36301791,\n",
       "        40.46779967, 40.57258142, 40.67736318, 40.78214493, 40.88692669,\n",
       "        40.99170844, 41.0964902 , 41.20127195, 41.30605371, 41.41083547,\n",
       "        41.51561722, 41.62039898, 41.72518073, 41.82996249, 41.93474424,\n",
       "        42.039526  , 42.14430775, 42.24908951, 42.35387127, 42.45865302,\n",
       "        42.56343478, 42.66821653, 42.77299829, 42.87778004, 42.9825618 ,\n",
       "        43.08734355, 43.19212531, 43.29690707, 43.40168882, 43.50647058,\n",
       "        43.61125233, 43.71603409, 43.82081584, 43.9255976 , 44.03037935,\n",
       "        44.13516111, 44.23994287, 44.34472462, 44.44950638, 44.55428813,\n",
       "        44.65906989, 44.76385164, 44.8686334 , 44.97341515, 45.07819691,\n",
       "        45.18297867, 45.28776042, 45.39254218, 45.49732393, 45.60210569,\n",
       "        45.70688744, 45.8116692 , 45.91645095, 46.02123271, 46.12601447,\n",
       "        46.23079622, 46.33557798, 46.44035973, 46.54514149, 46.64992324,\n",
       "        46.754705  , 46.85948675, 46.96426851, 47.06905027, 47.17383202,\n",
       "        47.27861378, 47.38339553, 47.48817729, 47.59295904, 47.6977408 ,\n",
       "        47.80252255, 47.90730431, 48.01208607, 48.11686782, 48.22164958,\n",
       "        48.32643133, 48.43121309, 48.53599484, 48.6407766 , 48.74555835,\n",
       "        48.85034011, 48.95512187, 49.05990362, 49.16468538, 49.26946713,\n",
       "        49.37424889, 49.47903064, 49.5838124 , 49.68859415, 49.79337591,\n",
       "        49.89815767, 50.00293942, 50.10772118, 50.21250293, 50.31728469,\n",
       "        50.42206644, 50.5268482 , 50.63162995, 50.73641171, 50.84119347,\n",
       "        50.94597522, 51.05075698, 51.15553873, 51.26032049, 51.36510224,\n",
       "        51.469884  , 51.57466575, 51.67944751, 51.78422927, 51.88901102,\n",
       "        51.99379278, 52.09857453, 52.20335629, 52.30813804, 52.4129198 ,\n",
       "        52.51770155, 52.62248331, 52.72726507, 52.83204682, 52.93682858,\n",
       "        53.04161033, 53.14639209, 53.25117384, 53.3559556 , 53.46073735,\n",
       "        53.56551911, 53.67030087, 53.77508262, 53.87986438, 53.98464613,\n",
       "        54.08942789, 54.19420964, 54.2989914 , 54.40377315, 54.50855491,\n",
       "        54.61333667, 54.71811842, 54.82290018, 54.92768193, 55.03246369,\n",
       "        55.13724544, 55.2420272 , 55.34680895, 55.45159071, 55.55637247,\n",
       "        55.66115422, 55.76593598, 55.87071773, 55.97549949, 56.08028124,\n",
       "        56.185063  , 56.28984475, 56.39462651, 56.49940827, 56.60419002,\n",
       "        56.70897178, 56.81375353, 56.91853529, 57.02331704, 57.1280988 ,\n",
       "        57.23288056, 57.33766231, 57.44244407, 57.54722582, 57.65200758,\n",
       "        57.75678933, 57.86157109, 57.96635284, 58.0711346 , 58.17591636,\n",
       "        58.28069811, 58.38547987, 58.49026162, 58.59504338, 58.69982513,\n",
       "        58.80460689, 58.90938864, 59.0141704 , 59.11895216, 59.22373391,\n",
       "        59.32851567, 59.43329742, 59.53807918, 59.64286093, 59.74764269,\n",
       "        59.85242444, 59.9572062 , 60.06198796, 60.16676971, 60.27155147,\n",
       "        60.37633322, 60.48111498, 60.58589673, 60.69067849, 60.79546024,\n",
       "        60.900242  , 61.00502376, 61.10980551, 61.21458727, 61.31936902,\n",
       "        61.42415078, 61.52893253, 61.63371429, 61.73849604, 61.8432778 ,\n",
       "        61.94805956, 62.05284131, 62.15762307, 62.26240482, 62.36718658,\n",
       "        62.47196833, 62.57675009, 62.68153184, 62.7863136 , 62.89109536,\n",
       "        62.99587711, 63.10065887, 63.20544062, 63.31022238, 63.41500413,\n",
       "        63.51978589, 63.62456764, 63.7293494 , 63.83413116, 63.93891291,\n",
       "        64.04369467, 64.14847642, 64.25325818, 64.35803993, 64.46282169,\n",
       "        64.56760344, 64.6723852 , 64.77716696, 64.88194871, 64.98673047,\n",
       "        65.09151222, 65.19629398, 65.30107573, 65.40585749, 65.51063924,\n",
       "        65.615421  , 65.72020276, 65.82498451, 65.92976627, 66.03454802,\n",
       "        66.13932978, 66.24411153, 66.34889329, 66.45367504, 66.5584568 ,\n",
       "        66.66323856, 66.76802031, 66.87280207, 66.97758382, 67.08236558,\n",
       "        67.18714733, 67.29192909, 67.39671084, 67.5014926 , 67.60627436,\n",
       "        67.71105611, 67.81583787, 67.92061962, 68.02540138, 68.13018313,\n",
       "        68.23496489, 68.33974664, 68.4445284 , 68.54931016, 68.65409191,\n",
       "        68.75887367, 68.86365542, 68.96843718, 69.07321893, 69.17800069,\n",
       "        69.28278244, 69.3875642 , 69.49234596, 69.59712771, 69.70190947,\n",
       "        69.80669122, 69.91147298, 70.01625473, 70.12103649, 70.22581824,\n",
       "        70.3306    ]),\n",
       " <a list of 500 Patch objects>)"
      ]
     },
     "execution_count": 20,
     "metadata": {},
     "output_type": "execute_result"
    },
    {
     "data": {
      "image/png": "[encoded data removed]",
      "text/plain": [
       "<Figure size 432x288 with 1 Axes>"
      ]
     },
     "metadata": {
      "needs_background": "light"
     },
     "output_type": "display_data"
    }
   ],
   "source": [
    "plt.hist(lat_arr,bins = 500)"
   ]
  },
  {
   "cell_type": "code",
   "execution_count": 21,
   "metadata": {},
   "outputs": [],
   "source": [
    "long_arr = data_location['LONGITUDE']"
   ]
  },
  {
   "cell_type": "code",
   "execution_count": 22,
   "metadata": {
    "scrolled": true
   },
   "outputs": [
    {
     "data": {
      "text/plain": [
       "(array([1.0000e+00, 0.0000e+00, 0.0000e+00, 0.0000e+00, 0.0000e+00,\n",
       "        0.0000e+00, 0.0000e+00, 0.0000e+00, 0.0000e+00, 0.0000e+00,\n",
       "        0.0000e+00, 0.0000e+00, 0.0000e+00, 0.0000e+00, 0.0000e+00,\n",
       "        0.0000e+00, 0.0000e+00, 0.0000e+00, 0.0000e+00, 0.0000e+00,\n",
       "        0.0000e+00, 0.0000e+00, 0.0000e+00, 1.0000e+00, 0.0000e+00,\n",
       "        0.0000e+00, 0.0000e+00, 0.0000e+00, 0.0000e+00, 0.0000e+00,\n",
       "        0.0000e+00, 0.0000e+00, 0.0000e+00, 0.0000e+00, 0.0000e+00,\n",
       "        0.0000e+00, 0.0000e+00, 1.0000e+00, 0.0000e+00, 0.0000e+00,\n",
       "        0.0000e+00, 0.0000e+00, 0.0000e+00, 1.0000e+00, 0.0000e+00,\n",
       "        0.0000e+00, 0.0000e+00, 0.0000e+00, 0.0000e+00, 0.0000e+00,\n",
       "        0.0000e+00, 0.0000e+00, 1.0000e+00, 0.0000e+00, 0.0000e+00,\n",
       "        4.0000e+00, 5.0000e+00, 2.0000e+00, 3.0000e+00, 6.0000e+00,\n",
       "        8.0000e+00, 4.0000e+00, 1.0000e+01, 1.4000e+01, 3.0000e+00,\n",
       "        4.0000e+00, 2.0000e+01, 1.4000e+01, 2.6000e+01, 3.0000e+01,\n",
       "        1.9000e+01, 2.5000e+01, 2.3000e+01, 2.1000e+01, 3.0000e+01,\n",
       "        3.2000e+01, 2.8000e+01, 2.5000e+01, 4.5000e+01, 4.9000e+01,\n",
       "        4.2000e+01, 4.3000e+01, 3.7000e+01, 5.4000e+01, 3.5200e+02,\n",
       "        6.2700e+02, 3.2000e+01, 3.6000e+01, 4.0000e+01, 5.2000e+01,\n",
       "        2.4170e+03, 3.1100e+03, 1.3710e+03, 1.6900e+02, 7.6000e+01,\n",
       "        1.1700e+02, 1.0400e+02, 2.8800e+02, 6.1600e+02, 1.7900e+02,\n",
       "        3.0500e+02, 3.7000e+02, 2.7100e+02, 1.8100e+02, 3.2800e+02,\n",
       "        1.4600e+02, 6.8000e+01, 5.3000e+01, 6.4000e+01, 4.0000e+01,\n",
       "        4.2000e+01, 4.1000e+01, 3.2000e+01, 3.5000e+01, 3.9000e+01,\n",
       "        5.9000e+01, 6.2000e+01, 3.8000e+01, 8.3000e+01, 2.1400e+02,\n",
       "        2.7300e+02, 4.7300e+02, 2.3900e+02, 1.5500e+02, 1.2400e+02,\n",
       "        1.2200e+02, 3.3300e+02, 4.4600e+02, 6.0100e+02, 7.1900e+02,\n",
       "        5.7300e+02, 3.6900e+02, 1.5300e+02, 7.3000e+01, 9.9000e+01,\n",
       "        2.3700e+02, 7.0200e+02, 4.1900e+02, 4.1700e+02, 1.5900e+02,\n",
       "        1.6300e+02, 1.3300e+02, 1.3200e+02, 1.1200e+02, 1.0800e+02,\n",
       "        3.9000e+02, 2.2600e+02, 2.2400e+02, 1.2800e+02, 9.1000e+01,\n",
       "        6.4000e+01, 7.5000e+01, 5.5000e+01, 6.3000e+01, 4.7000e+01,\n",
       "        4.7000e+01, 7.7000e+01, 1.5300e+02, 4.6000e+01, 5.1000e+01,\n",
       "        5.0000e+01, 4.2000e+01, 5.7000e+01, 4.7000e+01, 3.9000e+01,\n",
       "        6.1000e+01, 2.7000e+01, 0.0000e+00, 0.0000e+00, 0.0000e+00,\n",
       "        0.0000e+00, 0.0000e+00, 1.0000e+00, 0.0000e+00, 0.0000e+00,\n",
       "        0.0000e+00, 0.0000e+00, 1.0000e+00, 0.0000e+00, 0.0000e+00,\n",
       "        0.0000e+00, 0.0000e+00, 0.0000e+00, 0.0000e+00, 0.0000e+00,\n",
       "        0.0000e+00, 1.0000e+00, 1.0000e+01, 1.7000e+01, 1.3000e+01,\n",
       "        8.7000e+01, 7.4000e+01, 2.5000e+01, 8.9000e+01, 8.8000e+01,\n",
       "        1.3000e+01, 7.0000e+00, 8.0000e+00, 1.1000e+01, 1.0000e+01,\n",
       "        2.4000e+01, 2.5000e+01, 2.4000e+01, 4.8000e+01, 2.3000e+01,\n",
       "        1.1000e+01, 1.3000e+01, 2.1000e+01, 6.0000e+00, 1.0000e+00,\n",
       "        2.0000e+00, 0.0000e+00, 0.0000e+00, 0.0000e+00, 3.0000e+00,\n",
       "        0.0000e+00, 0.0000e+00, 0.0000e+00, 0.0000e+00, 0.0000e+00,\n",
       "        0.0000e+00, 0.0000e+00, 0.0000e+00, 0.0000e+00, 0.0000e+00,\n",
       "        0.0000e+00, 0.0000e+00, 0.0000e+00, 0.0000e+00, 0.0000e+00,\n",
       "        0.0000e+00, 0.0000e+00, 0.0000e+00, 0.0000e+00, 0.0000e+00,\n",
       "        0.0000e+00, 0.0000e+00, 0.0000e+00, 1.2700e+02, 6.9000e+02,\n",
       "        2.4820e+03, 2.8810e+03, 8.2500e+03, 5.6470e+03, 7.0560e+03,\n",
       "        6.8230e+03, 7.6180e+03, 8.1880e+03, 1.0983e+04, 1.0760e+04,\n",
       "        9.1310e+03, 1.2662e+04, 1.2680e+04, 1.1622e+04, 1.4050e+04,\n",
       "        1.3574e+04, 1.3698e+04, 1.1384e+04, 9.3880e+03, 6.7560e+03,\n",
       "        8.1820e+03, 7.4010e+03, 6.3070e+03, 6.6760e+03, 6.8500e+03,\n",
       "        5.4920e+03, 5.8940e+03, 4.2220e+03, 4.2390e+03, 6.1320e+03,\n",
       "        9.8070e+03, 1.1014e+04, 1.0158e+04, 7.2210e+03, 5.5880e+03,\n",
       "        7.0430e+03, 6.4450e+03, 6.0380e+03, 6.2180e+03, 4.6540e+03,\n",
       "        4.1850e+03, 4.6050e+03, 6.0230e+03, 5.9590e+03, 4.9940e+03,\n",
       "        4.8550e+03, 4.3730e+03, 4.5990e+03, 3.1860e+03, 4.2600e+03,\n",
       "        3.3410e+03, 4.8100e+03, 5.4540e+03, 1.0562e+04, 9.1240e+03,\n",
       "        9.3450e+03, 9.0940e+03, 5.5190e+03, 4.6840e+03, 5.7470e+03,\n",
       "        8.1980e+03, 4.3100e+03, 4.0640e+03, 5.9170e+03, 3.9870e+03,\n",
       "        4.6650e+03, 4.7180e+03, 5.0500e+03, 7.3130e+03, 7.0630e+03,\n",
       "        5.6010e+03, 3.8870e+03, 3.8350e+03, 3.8400e+03, 4.0920e+03,\n",
       "        2.7730e+03, 3.9820e+03, 5.2940e+03, 3.6840e+03, 2.9020e+03,\n",
       "        3.2510e+03, 3.5600e+03, 4.1470e+03, 4.5910e+03, 4.9950e+03,\n",
       "        3.4370e+03, 2.3890e+03, 2.0700e+03, 1.4780e+03, 1.8550e+03,\n",
       "        2.2610e+03, 3.4600e+03, 3.2620e+03, 1.9820e+03, 2.5410e+03,\n",
       "        6.1600e+03, 3.5120e+03, 1.7110e+03, 2.6660e+03, 2.4750e+03,\n",
       "        2.3460e+03, 2.5620e+03, 3.0030e+03, 4.7440e+03, 4.6140e+03,\n",
       "        2.2940e+03, 2.5570e+03, 3.7830e+03, 4.4080e+03, 3.2690e+03,\n",
       "        3.7080e+03, 8.7290e+03, 6.3210e+03, 6.1570e+03, 6.6600e+03,\n",
       "        8.0140e+03, 6.4680e+03, 6.2260e+03, 6.3980e+03, 6.1080e+03,\n",
       "        5.3640e+03, 5.7000e+03, 6.1390e+03, 7.2380e+03, 6.0880e+03,\n",
       "        7.9550e+03, 1.0975e+04, 1.2426e+04, 1.8465e+04, 2.4482e+04,\n",
       "        1.8887e+04, 1.1924e+04, 9.5670e+03, 9.7780e+03, 8.7600e+03,\n",
       "        7.9950e+03, 8.6520e+03, 9.2460e+03, 1.1357e+04, 1.0350e+04,\n",
       "        7.9320e+03, 5.8630e+03, 5.4070e+03, 4.1140e+03, 3.8930e+03,\n",
       "        4.3410e+03, 5.0340e+03, 5.8420e+03, 6.9720e+03, 7.3940e+03,\n",
       "        8.0930e+03, 1.3618e+04, 1.3998e+04, 1.5557e+04, 1.3340e+04,\n",
       "        1.0527e+04, 9.7580e+03, 9.5740e+03, 9.5730e+03, 9.1650e+03,\n",
       "        6.5420e+03, 7.9090e+03, 7.9760e+03, 8.6640e+03, 7.1380e+03,\n",
       "        6.1830e+03, 6.2740e+03, 6.8080e+03, 7.0240e+03, 8.2280e+03,\n",
       "        1.0950e+04, 1.2913e+04, 1.2761e+04, 1.3099e+04, 1.3003e+04,\n",
       "        1.2505e+04, 1.4373e+04, 1.4575e+04, 1.6025e+04, 1.7072e+04,\n",
       "        2.0769e+04, 1.9415e+04, 1.9034e+04, 2.3429e+04, 2.2549e+04,\n",
       "        2.1815e+04, 2.4793e+04, 2.3437e+04, 2.5260e+04, 2.1581e+04,\n",
       "        1.8730e+04, 1.4843e+04, 1.5113e+04, 1.5190e+04, 1.3510e+04,\n",
       "        1.3261e+04, 1.4106e+04, 1.1209e+04, 1.1881e+04, 1.2176e+04,\n",
       "        1.0213e+04, 7.3580e+03, 7.3810e+03, 8.1510e+03, 6.8240e+03,\n",
       "        7.4670e+03, 4.8060e+03, 4.3460e+03, 4.4050e+03, 3.7390e+03,\n",
       "        3.3990e+03, 3.2520e+03, 4.2700e+03, 4.7720e+03, 2.8240e+03,\n",
       "        2.4490e+03, 4.6310e+03, 7.5090e+03, 6.7490e+03, 7.7410e+03,\n",
       "        1.1822e+04, 1.3099e+04, 1.3689e+04, 6.5410e+03, 3.9040e+03,\n",
       "        4.5560e+03, 2.3660e+03, 1.2670e+03, 1.4450e+03, 7.0200e+02,\n",
       "        9.5900e+02, 8.0200e+02, 9.6800e+02, 7.9600e+02, 1.0410e+03,\n",
       "        1.0740e+03, 1.1680e+03, 8.9200e+02, 7.4800e+02, 8.3400e+02,\n",
       "        9.1600e+02, 7.8700e+02, 8.7500e+02, 8.7700e+02, 9.5200e+02,\n",
       "        8.1100e+02, 7.8800e+02, 7.3400e+02, 1.2030e+03, 4.0800e+02,\n",
       "        3.1800e+02, 4.6520e+03, 4.6780e+03, 2.1640e+03, 3.8740e+03,\n",
       "        3.5850e+03, 1.8260e+03, 1.0680e+03, 2.0700e+02, 4.8200e+02]),\n",
       " array([-178.8026    , -178.57550869, -178.34841738, -178.12132607,\n",
       "        -177.89423476, -177.66714344, -177.44005213, -177.21296082,\n",
       "        -176.98586951, -176.7587782 , -176.53168689, -176.30459558,\n",
       "        -176.07750427, -175.85041296, -175.62332164, -175.39623033,\n",
       "        -175.16913902, -174.94204771, -174.7149564 , -174.48786509,\n",
       "        -174.26077378, -174.03368247, -173.80659116, -173.57949984,\n",
       "        -173.35240853, -173.12531722, -172.89822591, -172.6711346 ,\n",
       "        -172.44404329, -172.21695198, -171.98986067, -171.76276936,\n",
       "        -171.53567804, -171.30858673, -171.08149542, -170.85440411,\n",
       "        -170.6273128 , -170.40022149, -170.17313018, -169.94603887,\n",
       "        -169.71894756, -169.49185624, -169.26476493, -169.03767362,\n",
       "        -168.81058231, -168.583491  , -168.35639969, -168.12930838,\n",
       "        -167.90221707, -167.67512576, -167.44803444, -167.22094313,\n",
       "        -166.99385182, -166.76676051, -166.5396692 , -166.31257789,\n",
       "        -166.08548658, -165.85839527, -165.63130396, -165.40421264,\n",
       "        -165.17712133, -164.95003002, -164.72293871, -164.4958474 ,\n",
       "        -164.26875609, -164.04166478, -163.81457347, -163.58748215,\n",
       "        -163.36039084, -163.13329953, -162.90620822, -162.67911691,\n",
       "        -162.4520256 , -162.22493429, -161.99784298, -161.77075167,\n",
       "        -161.54366035, -161.31656904, -161.08947773, -160.86238642,\n",
       "        -160.63529511, -160.4082038 , -160.18111249, -159.95402118,\n",
       "        -159.72692987, -159.49983855, -159.27274724, -159.04565593,\n",
       "        -158.81856462, -158.59147331, -158.364382  , -158.13729069,\n",
       "        -157.91019938, -157.68310807, -157.45601675, -157.22892544,\n",
       "        -157.00183413, -156.77474282, -156.54765151, -156.3205602 ,\n",
       "        -156.09346889, -155.86637758, -155.63928627, -155.41219495,\n",
       "        -155.18510364, -154.95801233, -154.73092102, -154.50382971,\n",
       "        -154.2767384 , -154.04964709, -153.82255578, -153.59546447,\n",
       "        -153.36837315, -153.14128184, -152.91419053, -152.68709922,\n",
       "        -152.46000791, -152.2329166 , -152.00582529, -151.77873398,\n",
       "        -151.55164267, -151.32455135, -151.09746004, -150.87036873,\n",
       "        -150.64327742, -150.41618611, -150.1890948 , -149.96200349,\n",
       "        -149.73491218, -149.50782087, -149.28072955, -149.05363824,\n",
       "        -148.82654693, -148.59945562, -148.37236431, -148.145273  ,\n",
       "        -147.91818169, -147.69109038, -147.46399907, -147.23690775,\n",
       "        -147.00981644, -146.78272513, -146.55563382, -146.32854251,\n",
       "        -146.1014512 , -145.87435989, -145.64726858, -145.42017727,\n",
       "        -145.19308595, -144.96599464, -144.73890333, -144.51181202,\n",
       "        -144.28472071, -144.0576294 , -143.83053809, -143.60344678,\n",
       "        -143.37635547, -143.14926415, -142.92217284, -142.69508153,\n",
       "        -142.46799022, -142.24089891, -142.0138076 , -141.78671629,\n",
       "        -141.55962498, -141.33253367, -141.10544235, -140.87835104,\n",
       "        -140.65125973, -140.42416842, -140.19707711, -139.9699858 ,\n",
       "        -139.74289449, -139.51580318, -139.28871187, -139.06162055,\n",
       "        -138.83452924, -138.60743793, -138.38034662, -138.15325531,\n",
       "        -137.926164  , -137.69907269, -137.47198138, -137.24489007,\n",
       "        -137.01779875, -136.79070744, -136.56361613, -136.33652482,\n",
       "        -136.10943351, -135.8823422 , -135.65525089, -135.42815958,\n",
       "        -135.20106826, -134.97397695, -134.74688564, -134.51979433,\n",
       "        -134.29270302, -134.06561171, -133.8385204 , -133.61142909,\n",
       "        -133.38433778, -133.15724646, -132.93015515, -132.70306384,\n",
       "        -132.47597253, -132.24888122, -132.02178991, -131.7946986 ,\n",
       "        -131.56760729, -131.34051598, -131.11342466, -130.88633335,\n",
       "        -130.65924204, -130.43215073, -130.20505942, -129.97796811,\n",
       "        -129.7508768 , -129.52378549, -129.29669418, -129.06960286,\n",
       "        -128.84251155, -128.61542024, -128.38832893, -128.16123762,\n",
       "        -127.93414631, -127.707055  , -127.47996369, -127.25287238,\n",
       "        -127.02578106, -126.79868975, -126.57159844, -126.34450713,\n",
       "        -126.11741582, -125.89032451, -125.6632332 , -125.43614189,\n",
       "        -125.20905058, -124.98195926, -124.75486795, -124.52777664,\n",
       "        -124.30068533, -124.07359402, -123.84650271, -123.6194114 ,\n",
       "        -123.39232009, -123.16522878, -122.93813746, -122.71104615,\n",
       "        -122.48395484, -122.25686353, -122.02977222, -121.80268091,\n",
       "        -121.5755896 , -121.34849829, -121.12140698, -120.89431566,\n",
       "        -120.66722435, -120.44013304, -120.21304173, -119.98595042,\n",
       "        -119.75885911, -119.5317678 , -119.30467649, -119.07758518,\n",
       "        -118.85049386, -118.62340255, -118.39631124, -118.16921993,\n",
       "        -117.94212862, -117.71503731, -117.487946  , -117.26085469,\n",
       "        -117.03376338, -116.80667206, -116.57958075, -116.35248944,\n",
       "        -116.12539813, -115.89830682, -115.67121551, -115.4441242 ,\n",
       "        -115.21703289, -114.98994158, -114.76285026, -114.53575895,\n",
       "        -114.30866764, -114.08157633, -113.85448502, -113.62739371,\n",
       "        -113.4003024 , -113.17321109, -112.94611978, -112.71902846,\n",
       "        -112.49193715, -112.26484584, -112.03775453, -111.81066322,\n",
       "        -111.58357191, -111.3564806 , -111.12938929, -110.90229798,\n",
       "        -110.67520666, -110.44811535, -110.22102404, -109.99393273,\n",
       "        -109.76684142, -109.53975011, -109.3126588 , -109.08556749,\n",
       "        -108.85847618, -108.63138486, -108.40429355, -108.17720224,\n",
       "        -107.95011093, -107.72301962, -107.49592831, -107.268837  ,\n",
       "        -107.04174569, -106.81465437, -106.58756306, -106.36047175,\n",
       "        -106.13338044, -105.90628913, -105.67919782, -105.45210651,\n",
       "        -105.2250152 , -104.99792389, -104.77083257, -104.54374126,\n",
       "        -104.31664995, -104.08955864, -103.86246733, -103.63537602,\n",
       "        -103.40828471, -103.1811934 , -102.95410209, -102.72701077,\n",
       "        -102.49991946, -102.27282815, -102.04573684, -101.81864553,\n",
       "        -101.59155422, -101.36446291, -101.1373716 , -100.91028029,\n",
       "        -100.68318897, -100.45609766, -100.22900635, -100.00191504,\n",
       "         -99.77482373,  -99.54773242,  -99.32064111,  -99.0935498 ,\n",
       "         -98.86645849,  -98.63936717,  -98.41227586,  -98.18518455,\n",
       "         -97.95809324,  -97.73100193,  -97.50391062,  -97.27681931,\n",
       "         -97.049728  ,  -96.82263669,  -96.59554537,  -96.36845406,\n",
       "         -96.14136275,  -95.91427144,  -95.68718013,  -95.46008882,\n",
       "         -95.23299751,  -95.0059062 ,  -94.77881489,  -94.55172357,\n",
       "         -94.32463226,  -94.09754095,  -93.87044964,  -93.64335833,\n",
       "         -93.41626702,  -93.18917571,  -92.9620844 ,  -92.73499309,\n",
       "         -92.50790177,  -92.28081046,  -92.05371915,  -91.82662784,\n",
       "         -91.59953653,  -91.37244522,  -91.14535391,  -90.9182626 ,\n",
       "         -90.69117129,  -90.46407997,  -90.23698866,  -90.00989735,\n",
       "         -89.78280604,  -89.55571473,  -89.32862342,  -89.10153211,\n",
       "         -88.8744408 ,  -88.64734949,  -88.42025817,  -88.19316686,\n",
       "         -87.96607555,  -87.73898424,  -87.51189293,  -87.28480162,\n",
       "         -87.05771031,  -86.830619  ,  -86.60352769,  -86.37643637,\n",
       "         -86.14934506,  -85.92225375,  -85.69516244,  -85.46807113,\n",
       "         -85.24097982,  -85.01388851,  -84.7867972 ,  -84.55970589,\n",
       "         -84.33261457,  -84.10552326,  -83.87843195,  -83.65134064,\n",
       "         -83.42424933,  -83.19715802,  -82.97006671,  -82.7429754 ,\n",
       "         -82.51588409,  -82.28879277,  -82.06170146,  -81.83461015,\n",
       "         -81.60751884,  -81.38042753,  -81.15333622,  -80.92624491,\n",
       "         -80.6991536 ,  -80.47206229,  -80.24497097,  -80.01787966,\n",
       "         -79.79078835,  -79.56369704,  -79.33660573,  -79.10951442,\n",
       "         -78.88242311,  -78.6553318 ,  -78.42824048,  -78.20114917,\n",
       "         -77.97405786,  -77.74696655,  -77.51987524,  -77.29278393,\n",
       "         -77.06569262,  -76.83860131,  -76.61151   ,  -76.38441868,\n",
       "         -76.15732737,  -75.93023606,  -75.70314475,  -75.47605344,\n",
       "         -75.24896213,  -75.02187082,  -74.79477951,  -74.5676882 ,\n",
       "         -74.34059688,  -74.11350557,  -73.88641426,  -73.65932295,\n",
       "         -73.43223164,  -73.20514033,  -72.97804902,  -72.75095771,\n",
       "         -72.5238664 ,  -72.29677508,  -72.06968377,  -71.84259246,\n",
       "         -71.61550115,  -71.38840984,  -71.16131853,  -70.93422722,\n",
       "         -70.70713591,  -70.4800446 ,  -70.25295328,  -70.02586197,\n",
       "         -69.79877066,  -69.57167935,  -69.34458804,  -69.11749673,\n",
       "         -68.89040542,  -68.66331411,  -68.4362228 ,  -68.20913148,\n",
       "         -67.98204017,  -67.75494886,  -67.52785755,  -67.30076624,\n",
       "         -67.07367493,  -66.84658362,  -66.61949231,  -66.392401  ,\n",
       "         -66.16530968,  -65.93821837,  -65.71112706,  -65.48403575,\n",
       "         -65.25694444]),\n",
       " <a list of 500 Patch objects>)"
      ]
     },
     "execution_count": 22,
     "metadata": {},
     "output_type": "execute_result"
    },
    {
     "data": {
      "image/png": "[encoded data removed]",
      "text/plain": [
       "<Figure size 432x288 with 1 Axes>"
      ]
     },
     "metadata": {
      "needs_background": "light"
     },
     "output_type": "display_data"
    }
   ],
   "source": [
    "plt.hist(long_arr,bins=500)"
   ]
  },
  {
   "cell_type": "markdown",
   "metadata": {},
   "source": [
    "### Show some basic data correlations"
   ]
  },
  {
   "cell_type": "markdown",
   "metadata": {},
   "source": [
    "All data correlations"
   ]
  },
  {
   "cell_type": "code",
   "execution_count": 23,
   "metadata": {},
   "outputs": [],
   "source": [
    "wildfire_data = pd.read_sql_query(\"SELECT fire_size, latitude, longitude FROM fires;\", conn)"
   ]
  },
  {
   "cell_type": "code",
   "execution_count": 24,
   "metadata": {},
   "outputs": [
    {
     "data": {
      "image/png": "[encoded data removed]",
      "text/plain": [
       "<Figure size 432x288 with 2 Axes>"
      ]
     },
     "metadata": {
      "needs_background": "light"
     },
     "output_type": "display_data"
    }
   ],
   "source": [
    "f,ax = plt.subplots()\n",
    "svm = sns.heatmap(wildfire_data.corr(), annot = True, linewidths = .5, fmt = '.2f', ax = ax)\n",
    "plt.show()\n",
    "figure = svm.get_figure()"
   ]
  },
  {
   "cell_type": "markdown",
   "metadata": {},
   "source": [
    "Small fire correlations"
   ]
  },
  {
   "cell_type": "code",
   "execution_count": 25,
   "metadata": {},
   "outputs": [
    {
     "data": {
      "text/plain": [
       "'A'"
      ]
     },
     "execution_count": 25,
     "metadata": {},
     "output_type": "execute_result"
    }
   ],
   "source": [
    "fire_size_class_arr[0]"
   ]
  },
  {
   "cell_type": "code",
   "execution_count": 26,
   "metadata": {},
   "outputs": [
    {
     "data": {
      "text/plain": [
       "1880465"
      ]
     },
     "execution_count": 26,
     "metadata": {},
     "output_type": "execute_result"
    }
   ],
   "source": [
    "len(fire_size_class_arr)"
   ]
  },
  {
   "cell_type": "code",
   "execution_count": 27,
   "metadata": {},
   "outputs": [],
   "source": [
    "size_key = 'G'"
   ]
  },
  {
   "cell_type": "code",
   "execution_count": 28,
   "metadata": {},
   "outputs": [],
   "source": [
    "large_size_wildfire_data = {}"
   ]
  },
  {
   "cell_type": "code",
   "execution_count": 29,
   "metadata": {},
   "outputs": [],
   "source": [
    "large_size_wildfire_data.update({'FIRE_SIZE':[fire_size_arr[i] for i in range(len(fire_size_arr)) \\\n",
    "                                              if fire_size_class_arr[i]==size_key]})"
   ]
  },
  {
   "cell_type": "code",
   "execution_count": 30,
   "metadata": {},
   "outputs": [],
   "source": [
    "large_size_wildfire_data.update({'LATITUDE':[lat_arr[i] for i in range(len(fire_size_arr)) \\\n",
    "                                              if fire_size_class_arr[i]==size_key]})"
   ]
  },
  {
   "cell_type": "code",
   "execution_count": 31,
   "metadata": {},
   "outputs": [],
   "source": [
    "large_size_wildfire_data.update({'LONGITUDE':[long_arr[i] for i in range(len(fire_size_arr)) \\\n",
    "                                              if fire_size_class_arr[i]==size_key]})"
   ]
  },
  {
   "cell_type": "code",
   "execution_count": 32,
   "metadata": {},
   "outputs": [],
   "source": [
    "large_size_wildfire_data.update({'DISCOVERY_DATE':[data_dates_arr[i] for i in range(len(fire_size_arr)) \\\n",
    "                                              if fire_size_class_arr[i]==size_key]})"
   ]
  },
  {
   "cell_type": "code",
   "execution_count": 33,
   "metadata": {},
   "outputs": [],
   "source": [
    "large_size_wildfire_data.update({'FIRE_YEAR':[fire_year_arr[i] for i in range(len(fire_size_arr)) \\\n",
    "                                              if fire_size_class_arr[i]==size_key]})"
   ]
  },
  {
   "cell_type": "code",
   "execution_count": 34,
   "metadata": {},
   "outputs": [],
   "source": [
    "large_size_wildfire_data_pd = pd.DataFrame(large_size_wildfire_data)"
   ]
  },
  {
   "cell_type": "code",
   "execution_count": 35,
   "metadata": {},
   "outputs": [
    {
     "data": {
      "image/png": "[encoded data removed]",
      "text/plain": [
       "<Figure size 432x288 with 2 Axes>"
      ]
     },
     "metadata": {
      "needs_background": "light"
     },
     "output_type": "display_data"
    }
   ],
   "source": [
    "f,ax = plt.subplots()\n",
    "svm = sns.heatmap(large_size_wildfire_data_pd.corr(), annot = True, linewidths = .5, fmt = '.2f', ax = ax)\n",
    "plt.show()\n",
    "figure = svm.get_figure()"
   ]
  },
  {
   "cell_type": "markdown",
   "metadata": {},
   "source": [
    "Large size, with class F and G"
   ]
  },
  {
   "cell_type": "code",
   "execution_count": null,
   "metadata": {},
   "outputs": [],
   "source": [
    "small_size_wildfire_data = {}"
   ]
  },
  {
   "cell_type": "code",
   "execution_count": null,
   "metadata": {},
   "outputs": [],
   "source": [
    "small_size_wildfire_data.update({'FIRE_SIZE':[fire_size_arr[i] for i in range(len(fire_size_arr)) \\\n",
    "                                              if fire_size_class_arr[i]=='F' or fire_size_class_arr[i]=='G']})"
   ]
  },
  {
   "cell_type": "code",
   "execution_count": null,
   "metadata": {},
   "outputs": [],
   "source": [
    "small_size_wildfire_data.update({'LATITUDE':[lat_arr[i] for i in range(len(fire_size_arr)) \\\n",
    "                                              if fire_size_class_arr[i]=='F' or fire_size_class_arr[i]=='G']})"
   ]
  },
  {
   "cell_type": "code",
   "execution_count": null,
   "metadata": {},
   "outputs": [],
   "source": [
    "small_size_wildfire_data.update({'LONGITUDE':[long_arr[i] for i in range(len(fire_size_arr)) \\\n",
    "                                              if fire_size_class_arr[i]=='F' or fire_size_class_arr[i]=='G']})"
   ]
  },
  {
   "cell_type": "code",
   "execution_count": null,
   "metadata": {},
   "outputs": [],
   "source": [
    "small_size_wildfire_data = pd.DataFrame(small_size_wildfire_data)"
   ]
  },
  {
   "cell_type": "code",
   "execution_count": null,
   "metadata": {},
   "outputs": [],
   "source": [
    "f,ax = plt.subplots()\n",
    "svm = sns.heatmap(small_size_wildfire_data.corr(), annot = True, linewidths = .5, fmt = '.2f', ax = ax)\n",
    "plt.show()\n",
    "figure = svm.get_figure()"
   ]
  },
  {
   "cell_type": "markdown",
   "metadata": {},
   "source": [
    "###  Data filtering: By Area"
   ]
  },
  {
   "cell_type": "markdown",
   "metadata": {},
   "source": [
    "Based on the observed data, it is decided to specifically geolocate, i terms of latitude and longitude, where the largest of these fires are occuring. "
   ]
  },
  {
   "cell_type": "markdown",
   "metadata": {},
   "source": [
    "Fires of category G are considered, with areas greater than 5000 hectares"
   ]
  },
  {
   "cell_type": "code",
   "execution_count": 72,
   "metadata": {},
   "outputs": [],
   "source": [
    "large_fire_len = len(large_size_wildfire_data['FIRE_SIZE'])"
   ]
  },
  {
   "cell_type": "code",
   "execution_count": 66,
   "metadata": {
    "scrolled": false
   },
   "outputs": [
    {
     "data": {
      "text/plain": [
       "(array([3.089e+03, 3.650e+02, 1.210e+02, 6.000e+01, 3.500e+01, 2.700e+01,\n",
       "        2.000e+01, 1.600e+01, 8.000e+00, 7.000e+00, 7.000e+00, 4.000e+00,\n",
       "        1.000e+00, 2.000e+00, 1.000e+00, 4.000e+00, 1.000e+00, 3.000e+00,\n",
       "        1.000e+00, 1.000e+00]),\n",
       " array([  5000.  ,  35097.25,  65194.5 ,  95291.75, 125389.  , 155486.25,\n",
       "        185583.5 , 215680.75, 245778.  , 275875.25, 305972.5 , 336069.75,\n",
       "        366167.  , 396264.25, 426361.5 , 456458.75, 486556.  , 516653.25,\n",
       "        546750.5 , 576847.75, 606945.  ]),\n",
       " <a list of 20 Patch objects>)"
      ]
     },
     "execution_count": 66,
     "metadata": {},
     "output_type": "execute_result"
    },
    {
     "data": {
      "image/png": "[encoded data removed]",
      "text/plain": [
       "<Figure size 432x288 with 1 Axes>"
      ]
     },
     "metadata": {
      "needs_background": "light"
     },
     "output_type": "display_data"
    }
   ],
   "source": [
    "plt.yscale('log')\n",
    "plt.hist(large_size_wildfire_data['FIRE_SIZE'],bins=20)"
   ]
  },
  {
   "cell_type": "markdown",
   "metadata": {},
   "source": [
    "The above histogram shows the distribution of the large sized fires. "
   ]
  },
  {
   "cell_type": "code",
   "execution_count": 38,
   "metadata": {},
   "outputs": [
    {
     "data": {
      "text/plain": [
       "5000.0"
      ]
     },
     "execution_count": 38,
     "metadata": {},
     "output_type": "execute_result"
    }
   ],
   "source": [
    "min(large_size_wildfire_data['FIRE_SIZE'])"
   ]
  },
  {
   "cell_type": "code",
   "execution_count": 39,
   "metadata": {},
   "outputs": [
    {
     "data": {
      "text/plain": [
       "606945.0"
      ]
     },
     "execution_count": 39,
     "metadata": {},
     "output_type": "execute_result"
    }
   ],
   "source": [
    "max(large_size_wildfire_data['FIRE_SIZE'])"
   ]
  },
  {
   "cell_type": "code",
   "execution_count": 40,
   "metadata": {},
   "outputs": [
    {
     "data": {
      "text/plain": [
       "dict_keys(['FIRE_SIZE', 'LATITUDE', 'LONGITUDE', 'DISCOVERY_DATE', 'FIRE_YEAR'])"
      ]
     },
     "execution_count": 40,
     "metadata": {},
     "output_type": "execute_result"
    }
   ],
   "source": [
    "large_size_wildfire_data.keys()"
   ]
  },
  {
   "cell_type": "code",
   "execution_count": 46,
   "metadata": {},
   "outputs": [
    {
     "data": {
      "text/plain": [
       "(array([  8.,   1.,   0.,  75.,  27.,  38., 134., 190., 345., 230., 220.,\n",
       "        178., 346., 378., 316., 372., 178.,  87.,   0.,   0.,   0.,   0.,\n",
       "          1.,   6.,  41.,  77., 229., 205.,  85.,   6.]),\n",
       " array([19.8304768 , 21.49777757, 23.16507835, 24.83237912, 26.49967989,\n",
       "        28.16698067, 29.83428144, 31.50158221, 33.16888299, 34.83618376,\n",
       "        36.50348453, 38.17078531, 39.83808608, 41.50538685, 43.17268763,\n",
       "        44.8399884 , 46.50728917, 48.17458995, 49.84189072, 51.50919149,\n",
       "        53.17649227, 54.84379304, 56.51109381, 58.17839459, 59.84569536,\n",
       "        61.51299613, 63.18029691, 64.84759768, 66.51489845, 68.18219923,\n",
       "        69.8495    ]),\n",
       " <a list of 30 Patch objects>)"
      ]
     },
     "execution_count": 46,
     "metadata": {},
     "output_type": "execute_result"
    },
    {
     "data": {
      "image/png": "[encoded data removed]",
      "text/plain": [
       "<Figure size 432x288 with 1 Axes>"
      ]
     },
     "metadata": {
      "needs_background": "light"
     },
     "output_type": "display_data"
    }
   ],
   "source": [
    "plt.hist(large_size_wildfire_data['LATITUDE'],bins=30)"
   ]
  },
  {
   "cell_type": "code",
   "execution_count": 47,
   "metadata": {},
   "outputs": [
    {
     "data": {
      "text/plain": [
       "(array([ 28.,  63., 117., 115., 102.,  76.,  79.,  79.,   0.,   0.,   0.,\n",
       "          0.,   0., 155., 447., 525., 582., 244., 212., 303., 211., 122.,\n",
       "        109.,  27.,   6.,   5.,  42., 110.,   9.,   5.]),\n",
       " array([-164.5693   , -161.5072671, -158.4452342, -155.3832013,\n",
       "        -152.3211684, -149.2591355, -146.1971026, -143.1350697,\n",
       "        -140.0730368, -137.0110039, -133.948971 , -130.8869381,\n",
       "        -127.8249052, -124.7628723, -121.7008394, -118.6388065,\n",
       "        -115.5767736, -112.5147407, -109.4527078, -106.3906749,\n",
       "        -103.328642 , -100.2666091,  -97.2045762,  -94.1425433,\n",
       "         -91.0805104,  -88.0184775,  -84.9564446,  -81.8944117,\n",
       "         -78.8323788,  -75.7703459,  -72.708313 ]),\n",
       " <a list of 30 Patch objects>)"
      ]
     },
     "execution_count": 47,
     "metadata": {},
     "output_type": "execute_result"
    },
    {
     "data": {
      "image/png": "[encoded data removed]",
      "text/plain": [
       "<Figure size 432x288 with 1 Axes>"
      ]
     },
     "metadata": {
      "needs_background": "light"
     },
     "output_type": "display_data"
    }
   ],
   "source": [
    "plt.hist(large_size_wildfire_data['LONGITUDE'],bins=30)"
   ]
  },
  {
   "cell_type": "markdown",
   "metadata": {},
   "source": [
    "Based on the above histograms, it is desired to locate the fires. "
   ]
  },
  {
   "cell_type": "markdown",
   "metadata": {},
   "source": [
    "#### All fires of area >= 5000 hectares"
   ]
  },
  {
   "cell_type": "code",
   "execution_count": 71,
   "metadata": {},
   "outputs": [
    {
     "data": {
      "text/plain": [
       "<matplotlib.collections.PathCollection at 0x1a1e7a1828>"
      ]
     },
     "execution_count": 71,
     "metadata": {},
     "output_type": "execute_result"
    },
    {
     "data": {
      "image/png": "[encoded data removed]",
      "text/plain": [
       "<Figure size 720x720 with 1 Axes>"
      ]
     },
     "metadata": {
      "needs_background": "light"
     },
     "output_type": "display_data"
    }
   ],
   "source": [
    "plt.figure(figsize=[10,10])\n",
    "plt.scatter(large_size_wildfire_data['LONGITUDE'],large_size_wildfire_data['LATITUDE'])"
   ]
  },
  {
   "cell_type": "markdown",
   "metadata": {},
   "source": [
    "#### Fires of area >=5000 and <100000"
   ]
  },
  {
   "cell_type": "code",
   "execution_count": 83,
   "metadata": {},
   "outputs": [],
   "source": [
    "lim_low = 5000\n",
    "lim_high = 65000\n",
    "long_temp = [large_size_wildfire_data['LONGITUDE'][i] for i in range(large_fire_len) if \\\n",
    "             lim_low<=large_size_wildfire_data['FIRE_SIZE'][i]<lim_high ]\n",
    "lat_temp = [large_size_wildfire_data['LATITUDE'][i] for i in range(large_fire_len) if \\\n",
    "             lim_low<=large_size_wildfire_data['FIRE_SIZE'][i]<lim_high ]"
   ]
  },
  {
   "cell_type": "code",
   "execution_count": 84,
   "metadata": {},
   "outputs": [
    {
     "data": {
      "text/plain": [
       "<matplotlib.collections.PathCollection at 0x1a1f2e3f28>"
      ]
     },
     "execution_count": 84,
     "metadata": {},
     "output_type": "execute_result"
    },
    {
     "data": {
      "image/png": "[encoded data removed]",
      "text/plain": [
       "<Figure size 720x720 with 1 Axes>"
      ]
     },
     "metadata": {
      "needs_background": "light"
     },
     "output_type": "display_data"
    }
   ],
   "source": [
    "plt.figure(figsize=[10,10])\n",
    "plt.scatter(long_temp,lat_temp)"
   ]
  },
  {
   "cell_type": "markdown",
   "metadata": {},
   "source": [
    "#### Fires of area >=100000 and <300000"
   ]
  },
  {
   "cell_type": "code",
   "execution_count": 85,
   "metadata": {},
   "outputs": [],
   "source": [
    "lim_low = 65000\n",
    "lim_high = 300000\n",
    "long_temp = [large_size_wildfire_data['LONGITUDE'][i] for i in range(large_fire_len) if \\\n",
    "             lim_low<=large_size_wildfire_data['FIRE_SIZE'][i]<lim_high ]\n",
    "lat_temp = [large_size_wildfire_data['LATITUDE'][i] for i in range(large_fire_len) if \\\n",
    "             lim_low<=large_size_wildfire_data['FIRE_SIZE'][i]<lim_high ]"
   ]
  },
  {
   "cell_type": "code",
   "execution_count": 86,
   "metadata": {},
   "outputs": [
    {
     "data": {
      "text/plain": [
       "<matplotlib.collections.PathCollection at 0x1a1f468668>"
      ]
     },
     "execution_count": 86,
     "metadata": {},
     "output_type": "execute_result"
    },
    {
     "data": {
      "image/png": "[encoded data removed]",
      "text/plain": [
       "<Figure size 720x720 with 1 Axes>"
      ]
     },
     "metadata": {
      "needs_background": "light"
     },
     "output_type": "display_data"
    }
   ],
   "source": [
    "plt.figure(figsize=[10,10])\n",
    "plt.scatter(long_temp,lat_temp)"
   ]
  },
  {
   "cell_type": "markdown",
   "metadata": {},
   "source": [
    "#### Fires of area >=300000"
   ]
  },
  {
   "cell_type": "code",
   "execution_count": 87,
   "metadata": {},
   "outputs": [],
   "source": [
    "lim_low = 300000\n",
    "lim_high = np.inf\n",
    "long_temp = [large_size_wildfire_data['LONGITUDE'][i] for i in range(large_fire_len) if \\\n",
    "             lim_low<=large_size_wildfire_data['FIRE_SIZE'][i]<lim_high ]\n",
    "lat_temp = [large_size_wildfire_data['LATITUDE'][i] for i in range(large_fire_len) if \\\n",
    "             lim_low<=large_size_wildfire_data['FIRE_SIZE'][i]<lim_high ]"
   ]
  },
  {
   "cell_type": "code",
   "execution_count": 88,
   "metadata": {},
   "outputs": [
    {
     "data": {
      "text/plain": [
       "<matplotlib.collections.PathCollection at 0x1a1f5a5780>"
      ]
     },
     "execution_count": 88,
     "metadata": {},
     "output_type": "execute_result"
    },
    {
     "data": {
      "image/png": "[encoded data removed]",
      "text/plain": [
       "<Figure size 720x720 with 1 Axes>"
      ]
     },
     "metadata": {
      "needs_background": "light"
     },
     "output_type": "display_data"
    }
   ],
   "source": [
    "plt.figure(figsize=[10,10])\n",
    "plt.scatter(long_temp,lat_temp)"
   ]
  },
  {
   "cell_type": "code",
   "execution_count": null,
   "metadata": {},
   "outputs": [],
   "source": []
  },
  {
   "cell_type": "code",
   "execution_count": null,
   "metadata": {},
   "outputs": [],
   "source": []
  }
 ],
 "metadata": {
  "kernelspec": {
   "display_name": "Python 3",
   "language": "python",
   "name": "python3"
  },
  "language_info": {
   "codemirror_mode": {
    "name": "ipython",
    "version": 3
   },
   "file_extension": ".py",
   "mimetype": "text/x-python",
   "name": "python",
   "nbconvert_exporter": "python",
   "pygments_lexer": "ipython3",
   "version": "3.7.3"
  }
 },
 "nbformat": 4,
 "nbformat_minor": 2
}
