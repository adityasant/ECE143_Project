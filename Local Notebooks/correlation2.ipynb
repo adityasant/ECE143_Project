{
 "cells": [
  {
   "cell_type": "code",
   "execution_count": 1,
   "metadata": {},
   "outputs": [],
   "source": [
    "import sqlite3\n",
    "import numpy as np\n",
    "import pandas as pd\n",
    "import seaborn as sns\n",
    "import numpy as np\n",
    "import datetime\n",
    "import sys"
   ]
  },
  {
   "cell_type": "code",
   "execution_count": 2,
   "metadata": {},
   "outputs": [],
   "source": [
    "conn = sqlite3.connect('/run/media/leyan/8854FE2154FE11A4/ECE143dataset/wildfile/FPA_FOD_20170508.sqlite')"
   ]
  },
  {
   "cell_type": "code",
   "execution_count": 3,
   "metadata": {},
   "outputs": [],
   "source": [
    "data_dates = pd.read_sql_query(\"SELECT fire_year, discovery_date FROM fires;\", conn)\n",
    "data_size = pd.read_sql_query(\"SELECT fire_size, fire_size_class FROM fires;\", conn)\n",
    "data_location = pd.read_sql_query(\"SELECT latitude, longitude, state FROM fires;\", conn)\n",
    "date = pd.read_sql_query(\"select datetime(DISCOVERY_DATE) as DISCOVERY_DATE from fires;\", conn)"
   ]
  },
  {
   "cell_type": "code",
   "execution_count": 5,
   "metadata": {},
   "outputs": [],
   "source": [
    "data_dates_arr = date['DISCOVERY_DATE']\n",
    "fire_year_arr = data_dates['FIRE_YEAR']\n",
    "fire_size_arr = data_size['FIRE_SIZE']"
   ]
  },
  {
   "cell_type": "code",
   "execution_count": 9,
   "metadata": {},
   "outputs": [
    {
     "data": {
      "text/html": [
       "<div>\n",
       "<style scoped>\n",
       "    .dataframe tbody tr th:only-of-type {\n",
       "        vertical-align: middle;\n",
       "    }\n",
       "\n",
       "    .dataframe tbody tr th {\n",
       "        vertical-align: top;\n",
       "    }\n",
       "\n",
       "    .dataframe thead th {\n",
       "        text-align: right;\n",
       "    }\n",
       "</style>\n",
       "<table border=\"1\" class=\"dataframe\">\n",
       "  <thead>\n",
       "    <tr style=\"text-align: right;\">\n",
       "      <th></th>\n",
       "      <th>FIRE_SIZE</th>\n",
       "    </tr>\n",
       "    <tr>\n",
       "      <th>FIRE_SIZE_CLASS</th>\n",
       "      <th></th>\n",
       "    </tr>\n",
       "  </thead>\n",
       "  <tbody>\n",
       "    <tr>\n",
       "      <th>A</th>\n",
       "      <td>666919</td>\n",
       "    </tr>\n",
       "    <tr>\n",
       "      <th>B</th>\n",
       "      <td>939376</td>\n",
       "    </tr>\n",
       "    <tr>\n",
       "      <th>C</th>\n",
       "      <td>220077</td>\n",
       "    </tr>\n",
       "    <tr>\n",
       "      <th>D</th>\n",
       "      <td>28427</td>\n",
       "    </tr>\n",
       "    <tr>\n",
       "      <th>E</th>\n",
       "      <td>14107</td>\n",
       "    </tr>\n",
       "    <tr>\n",
       "      <th>F</th>\n",
       "      <td>7786</td>\n",
       "    </tr>\n",
       "    <tr>\n",
       "      <th>G</th>\n",
       "      <td>3773</td>\n",
       "    </tr>\n",
       "  </tbody>\n",
       "</table>\n",
       "</div>"
      ],
      "text/plain": [
       "                 FIRE_SIZE\n",
       "FIRE_SIZE_CLASS           \n",
       "A                   666919\n",
       "B                   939376\n",
       "C                   220077\n",
       "D                    28427\n",
       "E                    14107\n",
       "F                     7786\n",
       "G                     3773"
      ]
     },
     "execution_count": 9,
     "metadata": {},
     "output_type": "execute_result"
    }
   ],
   "source": [
    "data_size.groupby('FIRE_SIZE_CLASS').count()"
   ]
  },
  {
   "cell_type": "code",
   "execution_count": 8,
   "metadata": {},
   "outputs": [
    {
     "data": {
      "text/html": [
       "<div>\n",
       "<style scoped>\n",
       "    .dataframe tbody tr th:only-of-type {\n",
       "        vertical-align: middle;\n",
       "    }\n",
       "\n",
       "    .dataframe tbody tr th {\n",
       "        vertical-align: top;\n",
       "    }\n",
       "\n",
       "    .dataframe thead th {\n",
       "        text-align: right;\n",
       "    }\n",
       "</style>\n",
       "<table border=\"1\" class=\"dataframe\">\n",
       "  <thead>\n",
       "    <tr style=\"text-align: right;\">\n",
       "      <th></th>\n",
       "      <th>FIRE_SIZE</th>\n",
       "    </tr>\n",
       "    <tr>\n",
       "      <th>FIRE_SIZE_CLASS</th>\n",
       "      <th></th>\n",
       "    </tr>\n",
       "  </thead>\n",
       "  <tbody>\n",
       "    <tr>\n",
       "      <th>A</th>\n",
       "      <td>0.118801</td>\n",
       "    </tr>\n",
       "    <tr>\n",
       "      <th>B</th>\n",
       "      <td>2.146998</td>\n",
       "    </tr>\n",
       "    <tr>\n",
       "      <th>C</th>\n",
       "      <td>28.531914</td>\n",
       "    </tr>\n",
       "    <tr>\n",
       "      <th>D</th>\n",
       "      <td>161.801034</td>\n",
       "    </tr>\n",
       "    <tr>\n",
       "      <th>E</th>\n",
       "      <td>512.854904</td>\n",
       "    </tr>\n",
       "    <tr>\n",
       "      <th>F</th>\n",
       "      <td>2130.395128</td>\n",
       "    </tr>\n",
       "    <tr>\n",
       "      <th>G</th>\n",
       "      <td>27388.190703</td>\n",
       "    </tr>\n",
       "  </tbody>\n",
       "</table>\n",
       "</div>"
      ],
      "text/plain": [
       "                    FIRE_SIZE\n",
       "FIRE_SIZE_CLASS              \n",
       "A                    0.118801\n",
       "B                    2.146998\n",
       "C                   28.531914\n",
       "D                  161.801034\n",
       "E                  512.854904\n",
       "F                 2130.395128\n",
       "G                27388.190703"
      ]
     },
     "execution_count": 8,
     "metadata": {},
     "output_type": "execute_result"
    }
   ],
   "source": [
    "data_size.groupby('FIRE_SIZE_CLASS').mean()"
   ]
  },
  {
   "cell_type": "code",
   "execution_count": 16,
   "metadata": {},
   "outputs": [],
   "source": [
    "size_class = []\n",
    "for c in data_size['FIRE_SIZE_CLASS']:\n",
    "    d = {\"A\":1, 'B':2, 'C':3, 'D':4, 'E':5, 'F':6, 'G':7}\n",
    "    size_class.append(d[c])"
   ]
  },
  {
   "cell_type": "code",
   "execution_count": 17,
   "metadata": {},
   "outputs": [],
   "source": [
    "df = data_location\n",
    "df['date'] = data_dates_arr\n",
    "df['fire_class'] = size_class"
   ]
  },
  {
   "cell_type": "code",
   "execution_count": 18,
   "metadata": {},
   "outputs": [
    {
     "data": {
      "text/plain": [
       "<bound method NDFrame.describe of           LATITUDE   LONGITUDE STATE                 date  fire_class\n",
       "0        40.036944 -121.005833    CA  2005-02-02 00:00:00           1\n",
       "1        38.933056 -120.404444    CA  2004-05-12 00:00:00           1\n",
       "2        38.984167 -120.735556    CA  2004-05-31 00:00:00           1\n",
       "3        38.559167 -119.913333    CA  2004-06-28 00:00:00           1\n",
       "4        38.559167 -119.933056    CA  2004-06-28 00:00:00           1\n",
       "...            ...         ...   ...                  ...         ...\n",
       "1880460  40.481637 -122.389375    CA  2015-09-26 00:00:00           1\n",
       "1880461  37.617619 -120.938570    CA  2015-10-05 00:00:00           1\n",
       "1880462  37.617619 -120.938570    CA  2015-05-02 00:00:00           1\n",
       "1880463  37.672235 -120.898356    CA  2015-10-14 00:00:00           2\n",
       "1880464  34.263217 -116.830950    CA  2015-03-14 00:00:00           1\n",
       "\n",
       "[1880465 rows x 5 columns]>"
      ]
     },
     "execution_count": 18,
     "metadata": {},
     "output_type": "execute_result"
    }
   ],
   "source": [
    "df.describe"
   ]
  },
  {
   "cell_type": "markdown",
   "metadata": {},
   "source": [
    "# randomly select 3500 samples, 500 for each class"
   ]
  },
  {
   "cell_type": "code",
   "execution_count": 20,
   "metadata": {},
   "outputs": [
    {
     "name": "stdout",
     "output_type": "stream",
     "text": [
      "          LATITUDE   LONGITUDE STATE                 date  fire_class\n",
      "17447    34.150278 -111.161111    AZ  2006-07-08 00:00:00           1\n",
      "1408617  34.549600  -83.314900    GA  1997-09-05 00:00:00           1\n",
      "1774717  38.932217 -121.090600    CA  2014-02-26 00:00:00           1\n",
      "661920   37.474330  -78.271670    VA  2006-03-11 00:00:00           1\n",
      "69324    34.443333 -118.091667    CA  1994-05-15 00:00:00           1\n",
      "...            ...         ...   ...                  ...         ...\n",
      "1564624  45.534167 -116.297500    ID  2012-09-06 00:00:00           7\n",
      "358740   35.507217  -83.457391    NC  2001-11-10 00:00:00           7\n",
      "628216   33.513660 -102.827900    TX  2006-03-12 00:00:00           7\n",
      "330099   43.146400 -113.563900    ID  2007-08-16 00:00:00           7\n",
      "305615   65.516900 -143.172400    AK  2004-06-14 00:00:00           7\n",
      "\n",
      "[3500 rows x 5 columns]\n"
     ]
    }
   ],
   "source": [
    "sample_df = pd.DataFrame()\n",
    "num_samples = 500\n",
    "for i in range(1, 8):\n",
    "    s = df[df['fire_class'] == i].sample(n = num_samples)\n",
    "    sample_df = pd.concat([sample_df, s])\n",
    "print(sample_df)"
   ]
  },
  {
   "cell_type": "markdown",
   "metadata": {},
   "source": [
    "# correlate with monthly average wind speed"
   ]
  },
  {
   "cell_type": "code",
   "execution_count": 5,
   "metadata": {},
   "outputs": [],
   "source": [
    "import os \n",
    "import numpy as np\n",
    "import iris   \n",
    "\n",
    "import iris.plot as iplt\n",
    "import iris.quickplot as qplt\n",
    "import matplotlib.pyplot as plt\n",
    "from iris.time import PartialDateTime"
   ]
  },
  {
   "cell_type": "code",
   "execution_count": 22,
   "metadata": {},
   "outputs": [],
   "source": [
    "PATH = \"/run/media/leyan/8854FE2154FE11A4/ECE143dataset/adaptor.mars.internal.nc\""
   ]
  },
  {
   "cell_type": "code",
   "execution_count": 23,
   "metadata": {},
   "outputs": [
    {
     "name": "stdout",
     "output_type": "stream",
     "text": [
      "0: 10 metre wind speed / (m s**-1)     (time: 493; expver: 2; latitude: 721; longitude: 1440)\n",
      "1: surface_air_pressure / (Pa)         (time: 493; expver: 2; latitude: 721; longitude: 1440)\n"
     ]
    }
   ],
   "source": [
    "raw = iris.load_raw(PATH)\n",
    "print(raw)"
   ]
  },
  {
   "cell_type": "code",
   "execution_count": 24,
   "metadata": {},
   "outputs": [],
   "source": [
    "cube = raw[0] # cube0 is 10 metre wind speed\n",
    "cube = cube.extract(iris.Constraint(expver = 1))"
   ]
  },
  {
   "cell_type": "code",
   "execution_count": 25,
   "metadata": {},
   "outputs": [],
   "source": [
    "def query_wind(y, m, lat, long, cube):\n",
    "    \"\"\"\n",
    "    Args:\n",
    "        year: integer indicate year, support 1979 to 2019\n",
    "        month: integer indicate month, 1 to 12\n",
    "        latitude: float, -90 to 90, resolution 0.25\n",
    "        longitude: float, 0 to 360, 5 means East5, 185 means West175, resolution 0.25\n",
    "        cube: precipation data\n",
    "    Return:\n",
    "        the average precipation in that given month (mm/day)\n",
    "        its type is float  \n",
    "    \"\"\"\n",
    "    if long < 0:\n",
    "        long += 360\n",
    "    time_cons = iris.Constraint(time = PartialDateTime(year = y, month = m))\n",
    "    lat_cons = iris.Constraint(latitude = lambda x : lat-0.125 <= x <lat+0.125)\n",
    "    long_cons = iris.Constraint(longitude = lambda x : long-0.125 <= x <long+0.125)\n",
    "#     exp_cons = iris.Constraint(expver = 1)\n",
    "    wind = cube.extract(lat_cons & long_cons & time_cons)\n",
    "#     print(rain.data)\n",
    "    return float(wind.data) # only one answer"
   ]
  },
  {
   "cell_type": "code",
   "execution_count": 1,
   "metadata": {},
   "outputs": [],
   "source": [
    "%%time\n",
    "wind_series = []\n",
    "for index, row in sample_df.iterrows():\n",
    "    date_list = row['date'].split('-')\n",
    "    year = int(date_list[0])\n",
    "    month = int(date_list[1])\n",
    "    lat = row['LATITUDE']\n",
    "    long = row['LONGITUDE']\n",
    "    wind_series.append(query_wind(year, month, lat, long, cube))"
   ]
  },
  {
   "cell_type": "code",
   "execution_count": 27,
   "metadata": {},
   "outputs": [],
   "source": [
    "sample_df['wind'] = wind_series"
   ]
  },
  {
   "cell_type": "code",
   "execution_count": 28,
   "metadata": {},
   "outputs": [
    {
     "data": {
      "text/plain": [
       "<bound method NDFrame.describe of           LATITUDE   LONGITUDE STATE                 date  fire_class  \\\n",
       "17447    34.150278 -111.161111    AZ  2006-07-08 00:00:00           1   \n",
       "1408617  34.549600  -83.314900    GA  1997-09-05 00:00:00           1   \n",
       "1774717  38.932217 -121.090600    CA  2014-02-26 00:00:00           1   \n",
       "661920   37.474330  -78.271670    VA  2006-03-11 00:00:00           1   \n",
       "69324    34.443333 -118.091667    CA  1994-05-15 00:00:00           1   \n",
       "...            ...         ...   ...                  ...         ...   \n",
       "1564624  45.534167 -116.297500    ID  2012-09-06 00:00:00           7   \n",
       "358740   35.507217  -83.457391    NC  2001-11-10 00:00:00           7   \n",
       "628216   33.513660 -102.827900    TX  2006-03-12 00:00:00           7   \n",
       "330099   43.146400 -113.563900    ID  2007-08-16 00:00:00           7   \n",
       "305615   65.516900 -143.172400    AK  2004-06-14 00:00:00           7   \n",
       "\n",
       "             wind  \n",
       "17447    1.885379  \n",
       "1408617  2.074109  \n",
       "1774717  2.425365  \n",
       "661920   3.078590  \n",
       "69324    2.529557  \n",
       "...           ...  \n",
       "1564624  1.462686  \n",
       "358740   2.028876  \n",
       "628216   5.170843  \n",
       "330099   4.055931  \n",
       "305615   1.825484  \n",
       "\n",
       "[3500 rows x 6 columns]>"
      ]
     },
     "execution_count": 28,
     "metadata": {},
     "output_type": "execute_result"
    }
   ],
   "source": [
    "sample_df.describe"
   ]
  },
  {
   "cell_type": "code",
   "execution_count": 29,
   "metadata": {},
   "outputs": [],
   "source": [
    "sample_df = sample_df.drop(columns=['STATE'])"
   ]
  },
  {
   "cell_type": "code",
   "execution_count": 30,
   "metadata": {},
   "outputs": [
    {
     "data": {
      "text/html": [
       "<div>\n",
       "<style scoped>\n",
       "    .dataframe tbody tr th:only-of-type {\n",
       "        vertical-align: middle;\n",
       "    }\n",
       "\n",
       "    .dataframe tbody tr th {\n",
       "        vertical-align: top;\n",
       "    }\n",
       "\n",
       "    .dataframe thead th {\n",
       "        text-align: right;\n",
       "    }\n",
       "</style>\n",
       "<table border=\"1\" class=\"dataframe\">\n",
       "  <thead>\n",
       "    <tr style=\"text-align: right;\">\n",
       "      <th></th>\n",
       "      <th>LATITUDE</th>\n",
       "      <th>LONGITUDE</th>\n",
       "      <th>date</th>\n",
       "      <th>fire_class</th>\n",
       "      <th>wind</th>\n",
       "    </tr>\n",
       "  </thead>\n",
       "  <tbody>\n",
       "    <tr>\n",
       "      <th>17447</th>\n",
       "      <td>34.150278</td>\n",
       "      <td>-111.161111</td>\n",
       "      <td>2006-07-08 00:00:00</td>\n",
       "      <td>1</td>\n",
       "      <td>1.885379</td>\n",
       "    </tr>\n",
       "    <tr>\n",
       "      <th>1408617</th>\n",
       "      <td>34.549600</td>\n",
       "      <td>-83.314900</td>\n",
       "      <td>1997-09-05 00:00:00</td>\n",
       "      <td>1</td>\n",
       "      <td>2.074109</td>\n",
       "    </tr>\n",
       "    <tr>\n",
       "      <th>1774717</th>\n",
       "      <td>38.932217</td>\n",
       "      <td>-121.090600</td>\n",
       "      <td>2014-02-26 00:00:00</td>\n",
       "      <td>1</td>\n",
       "      <td>2.425365</td>\n",
       "    </tr>\n",
       "    <tr>\n",
       "      <th>661920</th>\n",
       "      <td>37.474330</td>\n",
       "      <td>-78.271670</td>\n",
       "      <td>2006-03-11 00:00:00</td>\n",
       "      <td>1</td>\n",
       "      <td>3.078590</td>\n",
       "    </tr>\n",
       "    <tr>\n",
       "      <th>69324</th>\n",
       "      <td>34.443333</td>\n",
       "      <td>-118.091667</td>\n",
       "      <td>1994-05-15 00:00:00</td>\n",
       "      <td>1</td>\n",
       "      <td>2.529557</td>\n",
       "    </tr>\n",
       "    <tr>\n",
       "      <th>...</th>\n",
       "      <td>...</td>\n",
       "      <td>...</td>\n",
       "      <td>...</td>\n",
       "      <td>...</td>\n",
       "      <td>...</td>\n",
       "    </tr>\n",
       "    <tr>\n",
       "      <th>1564624</th>\n",
       "      <td>45.534167</td>\n",
       "      <td>-116.297500</td>\n",
       "      <td>2012-09-06 00:00:00</td>\n",
       "      <td>7</td>\n",
       "      <td>1.462686</td>\n",
       "    </tr>\n",
       "    <tr>\n",
       "      <th>358740</th>\n",
       "      <td>35.507217</td>\n",
       "      <td>-83.457391</td>\n",
       "      <td>2001-11-10 00:00:00</td>\n",
       "      <td>7</td>\n",
       "      <td>2.028876</td>\n",
       "    </tr>\n",
       "    <tr>\n",
       "      <th>628216</th>\n",
       "      <td>33.513660</td>\n",
       "      <td>-102.827900</td>\n",
       "      <td>2006-03-12 00:00:00</td>\n",
       "      <td>7</td>\n",
       "      <td>5.170843</td>\n",
       "    </tr>\n",
       "    <tr>\n",
       "      <th>330099</th>\n",
       "      <td>43.146400</td>\n",
       "      <td>-113.563900</td>\n",
       "      <td>2007-08-16 00:00:00</td>\n",
       "      <td>7</td>\n",
       "      <td>4.055931</td>\n",
       "    </tr>\n",
       "    <tr>\n",
       "      <th>305615</th>\n",
       "      <td>65.516900</td>\n",
       "      <td>-143.172400</td>\n",
       "      <td>2004-06-14 00:00:00</td>\n",
       "      <td>7</td>\n",
       "      <td>1.825484</td>\n",
       "    </tr>\n",
       "  </tbody>\n",
       "</table>\n",
       "<p>3500 rows × 5 columns</p>\n",
       "</div>"
      ],
      "text/plain": [
       "          LATITUDE   LONGITUDE                 date  fire_class      wind\n",
       "17447    34.150278 -111.161111  2006-07-08 00:00:00           1  1.885379\n",
       "1408617  34.549600  -83.314900  1997-09-05 00:00:00           1  2.074109\n",
       "1774717  38.932217 -121.090600  2014-02-26 00:00:00           1  2.425365\n",
       "661920   37.474330  -78.271670  2006-03-11 00:00:00           1  3.078590\n",
       "69324    34.443333 -118.091667  1994-05-15 00:00:00           1  2.529557\n",
       "...            ...         ...                  ...         ...       ...\n",
       "1564624  45.534167 -116.297500  2012-09-06 00:00:00           7  1.462686\n",
       "358740   35.507217  -83.457391  2001-11-10 00:00:00           7  2.028876\n",
       "628216   33.513660 -102.827900  2006-03-12 00:00:00           7  5.170843\n",
       "330099   43.146400 -113.563900  2007-08-16 00:00:00           7  4.055931\n",
       "305615   65.516900 -143.172400  2004-06-14 00:00:00           7  1.825484\n",
       "\n",
       "[3500 rows x 5 columns]"
      ]
     },
     "execution_count": 30,
     "metadata": {},
     "output_type": "execute_result"
    }
   ],
   "source": [
    "sample_df"
   ]
  },
  {
   "cell_type": "code",
   "execution_count": 31,
   "metadata": {},
   "outputs": [],
   "source": [
    "sample_df.to_csv('./sample_with_wind.csv')"
   ]
  },
  {
   "cell_type": "code",
   "execution_count": 9,
   "metadata": {},
   "outputs": [
    {
     "data": {
      "text/plain": [
       "<bound method NDFrame.describe of       Unnamed: 0   LATITUDE   LONGITUDE                 date  fire_class  \\\n",
       "0          17447  34.150278 -111.161111  2006-07-08 00:00:00           1   \n",
       "1        1408617  34.549600  -83.314900  1997-09-05 00:00:00           1   \n",
       "2        1774717  38.932217 -121.090600  2014-02-26 00:00:00           1   \n",
       "3         661920  37.474330  -78.271670  2006-03-11 00:00:00           1   \n",
       "4          69324  34.443333 -118.091667  1994-05-15 00:00:00           1   \n",
       "...          ...        ...         ...                  ...         ...   \n",
       "3495     1564624  45.534167 -116.297500  2012-09-06 00:00:00           7   \n",
       "3496      358740  35.507217  -83.457391  2001-11-10 00:00:00           7   \n",
       "3497      628216  33.513660 -102.827900  2006-03-12 00:00:00           7   \n",
       "3498      330099  43.146400 -113.563900  2007-08-16 00:00:00           7   \n",
       "3499      305615  65.516900 -143.172400  2004-06-14 00:00:00           7   \n",
       "\n",
       "          wind  \n",
       "0     1.885379  \n",
       "1     2.074109  \n",
       "2     2.425365  \n",
       "3     3.078590  \n",
       "4     2.529557  \n",
       "...        ...  \n",
       "3495  1.462686  \n",
       "3496  2.028876  \n",
       "3497  5.170843  \n",
       "3498  4.055931  \n",
       "3499  1.825484  \n",
       "\n",
       "[3500 rows x 6 columns]>"
      ]
     },
     "execution_count": 9,
     "metadata": {},
     "output_type": "execute_result"
    }
   ],
   "source": [
    "sample_df = pd.read_csv('./sample_with_wind.csv')\n",
    "sample_df.describe"
   ]
  },
  {
   "cell_type": "markdown",
   "metadata": {},
   "source": [
    "# correlate with precipitation"
   ]
  },
  {
   "cell_type": "code",
   "execution_count": 6,
   "metadata": {},
   "outputs": [
    {
     "name": "stdout",
     "output_type": "stream",
     "text": [
      "(492, 72, 144)\n"
     ]
    }
   ],
   "source": [
    "PATH = os.path.join(os.getcwd(), \"precip.mon.mean.nc\")\n",
    "rain_cube = iris.load_cube(PATH)\n",
    "print(rain_cube.shape)"
   ]
  },
  {
   "cell_type": "code",
   "execution_count": 7,
   "metadata": {},
   "outputs": [],
   "source": [
    "def query_rain(y, m, lat, long, cube):\n",
    "    \"\"\"\n",
    "    Args:\n",
    "        year: integer indicate year, support 1979 to 2019\n",
    "        month: integer indicate month, 1 to 12\n",
    "        latitude: float, -90 to 90\n",
    "        longitude: float, 0 to 360, 5 means East5, 185 means West175\n",
    "        cube: precipation data\n",
    "    Return:\n",
    "        the average precipation in that given month (mm/day)\n",
    "        its type is float  \n",
    "    \"\"\"\n",
    "    if long < 0:\n",
    "        long += 360\n",
    "    time_cons = iris.Constraint(time = PartialDateTime(year = y, month = m))\n",
    "    lat_cons = iris.Constraint(latitude = lambda x : lat-1.25 <= x <lat+1.25)\n",
    "    long_cons = iris.Constraint(longitude = lambda x : long-1.25 <= x <long+1.25)\n",
    "    rain = cube.extract(lat_cons & long_cons & time_cons)\n",
    "#     print(rain.data)\n",
    "    return float(rain.data) # only one answer"
   ]
  },
  {
   "cell_type": "code",
   "execution_count": 2,
   "metadata": {},
   "outputs": [],
   "source": [
    "%%time\n",
    "rain_series = []\n",
    "for index, row in sample_df.iterrows():\n",
    "    date_list = row['date'].split('-')\n",
    "    year = int(date_list[0])\n",
    "    month = int(date_list[1])\n",
    "    lat = row['LATITUDE']\n",
    "    long = row['LONGITUDE']\n",
    "    rain_series.append(query_rain(year, month, lat, long, rain_cube))"
   ]
  },
  {
   "cell_type": "code",
   "execution_count": null,
   "metadata": {},
   "outputs": [],
   "source": []
  },
  {
   "cell_type": "code",
   "execution_count": 12,
   "metadata": {},
   "outputs": [],
   "source": [
    "sample_df['rain'] = rain_series"
   ]
  },
  {
   "cell_type": "code",
   "execution_count": 14,
   "metadata": {},
   "outputs": [],
   "source": [
    "sample_df.to_csv('./sample_with_rain.csv')"
   ]
  },
  {
   "cell_type": "code",
   "execution_count": 17,
   "metadata": {},
   "outputs": [],
   "source": [
    "sample_df_show = sample_df.drop(columns=['date', 'Unnamed: 0'])"
   ]
  },
  {
   "cell_type": "code",
   "execution_count": 18,
   "metadata": {},
   "outputs": [
    {
     "data": {
      "text/html": [
       "<div>\n",
       "<style scoped>\n",
       "    .dataframe tbody tr th:only-of-type {\n",
       "        vertical-align: middle;\n",
       "    }\n",
       "\n",
       "    .dataframe tbody tr th {\n",
       "        vertical-align: top;\n",
       "    }\n",
       "\n",
       "    .dataframe thead th {\n",
       "        text-align: right;\n",
       "    }\n",
       "</style>\n",
       "<table border=\"1\" class=\"dataframe\">\n",
       "  <thead>\n",
       "    <tr style=\"text-align: right;\">\n",
       "      <th></th>\n",
       "      <th>LATITUDE</th>\n",
       "      <th>LONGITUDE</th>\n",
       "      <th>fire_class</th>\n",
       "      <th>wind</th>\n",
       "      <th>rain</th>\n",
       "    </tr>\n",
       "  </thead>\n",
       "  <tbody>\n",
       "    <tr>\n",
       "      <th>0</th>\n",
       "      <td>34.150278</td>\n",
       "      <td>-111.161111</td>\n",
       "      <td>1</td>\n",
       "      <td>1.885379</td>\n",
       "      <td>1.62</td>\n",
       "    </tr>\n",
       "    <tr>\n",
       "      <th>1</th>\n",
       "      <td>34.549600</td>\n",
       "      <td>-83.314900</td>\n",
       "      <td>1</td>\n",
       "      <td>2.074109</td>\n",
       "      <td>3.54</td>\n",
       "    </tr>\n",
       "    <tr>\n",
       "      <th>2</th>\n",
       "      <td>38.932217</td>\n",
       "      <td>-121.090600</td>\n",
       "      <td>1</td>\n",
       "      <td>2.425365</td>\n",
       "      <td>4.55</td>\n",
       "    </tr>\n",
       "    <tr>\n",
       "      <th>3</th>\n",
       "      <td>37.474330</td>\n",
       "      <td>-78.271670</td>\n",
       "      <td>1</td>\n",
       "      <td>3.078590</td>\n",
       "      <td>0.76</td>\n",
       "    </tr>\n",
       "    <tr>\n",
       "      <th>4</th>\n",
       "      <td>34.443333</td>\n",
       "      <td>-118.091667</td>\n",
       "      <td>1</td>\n",
       "      <td>2.529557</td>\n",
       "      <td>0.14</td>\n",
       "    </tr>\n",
       "    <tr>\n",
       "      <th>...</th>\n",
       "      <td>...</td>\n",
       "      <td>...</td>\n",
       "      <td>...</td>\n",
       "      <td>...</td>\n",
       "      <td>...</td>\n",
       "    </tr>\n",
       "    <tr>\n",
       "      <th>3495</th>\n",
       "      <td>45.534167</td>\n",
       "      <td>-116.297500</td>\n",
       "      <td>7</td>\n",
       "      <td>1.462686</td>\n",
       "      <td>0.12</td>\n",
       "    </tr>\n",
       "    <tr>\n",
       "      <th>3496</th>\n",
       "      <td>35.507217</td>\n",
       "      <td>-83.457391</td>\n",
       "      <td>7</td>\n",
       "      <td>2.028876</td>\n",
       "      <td>1.65</td>\n",
       "    </tr>\n",
       "    <tr>\n",
       "      <th>3497</th>\n",
       "      <td>33.513660</td>\n",
       "      <td>-102.827900</td>\n",
       "      <td>7</td>\n",
       "      <td>5.170843</td>\n",
       "      <td>0.34</td>\n",
       "    </tr>\n",
       "    <tr>\n",
       "      <th>3498</th>\n",
       "      <td>43.146400</td>\n",
       "      <td>-113.563900</td>\n",
       "      <td>7</td>\n",
       "      <td>4.055931</td>\n",
       "      <td>0.07</td>\n",
       "    </tr>\n",
       "    <tr>\n",
       "      <th>3499</th>\n",
       "      <td>65.516900</td>\n",
       "      <td>-143.172400</td>\n",
       "      <td>7</td>\n",
       "      <td>1.825484</td>\n",
       "      <td>0.99</td>\n",
       "    </tr>\n",
       "  </tbody>\n",
       "</table>\n",
       "<p>3500 rows × 5 columns</p>\n",
       "</div>"
      ],
      "text/plain": [
       "       LATITUDE   LONGITUDE  fire_class      wind  rain\n",
       "0     34.150278 -111.161111           1  1.885379  1.62\n",
       "1     34.549600  -83.314900           1  2.074109  3.54\n",
       "2     38.932217 -121.090600           1  2.425365  4.55\n",
       "3     37.474330  -78.271670           1  3.078590  0.76\n",
       "4     34.443333 -118.091667           1  2.529557  0.14\n",
       "...         ...         ...         ...       ...   ...\n",
       "3495  45.534167 -116.297500           7  1.462686  0.12\n",
       "3496  35.507217  -83.457391           7  2.028876  1.65\n",
       "3497  33.513660 -102.827900           7  5.170843  0.34\n",
       "3498  43.146400 -113.563900           7  4.055931  0.07\n",
       "3499  65.516900 -143.172400           7  1.825484  0.99\n",
       "\n",
       "[3500 rows x 5 columns]"
      ]
     },
     "execution_count": 18,
     "metadata": {},
     "output_type": "execute_result"
    }
   ],
   "source": [
    "sample_df_show"
   ]
  },
  {
   "cell_type": "code",
   "execution_count": 19,
   "metadata": {},
   "outputs": [],
   "source": [
    "corr = sample_df_show.corr()"
   ]
  },
  {
   "cell_type": "code",
   "execution_count": 20,
   "metadata": {},
   "outputs": [
    {
     "data": {
      "image/png": "[encoded data removed]",
      "text/plain": [
       "<Figure size 432x288 with 2 Axes>"
      ]
     },
     "metadata": {
      "needs_background": "light"
     },
     "output_type": "display_data"
    }
   ],
   "source": [
    "plt.figure()\n",
    "sns.heatmap(corr,annot = True)\n",
    "plt.show()"
   ]
  },
  {
   "cell_type": "markdown",
   "metadata": {},
   "source": [
    "# correlate with near surface air pressure"
   ]
  },
  {
   "cell_type": "code",
   "execution_count": 22,
   "metadata": {},
   "outputs": [
    {
     "name": "stdout",
     "output_type": "stream",
     "text": [
      "0: surface_air_pressure / (Pa)         (time: 493; expver: 2; latitude: 721; longitude: 1440)\n",
      "1: 10 metre wind speed / (m s**-1)     (time: 493; expver: 2; latitude: 721; longitude: 1440)\n"
     ]
    }
   ],
   "source": [
    "PATH = \"/run/media/leyan/8854FE2154FE11A4/ECE143dataset/adaptor.mars.internal.nc\"\n",
    "raw = iris.load_raw(PATH)\n",
    "print(raw)\n",
    "cube = raw[0] # cube0 is 10 metre wind speed\n",
    "cube = cube.extract(iris.Constraint(expver = 1))"
   ]
  },
  {
   "cell_type": "code",
   "execution_count": 23,
   "metadata": {},
   "outputs": [
    {
     "data": {
      "text/html": [
       "\n",
       "<style>\n",
       "  a.iris {\n",
       "      text-decoration: none !important;\n",
       "  }\n",
       "  table.iris {\n",
       "      white-space: pre;\n",
       "      border: 1px solid;\n",
       "      border-color: #9c9c9c;\n",
       "      font-family: monaco, monospace;\n",
       "  }\n",
       "  th.iris {\n",
       "      background: #303f3f;\n",
       "      color: #e0e0e0;\n",
       "      border-left: 1px solid;\n",
       "      border-color: #9c9c9c;\n",
       "      font-size: 1.05em;\n",
       "      min-width: 50px;\n",
       "      max-width: 125px;\n",
       "  }\n",
       "  tr.iris :first-child {\n",
       "      border-right: 1px solid #9c9c9c !important;\n",
       "  }\n",
       "  td.iris-title {\n",
       "      background: #d5dcdf;\n",
       "      border-top: 1px solid #9c9c9c;\n",
       "      font-weight: bold;\n",
       "  }\n",
       "  .iris-word-cell {\n",
       "      text-align: left !important;\n",
       "      white-space: pre;\n",
       "  }\n",
       "  .iris-subheading-cell {\n",
       "      padding-left: 2em !important;\n",
       "  }\n",
       "  .iris-inclusion-cell {\n",
       "      padding-right: 1em !important;\n",
       "  }\n",
       "  .iris-panel-body {\n",
       "      padding-top: 0px;\n",
       "  }\n",
       "  .iris-panel-title {\n",
       "      padding-left: 3em;\n",
       "  }\n",
       "  .iris-panel-title {\n",
       "      margin-top: 7px;\n",
       "  }\n",
       "</style>\n",
       "<table class=\"iris\" id=\"139657249285200\">\n",
       "    <tr class=\"iris\">\n",
       "<th class=\"iris iris-word-cell\">Surface Air Pressure (Pa)</th>\n",
       "<th class=\"iris iris-word-cell\">time</th>\n",
       "<th class=\"iris iris-word-cell\">latitude</th>\n",
       "<th class=\"iris iris-word-cell\">longitude</th>\n",
       "</tr>\n",
       "    <tr class=\"iris\">\n",
       "<td class=\"iris-word-cell iris-subheading-cell\">Shape</td>\n",
       "<td class=\"iris iris-inclusion-cell\">493</td>\n",
       "<td class=\"iris iris-inclusion-cell\">721</td>\n",
       "<td class=\"iris iris-inclusion-cell\">1440</td>\n",
       "</tr>\n",
       "    <tr class=\"iris\">\n",
       "    <td class=\"iris-title iris-word-cell\">Dimension coordinates</td>\n",
       "    <td class=\"iris-title\"></td>\n",
       "    <td class=\"iris-title\"></td>\n",
       "    <td class=\"iris-title\"></td>\n",
       "</tr>\n",
       "<tr class=\"iris\">\n",
       "    <td class=\"iris-word-cell iris-subheading-cell\">\ttime</td>\n",
       "    <td class=\"iris-inclusion-cell\">x</td>\n",
       "    <td class=\"iris-inclusion-cell\">-</td>\n",
       "    <td class=\"iris-inclusion-cell\">-</td>\n",
       "</tr>\n",
       "<tr class=\"iris\">\n",
       "    <td class=\"iris-word-cell iris-subheading-cell\">\tlatitude</td>\n",
       "    <td class=\"iris-inclusion-cell\">-</td>\n",
       "    <td class=\"iris-inclusion-cell\">x</td>\n",
       "    <td class=\"iris-inclusion-cell\">-</td>\n",
       "</tr>\n",
       "<tr class=\"iris\">\n",
       "    <td class=\"iris-word-cell iris-subheading-cell\">\tlongitude</td>\n",
       "    <td class=\"iris-inclusion-cell\">-</td>\n",
       "    <td class=\"iris-inclusion-cell\">-</td>\n",
       "    <td class=\"iris-inclusion-cell\">x</td>\n",
       "</tr>\n",
       "<tr class=\"iris\">\n",
       "    <td class=\"iris-title iris-word-cell\">Scalar coordinates</td>\n",
       "    <td class=\"iris-title\"></td>\n",
       "    <td class=\"iris-title\"></td>\n",
       "    <td class=\"iris-title\"></td>\n",
       "</tr>\n",
       "<tr class=\"iris\">\n",
       "    <td class=\"iris-word-cell iris-subheading-cell\">\texpver</td>\n",
       "    <td class=\"iris-word-cell\" colspan=\"3\">1</td>\n",
       "</tr>\n",
       "<tr class=\"iris\">\n",
       "    <td class=\"iris-title iris-word-cell\">Attributes</td>\n",
       "    <td class=\"iris-title\"></td>\n",
       "    <td class=\"iris-title\"></td>\n",
       "    <td class=\"iris-title\"></td>\n",
       "</tr>\n",
       "<tr class=\"iris\">\n",
       "    <td class=\"iris-word-cell iris-subheading-cell\">\tConventions</td>\n",
       "    <td class=\"iris-word-cell\" colspan=\"3\">CF-1.6</td>\n",
       "</tr>\n",
       "<tr class=\"iris\">\n",
       "    <td class=\"iris-word-cell iris-subheading-cell\">\thistory</td>\n",
       "    <td class=\"iris-word-cell\" colspan=\"3\">2020-02-21 00:38:12 GMT by grib_to_netcdf-2.16.0: /opt/ecmwf/eccodes/bin/grib_to_netcdf...</td>\n",
       "</tr>\n",
       "</table>\n",
       "        "
      ],
      "text/plain": [
       "<iris 'Cube' of surface_air_pressure / (Pa) (time: 493; latitude: 721; longitude: 1440)>"
      ]
     },
     "execution_count": 23,
     "metadata": {},
     "output_type": "execute_result"
    }
   ],
   "source": [
    "cube"
   ]
  },
  {
   "cell_type": "code",
   "execution_count": 3,
   "metadata": {},
   "outputs": [],
   "source": [
    "%%time\n",
    "air_pressure_series = []\n",
    "for index, row in sample_df.iterrows():\n",
    "    date_list = row['date'].split('-')\n",
    "    year = int(date_list[0])\n",
    "    month = int(date_list[1])\n",
    "    lat = row['LATITUDE']\n",
    "    long = row['LONGITUDE']\n",
    "    air_pressure_series.append(query_wind(year, month, lat, long, cube))"
   ]
  },
  {
   "cell_type": "code",
   "execution_count": 28,
   "metadata": {},
   "outputs": [],
   "source": [
    "sample_df['air_pressure'] = air_pressure_series\n",
    "sample_df.to_csv('./sample_with_air_pressure.csv')"
   ]
  },
  {
   "cell_type": "code",
   "execution_count": 29,
   "metadata": {},
   "outputs": [
    {
     "data": {
      "text/html": [
       "<div>\n",
       "<style scoped>\n",
       "    .dataframe tbody tr th:only-of-type {\n",
       "        vertical-align: middle;\n",
       "    }\n",
       "\n",
       "    .dataframe tbody tr th {\n",
       "        vertical-align: top;\n",
       "    }\n",
       "\n",
       "    .dataframe thead th {\n",
       "        text-align: right;\n",
       "    }\n",
       "</style>\n",
       "<table border=\"1\" class=\"dataframe\">\n",
       "  <thead>\n",
       "    <tr style=\"text-align: right;\">\n",
       "      <th></th>\n",
       "      <th>Unnamed: 0</th>\n",
       "      <th>LATITUDE</th>\n",
       "      <th>LONGITUDE</th>\n",
       "      <th>date</th>\n",
       "      <th>fire_class</th>\n",
       "      <th>wind</th>\n",
       "      <th>rain</th>\n",
       "      <th>air_pressure</th>\n",
       "    </tr>\n",
       "  </thead>\n",
       "  <tbody>\n",
       "    <tr>\n",
       "      <th>0</th>\n",
       "      <td>17447</td>\n",
       "      <td>34.150278</td>\n",
       "      <td>-111.161111</td>\n",
       "      <td>2006-07-08 00:00:00</td>\n",
       "      <td>1</td>\n",
       "      <td>1.885379</td>\n",
       "      <td>1.62</td>\n",
       "      <td>83488.001293</td>\n",
       "    </tr>\n",
       "    <tr>\n",
       "      <th>1</th>\n",
       "      <td>1408617</td>\n",
       "      <td>34.549600</td>\n",
       "      <td>-83.314900</td>\n",
       "      <td>1997-09-05 00:00:00</td>\n",
       "      <td>1</td>\n",
       "      <td>2.074109</td>\n",
       "      <td>3.54</td>\n",
       "      <td>98583.801239</td>\n",
       "    </tr>\n",
       "    <tr>\n",
       "      <th>2</th>\n",
       "      <td>1774717</td>\n",
       "      <td>38.932217</td>\n",
       "      <td>-121.090600</td>\n",
       "      <td>2014-02-26 00:00:00</td>\n",
       "      <td>1</td>\n",
       "      <td>2.425365</td>\n",
       "      <td>4.55</td>\n",
       "      <td>95627.461316</td>\n",
       "    </tr>\n",
       "    <tr>\n",
       "      <th>3</th>\n",
       "      <td>661920</td>\n",
       "      <td>37.474330</td>\n",
       "      <td>-78.271670</td>\n",
       "      <td>2006-03-11 00:00:00</td>\n",
       "      <td>1</td>\n",
       "      <td>3.078590</td>\n",
       "      <td>0.76</td>\n",
       "      <td>100349.321228</td>\n",
       "    </tr>\n",
       "    <tr>\n",
       "      <th>4</th>\n",
       "      <td>69324</td>\n",
       "      <td>34.443333</td>\n",
       "      <td>-118.091667</td>\n",
       "      <td>1994-05-15 00:00:00</td>\n",
       "      <td>1</td>\n",
       "      <td>2.529557</td>\n",
       "      <td>0.14</td>\n",
       "      <td>88059.714344</td>\n",
       "    </tr>\n",
       "    <tr>\n",
       "      <th>...</th>\n",
       "      <td>...</td>\n",
       "      <td>...</td>\n",
       "      <td>...</td>\n",
       "      <td>...</td>\n",
       "      <td>...</td>\n",
       "      <td>...</td>\n",
       "      <td>...</td>\n",
       "      <td>...</td>\n",
       "    </tr>\n",
       "    <tr>\n",
       "      <th>3495</th>\n",
       "      <td>1564624</td>\n",
       "      <td>45.534167</td>\n",
       "      <td>-116.297500</td>\n",
       "      <td>2012-09-06 00:00:00</td>\n",
       "      <td>7</td>\n",
       "      <td>1.462686</td>\n",
       "      <td>0.12</td>\n",
       "      <td>86285.565225</td>\n",
       "    </tr>\n",
       "    <tr>\n",
       "      <th>3496</th>\n",
       "      <td>358740</td>\n",
       "      <td>35.507217</td>\n",
       "      <td>-83.457391</td>\n",
       "      <td>2001-11-10 00:00:00</td>\n",
       "      <td>7</td>\n",
       "      <td>2.028876</td>\n",
       "      <td>1.65</td>\n",
       "      <td>90951.335792</td>\n",
       "    </tr>\n",
       "    <tr>\n",
       "      <th>3497</th>\n",
       "      <td>628216</td>\n",
       "      <td>33.513660</td>\n",
       "      <td>-102.827900</td>\n",
       "      <td>2006-03-12 00:00:00</td>\n",
       "      <td>7</td>\n",
       "      <td>5.170843</td>\n",
       "      <td>0.34</td>\n",
       "      <td>88579.187967</td>\n",
       "    </tr>\n",
       "    <tr>\n",
       "      <th>3498</th>\n",
       "      <td>330099</td>\n",
       "      <td>43.146400</td>\n",
       "      <td>-113.563900</td>\n",
       "      <td>2007-08-16 00:00:00</td>\n",
       "      <td>7</td>\n",
       "      <td>4.055931</td>\n",
       "      <td>0.07</td>\n",
       "      <td>84636.538490</td>\n",
       "    </tr>\n",
       "    <tr>\n",
       "      <th>3499</th>\n",
       "      <td>305615</td>\n",
       "      <td>65.516900</td>\n",
       "      <td>-143.172400</td>\n",
       "      <td>2004-06-14 00:00:00</td>\n",
       "      <td>7</td>\n",
       "      <td>1.825484</td>\n",
       "      <td>0.99</td>\n",
       "      <td>95353.917896</td>\n",
       "    </tr>\n",
       "  </tbody>\n",
       "</table>\n",
       "<p>3500 rows × 8 columns</p>\n",
       "</div>"
      ],
      "text/plain": [
       "      Unnamed: 0   LATITUDE   LONGITUDE                 date  fire_class  \\\n",
       "0          17447  34.150278 -111.161111  2006-07-08 00:00:00           1   \n",
       "1        1408617  34.549600  -83.314900  1997-09-05 00:00:00           1   \n",
       "2        1774717  38.932217 -121.090600  2014-02-26 00:00:00           1   \n",
       "3         661920  37.474330  -78.271670  2006-03-11 00:00:00           1   \n",
       "4          69324  34.443333 -118.091667  1994-05-15 00:00:00           1   \n",
       "...          ...        ...         ...                  ...         ...   \n",
       "3495     1564624  45.534167 -116.297500  2012-09-06 00:00:00           7   \n",
       "3496      358740  35.507217  -83.457391  2001-11-10 00:00:00           7   \n",
       "3497      628216  33.513660 -102.827900  2006-03-12 00:00:00           7   \n",
       "3498      330099  43.146400 -113.563900  2007-08-16 00:00:00           7   \n",
       "3499      305615  65.516900 -143.172400  2004-06-14 00:00:00           7   \n",
       "\n",
       "          wind  rain   air_pressure  \n",
       "0     1.885379  1.62   83488.001293  \n",
       "1     2.074109  3.54   98583.801239  \n",
       "2     2.425365  4.55   95627.461316  \n",
       "3     3.078590  0.76  100349.321228  \n",
       "4     2.529557  0.14   88059.714344  \n",
       "...        ...   ...            ...  \n",
       "3495  1.462686  0.12   86285.565225  \n",
       "3496  2.028876  1.65   90951.335792  \n",
       "3497  5.170843  0.34   88579.187967  \n",
       "3498  4.055931  0.07   84636.538490  \n",
       "3499  1.825484  0.99   95353.917896  \n",
       "\n",
       "[3500 rows x 8 columns]"
      ]
     },
     "execution_count": 29,
     "metadata": {},
     "output_type": "execute_result"
    }
   ],
   "source": [
    "sample_df"
   ]
  },
  {
   "cell_type": "code",
   "execution_count": 31,
   "metadata": {},
   "outputs": [
    {
     "data": {
      "image/png": "[encoded data removed]",
      "text/plain": [
       "<Figure size 432x288 with 2 Axes>"
      ]
     },
     "metadata": {
      "needs_background": "light"
     },
     "output_type": "display_data"
    }
   ],
   "source": [
    "sample_df_show = sample_df.drop(columns=['date', 'Unnamed: 0'])\n",
    "corr = sample_df_show.corr()\n",
    "plt.figure()\n",
    "sns.heatmap(corr,annot = True)\n",
    "plt.show()"
   ]
  },
  {
   "cell_type": "code",
   "execution_count": null,
   "metadata": {},
   "outputs": [],
   "source": []
  }
 ],
 "metadata": {
  "kernelspec": {
   "display_name": "Python 3",
   "language": "python",
   "name": "python3"
  },
  "language_info": {
   "codemirror_mode": {
    "name": "ipython",
    "version": 3
   },
   "file_extension": ".py",
   "mimetype": "text/x-python",
   "name": "python",
   "nbconvert_exporter": "python",
   "pygments_lexer": "ipython3",
   "version": "3.7.6"
  }
 },
 "nbformat": 4,
 "nbformat_minor": 2
}
