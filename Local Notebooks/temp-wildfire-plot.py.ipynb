{
 "cells": [
  {
   "cell_type": "code",
   "execution_count": 1,
   "metadata": {},
   "outputs": [],
   "source": [
    "import sqlite3\n",
    "import numpy as np\n",
    "import pandas as pd\n",
    "import seaborn as sns\n",
    "import numpy as np\n",
    "import datetime\n",
    "import sys\n",
    "import os\n",
    "import matplotlib.pyplot as plt\n",
    "from mpl_toolkits.basemap import Basemap\n",
    "%matplotlib notebook\n",
    "from pylab import *\n",
    "from iris.pandas import as_cube, as_series, as_data_frame"
   ]
  },
  {
   "cell_type": "markdown",
   "metadata": {},
   "source": [
    "Add fire_total column to dataframe, which sums all wildfires in particular latitude/longitude, (corrected to 2 decimal places), for a particular year and month"
   ]
  },
  {
   "cell_type": "code",
   "execution_count": 2,
   "metadata": {},
   "outputs": [],
   "source": [
    "def create_wildfire_df(PATH):\n",
    "    '''\n",
    "    PATH: Linux path to sqlite for wildfire database\n",
    "    Output:\n",
    "        dataframe: of wildfire with the following columns:\n",
    "        LATITUDE\n",
    "        LONGITUDE\n",
    "        STATE\n",
    "        date\n",
    "        fire_size\n",
    "        fire_year\n",
    "        fire_month\n",
    "        fire_total (This is total fire in a particular latitude, longitude, fire_year and fire_month)\n",
    "    '''\n",
    "    assert(os.path.exists(PATH)),\"Incorrect file path\"\n",
    "    conn = sqlite3.connect(PATH)\n",
    "    data_dates = pd.read_sql_query(\"SELECT fire_year, discovery_date FROM fires;\", conn)\n",
    "    data_size = pd.read_sql_query(\"SELECT fire_size, fire_size_class FROM fires;\", conn)\n",
    "    data_location = pd.read_sql_query(\"SELECT latitude, longitude, state FROM fires;\", conn)\n",
    "    date = pd.read_sql_query(\"select datetime(DISCOVERY_DATE) as DISCOVERY_DATE from fires;\", conn)\n",
    "    data_dates_arr = date['DISCOVERY_DATE']\n",
    "    fire_year_arr = data_dates['FIRE_YEAR']\n",
    "    fire_size_arr = data_size['FIRE_SIZE']  \n",
    "    #Create a dataframe df \n",
    "    df = data_location\n",
    "    df['date'] = data_dates_arr\n",
    "    df['fire_size'] = fire_size_arr\n",
    "    df['fire_year'] = fire_year_arr\n",
    "    df['fire_month'] = pd.DatetimeIndex(df['date']).month\n",
    "    #Converted Lat and Long to int to remove the exact precision\n",
    "    df['LATITUDE'] = df['LATITUDE'].round(2)\n",
    "    df['LONGITUDE'] = df['LONGITUDE'].round(2)\n",
    "##Compute total fire based on Latitude, Longitude, fire_year and fire_month\n",
    "    df['fire_total'] = df.groupby(['LATITUDE','LONGITUDE', 'fire_year','fire_month'])['fire_size'].transform(sum)\n",
    "    \n",
    "    return df"
   ]
  },
  {
   "cell_type": "code",
   "execution_count": 3,
   "metadata": {},
   "outputs": [],
   "source": [
    "def large_fire_coord(state, fire_size, df):\n",
    "    '''\n",
    "    Function: Extact locations for very large wildfires\n",
    "    Input: \n",
    "        state: The state we want to focus on.\n",
    "        df: Input dataframe\n",
    "        fire_size: fire size above which is considered large\n",
    "    Output:\n",
    "        lat_min,lat_max,long_min,long_max: the coordinates with fires above fire_size in state 'state'\n",
    "    '''\n",
    "    #print(state)\n",
    "    df = df.query(\"fire_total >= fire_size and STATE == @state\")\n",
    "    lat_max = df['LATITUDE'].max()\n",
    "    lat_min = df['LATITUDE'].min()\n",
    "    long_max = df['LONGITUDE'].max()\n",
    "    long_min = df['LONGITUDE'].min() \n",
    "    return lat_min,lat_max,long_min,long_max"
   ]
  },
  {
   "cell_type": "code",
   "execution_count": 4,
   "metadata": {},
   "outputs": [],
   "source": [
    "#create fire_df which is a dataframe containing all wildfire information\n",
    "PATH = '../../188-million-us-wildfires/FPA_FOD_20170508.sqlite'\n",
    "fire_df = create_wildfire_df(PATH)"
   ]
  },
  {
   "cell_type": "code",
   "execution_count": 5,
   "metadata": {},
   "outputs": [],
   "source": [
    "# ##Returns fire_sz \n",
    "# def process_df(coords, df):\n",
    "#     '''\n",
    "#     Input: \n",
    "#         coords: A tuple of lat_min,lat_max,long_min,long_max in which we need to find wild fires\n",
    "#         Find sum of fire occuring within the location, for a given year and month\n",
    "    \n",
    "#     '''\n",
    "#     lat_min,lat_max,long_min,long_max = coords\n",
    "#     #print(lat_min,lat_max,long_min,long_max)\n",
    "#     df_new = df.query(\"LATITUDE >= @lat_min and LATITUDE <= @lat_max and LONGITUDE >= @long_min and LONGITUDE <= @long_max\")\n",
    "#     #print(df_new)\n",
    "#     df_new['fire_total_area'] = df_new.groupby(['fire_year','fire_month'])['fire_total'].transform(sum)\n",
    "#     df_new = df_new.sort_values('fire_total', ascending=False).drop_duplicates(['fire_year','fire_month'])\n",
    "#     df_final = df_new[['fire_year','fire_month','fire_total_area']]\n",
    "#     return df_final\n",
    "def process_df(coords, fire_size, df,year):\n",
    "    '''\n",
    "    Input: \n",
    "        coords: A tuple of lat_min,lat_max,long_min,long_max in which we need to find wild fires\n",
    "        Find sum of fire occuring within the location, for a given year and month\n",
    "        output: (fire_sz,latitudes,longitudes), with area burnt in a particular location, fire size larger than  a large fire, and particular fire year\n",
    "    '''\n",
    "    lat_min,lat_max,long_min,long_max = coords\n",
    "    print(\"Inital\", len(df))\n",
    "    #print(lat_min,lat_max,long_min,long_max)\n",
    "    df_new = df.query(\"LATITUDE >= @lat_min and LATITUDE <= @lat_max and LONGITUDE >= @long_min and LONGITUDE <= @long_max and fire_total>=@fire_size and fire_year == @year\")\n",
    "    print(\"Particular Year & location\", len(df_new))\n",
    "    df_new['fire_total_month'] = df_new.groupby(['LATITUDE','LONGITUDE', 'fire_year'])['fire_total'].transform(sum)    \n",
    "    df_new = df_new.sort_values('fire_total', ascending=False).drop_duplicates(['fire_total_month'])\n",
    "    print(\"Sum over months in year\", len(df_new))\n",
    "    fire_sz= np.array(df_new['fire_total_month'].to_list())\n",
    "    lat_fire = np.array(df_new['LATITUDE'].tolist())\n",
    "    lon_fire = np.array(df_new['LONGITUDE'].tolist())+360\n",
    "    return fire_sz,lat_fire,lon_fire"
   ]
  },
  {
   "cell_type": "code",
   "execution_count": null,
   "metadata": {},
   "outputs": [],
   "source": []
  },
  {
   "cell_type": "code",
   "execution_count": 6,
   "metadata": {},
   "outputs": [],
   "source": [
    "###Get coordinates where fires are really large only.. In state of AK.\n",
    "coords = large_fire_coord('AK',10000,fire_df)\n",
    "#fire_df_local = process_df(coords,100,fire_df,2004)"
   ]
  },
  {
   "cell_type": "code",
   "execution_count": 7,
   "metadata": {},
   "outputs": [
    {
     "name": "stdout",
     "output_type": "stream",
     "text": [
      "Inital 1880465\n",
      "Particular Year & location 123\n",
      "Sum over months in year 121\n"
     ]
    },
    {
     "name": "stderr",
     "output_type": "stream",
     "text": [
      "C:\\Users\\payal\\Anaconda4\\lib\\site-packages\\ipykernel_launcher.py:29: SettingWithCopyWarning: \n",
      "A value is trying to be set on a copy of a slice from a DataFrame.\n",
      "Try using .loc[row_indexer,col_indexer] = value instead\n",
      "\n",
      "See the caveats in the documentation: http://pandas.pydata.org/pandas-docs/stable/indexing.html#indexing-view-versus-copy\n"
     ]
    }
   ],
   "source": [
    "fire_sz,l,ll = process_df(coords,100,fire_df,2004)"
   ]
  },
  {
   "cell_type": "code",
   "execution_count": 8,
   "metadata": {},
   "outputs": [
    {
     "data": {
      "text/plain": [
       "(51.53, 70.33, -178.8, -130.05)"
      ]
     },
     "execution_count": 8,
     "metadata": {},
     "output_type": "execute_result"
    }
   ],
   "source": [
    "coords"
   ]
  },
  {
   "cell_type": "code",
   "execution_count": 9,
   "metadata": {},
   "outputs": [],
   "source": [
    "import os \n",
    "import numpy as np\n",
    "import iris   \n",
    "import iris.plot as iplt\n",
    "import iris.quickplot as qplt\n",
    "import matplotlib.pyplot as plt\n",
    "%matplotlib inline\n",
    "import iris.coord_categorisation as cat\n",
    "import pandas as pd\n",
    "from iris.analysis import Aggregator"
   ]
  },
  {
   "cell_type": "code",
   "execution_count": 10,
   "metadata": {},
   "outputs": [],
   "source": [
    "def region_based_cube(cube,coords):\n",
    "    '''\n",
    "    Inputs:\n",
    "        cube with latitude and longitude as coords\n",
    "        coords: the region we want to extract from input cube\n",
    "    Outputs: \n",
    "        A smaller cube within coords\n",
    "    '''\n",
    "    lat_min,lat_max,long_min,long_max = coords\n",
    "    lat_cons = iris.Constraint(latitude = lambda x : lat_min < x < lat_max)\n",
    "    if (long_min<0):\n",
    "        long_min = long_min+360\n",
    "    if(long_max <0) :\n",
    "        long_max = long_max+360\n",
    "    long_cons = iris.Constraint(longitude = lambda x : long_min < x < long_max)\n",
    "    new_cube = cube.extract(lat_cons & long_cons)\n",
    "    return new_cube"
   ]
  },
  {
   "cell_type": "code",
   "execution_count": 11,
   "metadata": {},
   "outputs": [],
   "source": [
    "def time_based_cube(cube,year):\n",
    "    time_cons = iris.Constraint(year = year)\n",
    "    new_cube = cube.extract(time_cons)\n",
    "    return new_cube"
   ]
  },
  {
   "cell_type": "code",
   "execution_count": 12,
   "metadata": {},
   "outputs": [],
   "source": [
    "##Adding auxilary axis:\n",
    "def get_decade(coord, value):\n",
    "    date = coord.units.num2date(value)\n",
    "    return date.year - date.year % 10\n",
    "def get_year(coord, value):\n",
    "    date = coord.units.num2date(value)\n",
    "    return date.year\n",
    "\n",
    "def get_month(coord, value):\n",
    "    date = coord.units.num2date(value)\n",
    "    return date.month\n"
   ]
  },
  {
   "cell_type": "code",
   "execution_count": 13,
   "metadata": {},
   "outputs": [],
   "source": [
    "##Create cube_local which is cube extracted for same coords as wildfire.\n",
    "PATH_temp = os.path.join(os.getcwd(), \"../../air.mon.mean.nc\")\n",
    "cube_temp = iris.load_cube(PATH_temp)\n",
    "cat.add_categorised_coord(cube_temp, 'year', 'time', get_year)\n",
    "cat.add_categorised_coord(cube_temp, 'month', 'time', get_month)\n",
    "cube_local = region_based_cube(cube_temp,coords)\n"
   ]
  },
  {
   "cell_type": "code",
   "execution_count": 14,
   "metadata": {},
   "outputs": [],
   "source": [
    "##Get the cube for a particular year. It takes maximum temperature seen in that year\n",
    "def get_cube_data(cube,year):\n",
    "    cube_time = time_based_cube(cube,year)\n",
    "    cube_mean = cube_time.collapsed(['month'], iris.analysis.MAX)\n",
    "    lat = cube_mean.coord('latitude').points\n",
    "    lon = cube_mean.coord('longitude').points\n",
    "    return cube_mean.data,lat,lon"
   ]
  },
  {
   "cell_type": "code",
   "execution_count": 15,
   "metadata": {},
   "outputs": [
    {
     "name": "stderr",
     "output_type": "stream",
     "text": [
      "C:\\Users\\payal\\Anaconda4\\lib\\site-packages\\iris\\coords.py:1410: UserWarning: Collapsing a non-contiguous coordinate. Metadata may not be fully descriptive for 'time'.\n",
      "  warnings.warn(msg.format(self.name()))\n",
      "C:\\Users\\payal\\Anaconda4\\lib\\site-packages\\iris\\coords.py:1410: UserWarning: Collapsing a non-contiguous coordinate. Metadata may not be fully descriptive for 'month'.\n",
      "  warnings.warn(msg.format(self.name()))\n",
      "C:\\Users\\payal\\Anaconda4\\lib\\site-packages\\iris\\coords.py:1410: UserWarning: Collapsing a non-contiguous coordinate. Metadata may not be fully descriptive for 'year'.\n",
      "  warnings.warn(msg.format(self.name()))\n"
     ]
    }
   ],
   "source": [
    "data,lat,lon=get_cube_data(cube_local,2004)"
   ]
  },
  {
   "cell_type": "code",
   "execution_count": 16,
   "metadata": {},
   "outputs": [
    {
     "name": "stdout",
     "output_type": "stream",
     "text": [
      "51.75 70.25 181.25 229.75\n"
     ]
    }
   ],
   "source": [
    "print(min(lat),max(lat),min(lon),max(lon))\n"
   ]
  },
  {
   "cell_type": "code",
   "execution_count": 17,
   "metadata": {},
   "outputs": [
    {
     "name": "stderr",
     "output_type": "stream",
     "text": [
      "C:\\Users\\payal\\Anaconda4\\lib\\site-packages\\iris\\coords.py:1410: UserWarning: Collapsing a non-contiguous coordinate. Metadata may not be fully descriptive for 'time'.\n",
      "  warnings.warn(msg.format(self.name()))\n",
      "C:\\Users\\payal\\Anaconda4\\lib\\site-packages\\iris\\coords.py:1410: UserWarning: Collapsing a non-contiguous coordinate. Metadata may not be fully descriptive for 'month'.\n",
      "  warnings.warn(msg.format(self.name()))\n",
      "C:\\Users\\payal\\Anaconda4\\lib\\site-packages\\iris\\coords.py:1410: UserWarning: Collapsing a non-contiguous coordinate. Metadata may not be fully descriptive for 'year'.\n",
      "  warnings.warn(msg.format(self.name()))\n",
      "C:\\Users\\payal\\Anaconda4\\lib\\site-packages\\ipykernel_launcher.py:29: SettingWithCopyWarning: \n",
      "A value is trying to be set on a copy of a slice from a DataFrame.\n",
      "Try using .loc[row_indexer,col_indexer] = value instead\n",
      "\n",
      "See the caveats in the documentation: http://pandas.pydata.org/pandas-docs/stable/indexing.html#indexing-view-versus-copy\n"
     ]
    },
    {
     "name": "stdout",
     "output_type": "stream",
     "text": [
      "Inital 1880465\n",
      "Particular Year & location 123\n",
      "Sum over months in year 121\n"
     ]
    },
    {
     "data": {
      "image/png": "[encoded data removed]",
      "text/plain": [
       "<Figure size 1080x576 with 3 Axes>"
      ]
     },
     "metadata": {
      "needs_background": "light"
     },
     "output_type": "display_data"
    }
   ],
   "source": [
    "##Plot showing temperature with wildfire size for 2004. \n",
    "##Size of circles denote and color denote area burnt due to wildfire.\n",
    "#%matplotlib notebook\n",
    "\n",
    "#def create_map(year):\n",
    "year = 2004\n",
    "plt.figure(figsize=[15,8])\n",
    "#fig, ax = plt.subplots(figsize=(10, 4))\n",
    "#fig, ax = plt.subplots()\n",
    "m=Basemap(projection='mill',lat_ts=10, \\\n",
    "  llcrnrlon=coords[2]+360,urcrnrlon=coords[3]+360, \\\n",
    "  llcrnrlat=coords[0],urcrnrlat=coords[1], \\\n",
    "  resolution='c')\n",
    "m.drawcoastlines(linewidth=0.25)\n",
    "m.drawcountries(linewidth=0.85,color='red')\n",
    "data,lat,lon=get_cube_data(cube_local,year)\n",
    "Lon,Lat = meshgrid(lon,lat)\n",
    "x, y = m(Lon,Lat)\n",
    "cs = m.pcolormesh(x,y,data,shading='flat',cmap='viridis')\n",
    "#print(\"CS..\",type(cs))\n",
    "cbar= plt.colorbar()\n",
    "cbar.set_label(\"Temperature (K)\", labelpad=+1)\n",
    "fire_sz,lat_fire,lon_fire = process_df(coords,100,fire_df,year)\n",
    "a,b = m(lon_fire,lat_fire)\n",
    "scat = m.scatter(lon_fire, lat_fire, s=fire_sz/1000, latlon=True,\n",
    "         c=fire_sz,cmap='YlOrRd',\n",
    "          alpha=0.5)\n",
    "cbar= plt.colorbar()\n",
    "cbar.set_label(\"fire_size (m)\", labelpad=+1)\n",
    "plt.show()\n",
    "\n",
    "\n",
    "# %matplotlib notebook\n",
    "# interactive_plot = interactive(create_map, year=(1992,2012,1))\n",
    "# output = interactive_plot.children[-1]\n",
    "# output.layout.height = '350px'\n",
    "# interactive_plot"
   ]
  },
  {
   "cell_type": "markdown",
   "metadata": {},
   "source": [
    "# Time Series Analysis"
   ]
  },
  {
   "cell_type": "code",
   "execution_count": 18,
   "metadata": {},
   "outputs": [],
   "source": [
    "def process_df_local(coords, df):\n",
    "    '''\n",
    "    Input: \n",
    "        coords: A tuple of lat_min,lat_max,long_min,long_max in which we need to find wild fires\n",
    "        Find sum of fire occuring within the location, for a given year and month\n",
    "    \n",
    "    '''\n",
    "    lat_min,lat_max,long_min,long_max = coords\n",
    "    #print(lat_min,lat_max,long_min,long_max)\n",
    "    df_new = df.query(\"LATITUDE >= @lat_min and LATITUDE <= @lat_max and LONGITUDE >= @long_min and LONGITUDE <= @long_max\")\n",
    "    #print(df_new)\n",
    "    df_new['fire_total_area'] = df_new.groupby(['fire_year','fire_month'])['fire_total'].transform(sum)\n",
    "    df_new = df_new.sort_values('fire_total_area', ascending=False).drop_duplicates(['fire_year','fire_month'])\n",
    "    df_final = df_new[['fire_year','fire_month','fire_total_area']]\n",
    "    return df_final"
   ]
  },
  {
   "cell_type": "code",
   "execution_count": 19,
   "metadata": {},
   "outputs": [
    {
     "name": "stderr",
     "output_type": "stream",
     "text": [
      "C:\\Users\\payal\\Anaconda4\\lib\\site-packages\\ipykernel_launcher.py:12: SettingWithCopyWarning: \n",
      "A value is trying to be set on a copy of a slice from a DataFrame.\n",
      "Try using .loc[row_indexer,col_indexer] = value instead\n",
      "\n",
      "See the caveats in the documentation: http://pandas.pydata.org/pandas-docs/stable/indexing.html#indexing-view-versus-copy\n",
      "  if sys.path[0] == '':\n"
     ]
    }
   ],
   "source": [
    "fire_time_based = process_df_local(coords,fire_df)\n",
    "fire_time_based = fire_time_based.rename(columns={\"fire_year\": \"year\", \"fire_month\": \"month\"})"
   ]
  },
  {
   "cell_type": "code",
   "execution_count": 20,
   "metadata": {},
   "outputs": [],
   "source": [
    "PATH_temp = os.path.join(os.getcwd(), \"../../air.mon.mean.nc\")\n",
    "cube_temp = iris.load_cube(PATH_temp)\n",
    "cube_local = region_based_cube(cube_temp,coords)"
   ]
  },
  {
   "cell_type": "code",
   "execution_count": 21,
   "metadata": {},
   "outputs": [
    {
     "name": "stderr",
     "output_type": "stream",
     "text": [
      "C:\\Users\\payal\\Anaconda4\\lib\\site-packages\\iris\\coords.py:1410: UserWarning: Collapsing a non-contiguous coordinate. Metadata may not be fully descriptive for 'latitude'.\n",
      "  warnings.warn(msg.format(self.name()))\n",
      "C:\\Users\\payal\\Anaconda4\\lib\\site-packages\\iris\\coords.py:1410: UserWarning: Collapsing a non-contiguous coordinate. Metadata may not be fully descriptive for 'longitude'.\n",
      "  warnings.warn(msg.format(self.name()))\n"
     ]
    }
   ],
   "source": [
    "cube_max = cube_local.collapsed(['latitude','longitude'], iris.analysis.MAX)"
   ]
  },
  {
   "cell_type": "code",
   "execution_count": 22,
   "metadata": {},
   "outputs": [],
   "source": [
    "df = as_data_frame(cube_max, copy=True)\n",
    "df = df.reset_index()\n",
    "df['month'] = pd.DatetimeIndex(df['index']).month\n",
    "df['year'] = pd.DatetimeIndex(df['index']).year\n",
    "df.drop('index',axis=1,inplace=True)\n",
    "df = df.rename(columns={0:\"Temperature\"})\n",
    "df = df.query(\"year >= 1992 and year <=2015\")\n"
   ]
  },
  {
   "cell_type": "code",
   "execution_count": 23,
   "metadata": {},
   "outputs": [],
   "source": [
    "result1 = pd.merge(df, fire_time_based, on=['year', 'month'],how='left')\n",
    "result1.fillna(0,inplace=True)"
   ]
  },
  {
   "cell_type": "code",
   "execution_count": 24,
   "metadata": {},
   "outputs": [],
   "source": [
    "#result1['fire_total_area'].max()"
   ]
  },
  {
   "cell_type": "code",
   "execution_count": 25,
   "metadata": {},
   "outputs": [],
   "source": [
    "def create_plt(month):\n",
    "    temp = result1[result1['month'] == month]['Temperature'].tolist()\n",
    "    area = result1[result1['month'] == month]['fire_total_area'].tolist()\n",
    "    m_temp = [mean(temp)]*len(temp)\n",
    "    fig, ax1 = plt.subplots(figsize=(10, 4))\n",
    "    ax1.set_ylabel('Area')\n",
    "    ax1.set_xlabel('Years')\n",
    "    ax1.set_ylim([0,5000000])\n",
    "    ax1.plot(area,color='r',label='Area')\n",
    "    ax2 = ax1.twinx()\n",
    "    ax2.set_ylabel(\"Temp\")\n",
    "    #ax2.set_ylim(270,300)\n",
    "    ax2.plot(temp,label=\"Temp\")\n",
    "    ax2.plot(m_temp,label=\"Mean\")\n",
    "    fig.tight_layout()\n",
    "    plt.legend()\n",
    "    plt.show()\n",
    "#plt.close"
   ]
  },
  {
   "cell_type": "code",
   "execution_count": 27,
   "metadata": {},
   "outputs": [
    {
     "data": {
      "application/vnd.jupyter.widget-view+json": {
       "model_id": "de7fd834fc494e48ad52fcb242357cd4",
       "version_major": 2,
       "version_minor": 0
      },
      "text/plain": [
       "interactive(children=(IntSlider(value=6, description='month', max=12, min=1), Output(layout=Layout(height='350…"
      ]
     },
     "metadata": {},
     "output_type": "display_data"
    }
   ],
   "source": [
    "from ipywidgets import interactive\n",
    "import matplotlib.pyplot as plt\n",
    "import numpy as np\n",
    "%matplotlib notebook\n",
    "interactive_plot = interactive(create_plt, month=(1,12,1))\n",
    "output = interactive_plot.children[-1]\n",
    "output.layout.height = '350px'\n",
    "interactive_plot"
   ]
  },
  {
   "cell_type": "code",
   "execution_count": null,
   "metadata": {},
   "outputs": [],
   "source": [
    "coords"
   ]
  },
  {
   "cell_type": "code",
   "execution_count": null,
   "metadata": {},
   "outputs": [],
   "source": []
  }
 ],
 "metadata": {
  "kernelspec": {
   "display_name": "Python 3",
   "language": "python",
   "name": "python3"
  },
  "language_info": {
   "codemirror_mode": {
    "name": "ipython",
    "version": 3
   },
   "file_extension": ".py",
   "mimetype": "text/x-python",
   "name": "python",
   "nbconvert_exporter": "python",
   "pygments_lexer": "ipython3",
   "version": "3.6.8"
  }
 },
 "nbformat": 4,
 "nbformat_minor": 2
}
