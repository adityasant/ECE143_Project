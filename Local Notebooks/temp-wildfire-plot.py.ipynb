{
 "cells": [
  {
   "cell_type": "code",
   "execution_count": 24,
   "metadata": {},
   "outputs": [],
   "source": [
    "import sqlite3\n",
    "import numpy as np\n",
    "import pandas as pd\n",
    "import seaborn as sns\n",
    "import numpy as np\n",
    "import datetime\n",
    "import sys\n",
    "import os\n",
    "import matplotlib.pyplot as plt\n",
    "from mpl_toolkits.basemap import Basemap\n",
    "%matplotlib inline\n",
    "from pylab import *"
   ]
  },
  {
   "cell_type": "code",
   "execution_count": 69,
   "metadata": {},
   "outputs": [],
   "source": [
    "def create_wildfire_df(PATH):\n",
    "    '''\n",
    "    PATH: Linux path to sqlite for wildfire database\n",
    "    Output:\n",
    "        dataframe: of wildfire with the following columns:\n",
    "        LATITUDE\n",
    "        LONGITUDE\n",
    "        STATE\n",
    "        date\n",
    "        fire_size\n",
    "        fire_year\n",
    "        fire_month\n",
    "        fire_total (This is total fire in a particular latitude, longitude, fire_year and fire_month)\n",
    "    '''\n",
    "    assert(os.path.exists(PATH)),\"Incorrect file path\"\n",
    "    conn = sqlite3.connect(PATH)\n",
    "    data_dates = pd.read_sql_query(\"SELECT fire_year, discovery_date FROM fires;\", conn)\n",
    "    data_size = pd.read_sql_query(\"SELECT fire_size, fire_size_class FROM fires;\", conn)\n",
    "    data_location = pd.read_sql_query(\"SELECT latitude, longitude, state FROM fires;\", conn)\n",
    "    date = pd.read_sql_query(\"select datetime(DISCOVERY_DATE) as DISCOVERY_DATE from fires;\", conn)\n",
    "    data_dates_arr = date['DISCOVERY_DATE']\n",
    "    fire_year_arr = data_dates['FIRE_YEAR']\n",
    "    fire_size_arr = data_size['FIRE_SIZE']  \n",
    "    #Create a dataframe df \n",
    "    df = data_location\n",
    "    df['date'] = data_dates_arr\n",
    "    df['fire_size'] = fire_size_arr\n",
    "    df['fire_year'] = fire_year_arr\n",
    "    df['fire_month'] = pd.DatetimeIndex(df['date']).month\n",
    "    #Converted Lat and Long to int to remove the exact precision\n",
    "    df['LATITUDE'] = df['LATITUDE'].round(2)\n",
    "    df['LONGITUDE'] = df['LONGITUDE'].round(2)\n",
    "##Compute total fire based on Latitude, Longitude, fire_year and fire_month\n",
    "    df['fire_total'] = df.groupby(['LATITUDE','LONGITUDE', 'fire_year','fire_month'])['fire_size'].transform(sum)\n",
    "    \n",
    "    return df"
   ]
  },
  {
   "cell_type": "code",
   "execution_count": 70,
   "metadata": {},
   "outputs": [],
   "source": [
    "def large_fire_coord(state, fire_size, df):\n",
    "    '''\n",
    "    Input: \n",
    "        state: The state we want to focus on.\n",
    "        df: Input dataframe\n",
    "        fire_size: fire size above which is considered large\n",
    "    Output:\n",
    "        lat_min,lat_max,long_min,long_max: the coordinates with fires above fire_size in state 'state'\n",
    "    '''\n",
    "    #print(state)\n",
    "    df = df.query(\"fire_total >= fire_size and STATE == @state\")\n",
    "    lat_max = df['LATITUDE'].max()\n",
    "    lat_min = df['LATITUDE'].min()\n",
    "    long_max = df['LONGITUDE'].max()\n",
    "    long_min = df['LONGITUDE'].min() \n",
    "    return lat_min,lat_max,long_min,long_max"
   ]
  },
  {
   "cell_type": "code",
   "execution_count": 71,
   "metadata": {},
   "outputs": [],
   "source": [
    "PATH = '../../188-million-us-wildfires/FPA_FOD_20170508.sqlite'\n",
    "fire_df = create_wildfire_df(PATH)"
   ]
  },
  {
   "cell_type": "code",
   "execution_count": 83,
   "metadata": {},
   "outputs": [],
   "source": [
    "def process_df(coords, fire_size, df,year):\n",
    "    '''\n",
    "    Input: \n",
    "        coords: A tuple of lat_min,lat_max,long_min,long_max in which we need to find wild fires\n",
    "        Find sum of fire occuring within the location, for a given year and month\n",
    "    \n",
    "    '''\n",
    "    lat_min,lat_max,long_min,long_max = coords\n",
    "    #print(lat_min,lat_max,long_min,long_max)\n",
    "    df_new = df.query(\"LATITUDE >= @lat_min and LATITUDE <= @lat_max and LONGITUDE >= @long_min and LONGITUDE <= @long_max and fire_total>=@fire_size and fire_year == @year\")\n",
    "    return df_new"
   ]
  },
  {
   "cell_type": "code",
   "execution_count": 179,
   "metadata": {},
   "outputs": [],
   "source": [
    "\n",
    "coords = large_fire_coord('AK',100,fire_df)\n",
    "fire_df_local = process_df(coords,100,fire_df,2004)"
   ]
  },
  {
   "cell_type": "code",
   "execution_count": 180,
   "metadata": {},
   "outputs": [],
   "source": [
    "fire_sz= np.array(fire_df_local['fire_size'].to_list())"
   ]
  },
  {
   "cell_type": "code",
   "execution_count": 181,
   "metadata": {},
   "outputs": [],
   "source": [
    "lat_fire = np.array(fire_df_local['LATITUDE'].tolist())\n",
    "lon_fire = np.array(fire_df_local['LONGITUDE'].tolist())+360"
   ]
  },
  {
   "cell_type": "code",
   "execution_count": 182,
   "metadata": {},
   "outputs": [
    {
     "data": {
      "text/plain": [
       "(123,)"
      ]
     },
     "execution_count": 182,
     "metadata": {},
     "output_type": "execute_result"
    }
   ],
   "source": [
    "lon_fire.shape"
   ]
  },
  {
   "cell_type": "code",
   "execution_count": 119,
   "metadata": {},
   "outputs": [],
   "source": [
    "import os \n",
    "import numpy as np\n",
    "import iris   \n",
    "import iris.plot as iplt\n",
    "import iris.quickplot as qplt\n",
    "import matplotlib.pyplot as plt\n",
    "%matplotlib inline\n",
    "import iris.coord_categorisation as cat\n",
    "import pandas as pd\n",
    "from iris.analysis import Aggregator"
   ]
  },
  {
   "cell_type": "code",
   "execution_count": 120,
   "metadata": {},
   "outputs": [],
   "source": [
    "def region_based_cube(cube,coords):\n",
    "    '''\n",
    "    Inputs:\n",
    "        cube with latitude and longitude as coords\n",
    "        coords: the region we want to extract from input cube\n",
    "    Outputs: \n",
    "        A smaller cube within coords\n",
    "    '''\n",
    "    lat_min,lat_max,long_min,long_max = coords\n",
    "    lat_cons = iris.Constraint(latitude = lambda x : lat_min < x < lat_max)\n",
    "    if (long_min<0):\n",
    "        long_min = long_min+360\n",
    "    if(long_max <0) :\n",
    "        long_max = long_max+360\n",
    "    long_cons = iris.Constraint(longitude = lambda x : long_min < x < long_max)\n",
    "    new_cube = cube.extract(lat_cons & long_cons)\n",
    "    return new_cube"
   ]
  },
  {
   "cell_type": "code",
   "execution_count": 121,
   "metadata": {},
   "outputs": [],
   "source": [
    "def time_based_cube(cube,year):\n",
    "    time_cons = iris.Constraint(year = year)\n",
    "    new_cube = cube.extract(time_cons)\n",
    "    return new_cube"
   ]
  },
  {
   "cell_type": "code",
   "execution_count": 122,
   "metadata": {},
   "outputs": [],
   "source": [
    "##Adding auxilary axis:\n",
    "def get_decade(coord, value):\n",
    "    date = coord.units.num2date(value)\n",
    "    return date.year - date.year % 10\n",
    "def get_year(coord, value):\n",
    "    date = coord.units.num2date(value)\n",
    "    return date.year\n",
    "\n",
    "def get_month(coord, value):\n",
    "    date = coord.units.num2date(value)\n",
    "    return date.month\n"
   ]
  },
  {
   "cell_type": "code",
   "execution_count": 123,
   "metadata": {},
   "outputs": [],
   "source": [
    "PATH_temp = os.path.join(os.getcwd(), \"../../air.mon.mean.nc\")\n",
    "cube_temp = iris.load_cube(PATH_temp)\n",
    "cat.add_categorised_coord(cube_temp, 'year', 'time', get_year)\n",
    "cat.add_categorised_coord(cube_temp, 'month', 'time', get_month)\n",
    "cube_local = region_based_cube(cube_temp,coords)\n",
    "cube_time = time_based_cube(cube_local,2004)"
   ]
  },
  {
   "cell_type": "code",
   "execution_count": 124,
   "metadata": {},
   "outputs": [
    {
     "data": {
      "text/html": [
       "\n",
       "<style>\n",
       "  a.iris {\n",
       "      text-decoration: none !important;\n",
       "  }\n",
       "  table.iris {\n",
       "      white-space: pre;\n",
       "      border: 1px solid;\n",
       "      border-color: #9c9c9c;\n",
       "      font-family: monaco, monospace;\n",
       "  }\n",
       "  th.iris {\n",
       "      background: #303f3f;\n",
       "      color: #e0e0e0;\n",
       "      border-left: 1px solid;\n",
       "      border-color: #9c9c9c;\n",
       "      font-size: 1.05em;\n",
       "      min-width: 50px;\n",
       "      max-width: 125px;\n",
       "  }\n",
       "  tr.iris :first-child {\n",
       "      border-right: 1px solid #9c9c9c !important;\n",
       "  }\n",
       "  td.iris-title {\n",
       "      background: #d5dcdf;\n",
       "      border-top: 1px solid #9c9c9c;\n",
       "      font-weight: bold;\n",
       "  }\n",
       "  .iris-word-cell {\n",
       "      text-align: left !important;\n",
       "      white-space: pre;\n",
       "  }\n",
       "  .iris-subheading-cell {\n",
       "      padding-left: 2em !important;\n",
       "  }\n",
       "  .iris-inclusion-cell {\n",
       "      padding-right: 1em !important;\n",
       "  }\n",
       "  .iris-panel-body {\n",
       "      padding-top: 0px;\n",
       "  }\n",
       "  .iris-panel-title {\n",
       "      padding-left: 3em;\n",
       "  }\n",
       "  .iris-panel-title {\n",
       "      margin-top: 7px;\n",
       "  }\n",
       "</style>\n",
       "<table class=\"iris\" id=\"1672328461056\">\n",
       "    <tr class=\"iris\">\n",
       "<th class=\"iris iris-word-cell\">Air Temperature (degK)</th>\n",
       "<th class=\"iris iris-word-cell\">time</th>\n",
       "<th class=\"iris iris-word-cell\">latitude</th>\n",
       "<th class=\"iris iris-word-cell\">longitude</th>\n",
       "</tr>\n",
       "    <tr class=\"iris\">\n",
       "<td class=\"iris-word-cell iris-subheading-cell\">Shape</td>\n",
       "<td class=\"iris iris-inclusion-cell\">12</td>\n",
       "<td class=\"iris iris-inclusion-cell\">38</td>\n",
       "<td class=\"iris iris-inclusion-cell\">98</td>\n",
       "</tr>\n",
       "    <tr class=\"iris\">\n",
       "    <td class=\"iris-title iris-word-cell\">Dimension coordinates</td>\n",
       "    <td class=\"iris-title\"></td>\n",
       "    <td class=\"iris-title\"></td>\n",
       "    <td class=\"iris-title\"></td>\n",
       "</tr>\n",
       "<tr class=\"iris\">\n",
       "    <td class=\"iris-word-cell iris-subheading-cell\">\ttime</td>\n",
       "    <td class=\"iris-inclusion-cell\">x</td>\n",
       "    <td class=\"iris-inclusion-cell\">-</td>\n",
       "    <td class=\"iris-inclusion-cell\">-</td>\n",
       "</tr>\n",
       "<tr class=\"iris\">\n",
       "    <td class=\"iris-word-cell iris-subheading-cell\">\tlatitude</td>\n",
       "    <td class=\"iris-inclusion-cell\">-</td>\n",
       "    <td class=\"iris-inclusion-cell\">x</td>\n",
       "    <td class=\"iris-inclusion-cell\">-</td>\n",
       "</tr>\n",
       "<tr class=\"iris\">\n",
       "    <td class=\"iris-word-cell iris-subheading-cell\">\tlongitude</td>\n",
       "    <td class=\"iris-inclusion-cell\">-</td>\n",
       "    <td class=\"iris-inclusion-cell\">-</td>\n",
       "    <td class=\"iris-inclusion-cell\">x</td>\n",
       "</tr>\n",
       "<tr class=\"iris\">\n",
       "    <td class=\"iris-title iris-word-cell\">Auxiliary coordinates</td>\n",
       "    <td class=\"iris-title\"></td>\n",
       "    <td class=\"iris-title\"></td>\n",
       "    <td class=\"iris-title\"></td>\n",
       "</tr>\n",
       "<tr class=\"iris\">\n",
       "    <td class=\"iris-word-cell iris-subheading-cell\">\tmonth</td>\n",
       "    <td class=\"iris-inclusion-cell\">x</td>\n",
       "    <td class=\"iris-inclusion-cell\">-</td>\n",
       "    <td class=\"iris-inclusion-cell\">-</td>\n",
       "</tr>\n",
       "<tr class=\"iris\">\n",
       "    <td class=\"iris-word-cell iris-subheading-cell\">\tyear</td>\n",
       "    <td class=\"iris-inclusion-cell\">x</td>\n",
       "    <td class=\"iris-inclusion-cell\">-</td>\n",
       "    <td class=\"iris-inclusion-cell\">-</td>\n",
       "</tr>\n",
       "<tr class=\"iris\">\n",
       "    <td class=\"iris-title iris-word-cell\">Attributes</td>\n",
       "    <td class=\"iris-title\"></td>\n",
       "    <td class=\"iris-title\"></td>\n",
       "    <td class=\"iris-title\"></td>\n",
       "</tr>\n",
       "<tr class=\"iris\">\n",
       "    <td class=\"iris-word-cell iris-subheading-cell\">\tConventions</td>\n",
       "    <td class=\"iris-word-cell\" colspan=\"3\">CF-1.0</td>\n",
       "</tr>\n",
       "<tr class=\"iris\">\n",
       "    <td class=\"iris-word-cell iris-subheading-cell\">\tReferences</td>\n",
       "    <td class=\"iris-word-cell\" colspan=\"3\">https://www.esrl.noaa.gov/psd/data/gridded/data.ghcncams.html</td>\n",
       "</tr>\n",
       "<tr class=\"iris\">\n",
       "    <td class=\"iris-word-cell iris-subheading-cell\">\tSource</td>\n",
       "    <td class=\"iris-word-cell\" colspan=\"3\">http://iridl.ldeo.columbia.edu/SOURCES/.NOAA/.NCEP/.CPC/.GHCN_CAMS/.gr...</td>\n",
       "</tr>\n",
       "<tr class=\"iris\">\n",
       "    <td class=\"iris-word-cell iris-subheading-cell\">\tactual_range</td>\n",
       "    <td class=\"iris-word-cell\" colspan=\"3\">[186.77 335.75]</td>\n",
       "</tr>\n",
       "<tr class=\"iris\">\n",
       "    <td class=\"iris-word-cell iris-subheading-cell\">\tdataset</td>\n",
       "    <td class=\"iris-word-cell\" colspan=\"3\">NOAA/NCEP GHCN CAMS</td>\n",
       "</tr>\n",
       "<tr class=\"iris\">\n",
       "    <td class=\"iris-word-cell iris-subheading-cell\">\tdataset_title</td>\n",
       "    <td class=\"iris-word-cell\" colspan=\"3\">Climate Prediction Center (CPC) Global Land Surface Air Temperature An...</td>\n",
       "</tr>\n",
       "<tr class=\"iris\">\n",
       "    <td class=\"iris-word-cell iris-subheading-cell\">\thistory</td>\n",
       "    <td class=\"iris-word-cell\" colspan=\"3\">created 8/2012 by CAS NOAA/ESRL PSDupdated to include major version change...</td>\n",
       "</tr>\n",
       "<tr class=\"iris\">\n",
       "    <td class=\"iris-word-cell iris-subheading-cell\">\tlevel_desc</td>\n",
       "    <td class=\"iris-word-cell\" colspan=\"3\">Surface</td>\n",
       "</tr>\n",
       "<tr class=\"iris\">\n",
       "    <td class=\"iris-word-cell iris-subheading-cell\">\tparent_stat</td>\n",
       "    <td class=\"iris-word-cell\" colspan=\"3\">Other</td>\n",
       "</tr>\n",
       "<tr class=\"iris\">\n",
       "    <td class=\"iris-word-cell iris-subheading-cell\">\tstatistic</td>\n",
       "    <td class=\"iris-word-cell\" colspan=\"3\">Mean</td>\n",
       "</tr>\n",
       "<tr class=\"iris\">\n",
       "    <td class=\"iris-word-cell iris-subheading-cell\">\ttitle</td>\n",
       "    <td class=\"iris-word-cell\" colspan=\"3\">NOAA/NCEP GHCN CAMS Monthly Temperature</td>\n",
       "</tr>\n",
       "<tr class=\"iris\">\n",
       "    <td class=\"iris-word-cell iris-subheading-cell\">\tvalid_range</td>\n",
       "    <td class=\"iris-word-cell\" colspan=\"3\">[150. 400.]</td>\n",
       "</tr>\n",
       "<tr class=\"iris\">\n",
       "    <td class=\"iris-word-cell iris-subheading-cell\">\tvar_desc</td>\n",
       "    <td class=\"iris-word-cell\" colspan=\"3\">Air Temperature</td>\n",
       "</tr>\n",
       "<tr class=\"iris\">\n",
       "    <td class=\"iris-word-cell iris-subheading-cell\">\tversion</td>\n",
       "    <td class=\"iris-word-cell\" colspan=\"3\">3.01</td>\n",
       "</tr>\n",
       "<tr class=\"iris\">\n",
       "    <td class=\"iris-title iris-word-cell\">Cell methods</td>\n",
       "    <td class=\"iris-title\"></td>\n",
       "    <td class=\"iris-title\"></td>\n",
       "    <td class=\"iris-title\"></td>\n",
       "</tr>\n",
       "<tr class=\"iris\">\n",
       "    <td class=\"iris-word-cell iris-subheading-cell\">\tmean</td>\n",
       "    <td class=\"iris-word-cell\" colspan=\"3\">time</td>\n",
       "</tr>\n",
       "</table>\n",
       "        "
      ],
      "text/plain": [
       "<iris 'Cube' of air_temperature / (degK) (time: 12; latitude: 38; longitude: 98)>"
      ]
     },
     "execution_count": 124,
     "metadata": {},
     "output_type": "execute_result"
    }
   ],
   "source": [
    "cube_time"
   ]
  },
  {
   "cell_type": "code",
   "execution_count": 125,
   "metadata": {},
   "outputs": [
    {
     "name": "stderr",
     "output_type": "stream",
     "text": [
      "C:\\Users\\payal\\Anaconda4\\lib\\site-packages\\iris\\coords.py:1410: UserWarning: Collapsing a non-contiguous coordinate. Metadata may not be fully descriptive for 'time'.\n",
      "  warnings.warn(msg.format(self.name()))\n",
      "C:\\Users\\payal\\Anaconda4\\lib\\site-packages\\iris\\coords.py:1410: UserWarning: Collapsing a non-contiguous coordinate. Metadata may not be fully descriptive for 'month'.\n",
      "  warnings.warn(msg.format(self.name()))\n",
      "C:\\Users\\payal\\Anaconda4\\lib\\site-packages\\iris\\coords.py:1410: UserWarning: Collapsing a non-contiguous coordinate. Metadata may not be fully descriptive for 'year'.\n",
      "  warnings.warn(msg.format(self.name()))\n"
     ]
    }
   ],
   "source": [
    "cube_mean = cube_time.collapsed(['month'], iris.analysis.MAX)"
   ]
  },
  {
   "cell_type": "code",
   "execution_count": 126,
   "metadata": {},
   "outputs": [
    {
     "data": {
      "text/plain": [
       "DimCoord(array([70.25, 69.75, 69.25, 68.75, 68.25, 67.75, 67.25, 66.75, 66.25,\n",
       "       65.75, 65.25, 64.75, 64.25, 63.75, 63.25, 62.75, 62.25, 61.75,\n",
       "       61.25, 60.75, 60.25, 59.75, 59.25, 58.75, 58.25, 57.75, 57.25,\n",
       "       56.75, 56.25, 55.75, 55.25, 54.75, 54.25, 53.75, 53.25, 52.75,\n",
       "       52.25, 51.75], dtype=float32), standard_name='latitude', units=Unit('degrees'), long_name='Latitude', var_name='lat', attributes={'actual_range': array([ 89.75, -89.75], dtype=float32), 'coordinate_defines': 'center'})"
      ]
     },
     "execution_count": 126,
     "metadata": {},
     "output_type": "execute_result"
    }
   ],
   "source": [
    "cube_mean.coord('latitude')"
   ]
  },
  {
   "cell_type": "code",
   "execution_count": 127,
   "metadata": {},
   "outputs": [
    {
     "data": {
      "text/plain": [
       "array([62.8 , 63.08, 63.45, 63.78, 63.82, 63.92, 63.98, 64.02, 64.07,\n",
       "       64.3 , 64.33, 64.4 , 64.42, 64.47, 64.54, 64.57, 64.9 , 64.92,\n",
       "       65.12, 65.19, 65.24, 65.27, 65.28, 65.35, 65.5 , 65.52, 65.59,\n",
       "       65.64, 65.71, 65.75, 65.77, 65.82, 65.91, 65.98, 66.  , 66.13,\n",
       "       66.22, 66.3 , 66.35, 66.52, 66.64, 66.73, 66.91, 66.96, 67.21,\n",
       "       67.45, 67.77, 68.43])"
      ]
     },
     "execution_count": 127,
     "metadata": {},
     "output_type": "execute_result"
    }
   ],
   "source": [
    "np.unique(lat_fire)"
   ]
  },
  {
   "cell_type": "code",
   "execution_count": 128,
   "metadata": {},
   "outputs": [],
   "source": [
    "lat = cube_mean.coord('latitude').points\n",
    "lon = cube_mean.coord('longitude').points"
   ]
  },
  {
   "cell_type": "code",
   "execution_count": 129,
   "metadata": {},
   "outputs": [],
   "source": [
    "data = cube_mean.data"
   ]
  },
  {
   "cell_type": "code",
   "execution_count": 136,
   "metadata": {},
   "outputs": [
    {
     "data": {
      "text/plain": [
       "(50,)"
      ]
     },
     "execution_count": 136,
     "metadata": {},
     "output_type": "execute_result"
    }
   ],
   "source": [
    "lat_fire.shape"
   ]
  },
  {
   "cell_type": "code",
   "execution_count": 146,
   "metadata": {},
   "outputs": [
    {
     "data": {
      "text/plain": [
       "array([214868.7, 419884. , 537627. ,  30294. , 243254. ,  10378. ,\n",
       "       243900. , 103092. ,  66832. , 403993. , 344833. ,  97615. ,\n",
       "        11728. , 320155. , 125643. ,  26610. ,  65990. , 463994. ,\n",
       "       284595. ,  89279. ,  40599. ,  14904. ,  48307. ,  15591. ,\n",
       "       265919.9,  19667. ,  63057. ,  48232. ,  15563. ,  24120. ,\n",
       "        37363. ,  52056. ,  19815. , 135627. , 483280. , 108577. ,\n",
       "        87413. ,  98418.4, 201894. ,  22193. ,  16025. ,  33952. ,\n",
       "        12377. ,  17397. ,  29680. ,  21719. , 163239. ,  11231.3,\n",
       "       175815. ,  30408. ])"
      ]
     },
     "execution_count": 146,
     "metadata": {},
     "output_type": "execute_result"
    }
   ],
   "source": [
    "fire_sz"
   ]
  },
  {
   "cell_type": "code",
   "execution_count": 186,
   "metadata": {},
   "outputs": [
    {
     "data": {
      "image/png": "[encoded data removed]",
      "text/plain": [
       "<Figure size 1080x576 with 3 Axes>"
      ]
     },
     "metadata": {
      "needs_background": "light"
     },
     "output_type": "display_data"
    }
   ],
   "source": [
    "##Plot showing temperature with wildfire size for 2004. \n",
    "##Size of circles denote and color denote area burnt due to wildfire.\n",
    "plt.figure(figsize=[15,8])\n",
    "m=Basemap(projection='mill',lat_ts=10, \\\n",
    "  llcrnrlon=lon.min(),urcrnrlon=lon.max(), \\\n",
    "  llcrnrlat=lat.min(),urcrnrlat=lat.max(), \\\n",
    "  resolution='c')\n",
    "m.drawcoastlines(linewidth=0.25)\n",
    "m.drawcountries(linewidth=0.85,color='red')\n",
    "#xxx,yyy = meshgrid(lons,lats)\n",
    "#x,y=m(xxx,yyy)\n",
    "#print(y)\n",
    "Lon,Lat = meshgrid(lon,lat)\n",
    "x, y = m(Lon,Lat)\n",
    "cs = m.pcolormesh(x,y,data,shading='flat',cmap='viridis')\n",
    "cbar= plt.colorbar()\n",
    "cbar.set_label(\"Temperature (K)\", labelpad=+1)\n",
    "a,b = m(lon_fire,lat_fire)\n",
    "#scat = m.scatter(a,b,marker='D',color='m')\n",
    "scat = m.scatter(lon_fire, lat_fire, s=fire_sz/1000, latlon=True,\n",
    "          c=fire_sz,cmap=plt.cm.jet,\n",
    "           alpha=0.5)\n",
    "cbar= plt.colorbar()\n",
    "cbar.set_label(\"fire_size (m)\", labelpad=+1)\n",
    "plt.show()\n",
    "\n"
   ]
  },
  {
   "cell_type": "code",
   "execution_count": null,
   "metadata": {},
   "outputs": [],
   "source": []
  }
 ],
 "metadata": {
  "kernelspec": {
   "display_name": "Python 3",
   "language": "python",
   "name": "python3"
  },
  "language_info": {
   "codemirror_mode": {
    "name": "ipython",
    "version": 3
   },
   "file_extension": ".py",
   "mimetype": "text/x-python",
   "name": "python",
   "nbconvert_exporter": "python",
   "pygments_lexer": "ipython3",
   "version": "3.6.8"
  }
 },
 "nbformat": 4,
 "nbformat_minor": 2
}
