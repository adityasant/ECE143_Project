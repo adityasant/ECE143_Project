{
 "cells": [
  {
   "cell_type": "code",
   "execution_count": 24,
   "metadata": {},
   "outputs": [],
   "source": [
    "import sqlite3\n",
    "import numpy as np\n",
    "import pandas as pd\n",
    "import seaborn as sns\n",
    "import numpy as np\n",
    "import datetime\n",
    "import sys\n",
    "import os\n",
    "import matplotlib.pyplot as plt\n",
    "from mpl_toolkits.basemap import Basemap\n",
    "%matplotlib inline\n",
    "from pylab import *"
   ]
  },
  {
   "cell_type": "code",
   "execution_count": 69,
   "metadata": {},
   "outputs": [],
   "source": [
    "def create_wildfire_df(PATH):\n",
    "    '''\n",
    "    PATH: Linux path to sqlite for wildfire database\n",
    "    Output:\n",
    "        dataframe: of wildfire with the following columns:\n",
    "        LATITUDE\n",
    "        LONGITUDE\n",
    "        STATE\n",
    "        date\n",
    "        fire_size\n",
    "        fire_year\n",
    "        fire_month\n",
    "        fire_total (This is total fire in a particular latitude, longitude, fire_year and fire_month)\n",
    "    '''\n",
    "    assert(os.path.exists(PATH)),\"Incorrect file path\"\n",
    "    conn = sqlite3.connect(PATH)\n",
    "    data_dates = pd.read_sql_query(\"SELECT fire_year, discovery_date FROM fires;\", conn)\n",
    "    data_size = pd.read_sql_query(\"SELECT fire_size, fire_size_class FROM fires;\", conn)\n",
    "    data_location = pd.read_sql_query(\"SELECT latitude, longitude, state FROM fires;\", conn)\n",
    "    date = pd.read_sql_query(\"select datetime(DISCOVERY_DATE) as DISCOVERY_DATE from fires;\", conn)\n",
    "    data_dates_arr = date['DISCOVERY_DATE']\n",
    "    fire_year_arr = data_dates['FIRE_YEAR']\n",
    "    fire_size_arr = data_size['FIRE_SIZE']  \n",
    "    #Create a dataframe df \n",
    "    df = data_location\n",
    "    df['date'] = data_dates_arr\n",
    "    df['fire_size'] = fire_size_arr\n",
    "    df['fire_year'] = fire_year_arr\n",
    "    df['fire_month'] = pd.DatetimeIndex(df['date']).month\n",
    "    #Converted Lat and Long to int to remove the exact precision\n",
    "    df['LATITUDE'] = df['LATITUDE'].round(2)\n",
    "    df['LONGITUDE'] = df['LONGITUDE'].round(2)\n",
    "##Compute total fire based on Latitude, Longitude, fire_year and fire_month\n",
    "    df['fire_total'] = df.groupby(['LATITUDE','LONGITUDE', 'fire_year','fire_month'])['fire_size'].transform(sum)\n",
    "    \n",
    "    return df"
   ]
  },
  {
   "cell_type": "code",
   "execution_count": 70,
   "metadata": {},
   "outputs": [],
   "source": [
    "def large_fire_coord(state, fire_size, df):\n",
    "    '''\n",
    "    Input: \n",
    "        state: The state we want to focus on.\n",
    "        df: Input dataframe\n",
    "        fire_size: fire size above which is considered large\n",
    "    Output:\n",
    "        lat_min,lat_max,long_min,long_max: the coordinates with fires above fire_size in state 'state'\n",
    "    '''\n",
    "    #print(state)\n",
    "    df = df.query(\"fire_total >= fire_size and STATE == @state\")\n",
    "    lat_max = df['LATITUDE'].max()\n",
    "    lat_min = df['LATITUDE'].min()\n",
    "    long_max = df['LONGITUDE'].max()\n",
    "    long_min = df['LONGITUDE'].min() \n",
    "    return lat_min,lat_max,long_min,long_max"
   ]
  },
  {
   "cell_type": "code",
   "execution_count": 71,
   "metadata": {},
   "outputs": [],
   "source": [
    "PATH = '../../188-million-us-wildfires/FPA_FOD_20170508.sqlite'\n",
    "fire_df = create_wildfire_df(PATH)"
   ]
  },
  {
   "cell_type": "code",
   "execution_count": 72,
   "metadata": {},
   "outputs": [],
   "source": [
    "def process_df(coords, fire_size, df):\n",
    "    '''\n",
    "    Input: \n",
    "        coords: A tuple of lat_min,lat_max,long_min,long_max in which we need to find wild fires\n",
    "        Find sum of fire occuring within the location, for a given year and month\n",
    "    \n",
    "    '''\n",
    "    lat_min,lat_max,long_min,long_max = coords\n",
    "    #print(lat_min,lat_max,long_min,long_max)\n",
    "    df_new = df.query(\"LATITUDE >= @lat_min and LATITUDE <= @lat_max and LONGITUDE >= @long_min and LONGITUDE <= @long_max and fire_total>=@fire_size\")\n",
    "    #print(df_new)\n",
    "   # df_new['fire_total_area'] = df_new.groupby(['fire_year','fire_month'])['fire_total'].transform(sum)\n",
    "   # df_new = df_new.sort_values('fire_total', ascending=False).drop_duplicates(['fire_year','fire_month'])\n",
    "   # df_final = df_new[['fire_year','fire_month','fire_total_area']]\n",
    "    return df_new"
   ]
  },
  {
   "cell_type": "code",
   "execution_count": 73,
   "metadata": {},
   "outputs": [],
   "source": [
    "\n",
    "coords = large_fire_coord('AK',100000,fire_df)\n",
    "fire_df_local = process_df(coords,100000,fire_df)"
   ]
  },
  {
   "cell_type": "code",
   "execution_count": 74,
   "metadata": {},
   "outputs": [],
   "source": [
    "lat_fire = np.array(fire_df_local['LATITUDE'].tolist())\n",
    "lon_fire = np.array(fire_df_local['LONGITUDE'].tolist())+360"
   ]
  },
  {
   "cell_type": "code",
   "execution_count": 75,
   "metadata": {},
   "outputs": [
    {
     "data": {
      "text/plain": [
       "(79,)"
      ]
     },
     "execution_count": 75,
     "metadata": {},
     "output_type": "execute_result"
    }
   ],
   "source": [
    "lon_fire.shape"
   ]
  },
  {
   "cell_type": "code",
   "execution_count": 11,
   "metadata": {},
   "outputs": [],
   "source": [
    "import os \n",
    "import numpy as np\n",
    "import iris   \n",
    "import iris.plot as iplt\n",
    "import iris.quickplot as qplt\n",
    "import matplotlib.pyplot as plt\n",
    "%matplotlib inline\n",
    "import iris.coord_categorisation as cat\n",
    "import pandas as pd\n",
    "from iris.analysis import Aggregator"
   ]
  },
  {
   "cell_type": "code",
   "execution_count": 12,
   "metadata": {},
   "outputs": [],
   "source": [
    "def region_based_cube(cube,coords):\n",
    "    '''\n",
    "    Inputs:\n",
    "        cube with latitude and longitude as coords\n",
    "        coords: the region we want to extract from input cube\n",
    "    Outputs: \n",
    "        A smaller cube within coords\n",
    "    '''\n",
    "    lat_min,lat_max,long_min,long_max = coords\n",
    "    lat_cons = iris.Constraint(latitude = lambda x : lat_min < x < lat_max)\n",
    "    if (long_min<0):\n",
    "        long_min = long_min+360\n",
    "    if(long_max <0) :\n",
    "        long_max = long_max+360\n",
    "    long_cons = iris.Constraint(longitude = lambda x : long_min < x < long_max)\n",
    "    new_cube = cube.extract(lat_cons & long_cons)\n",
    "    return new_cube"
   ]
  },
  {
   "cell_type": "code",
   "execution_count": 16,
   "metadata": {},
   "outputs": [],
   "source": [
    "##Adding auxilary axis:\n",
    "def get_decade(coord, value):\n",
    "    date = coord.units.num2date(value)\n",
    "    return date.year - date.year % 10\n",
    "def get_year(coord, value):\n",
    "    date = coord.units.num2date(value)\n",
    "    return date.year\n",
    "\n",
    "def get_month(coord, value):\n",
    "    date = coord.units.num2date(value)\n",
    "    return date.month\n"
   ]
  },
  {
   "cell_type": "code",
   "execution_count": 17,
   "metadata": {},
   "outputs": [],
   "source": [
    "PATH_temp = os.path.join(os.getcwd(), \"../../air.mon.mean.nc\")\n",
    "cube_temp = iris.load_cube(PATH_temp)\n",
    "cat.add_categorised_coord(cube_temp, 'year', 'time', get_year)\n",
    "cat.add_categorised_coord(cube_temp, 'month', 'time', get_month)\n",
    "cube_local = region_based_cube(cube_temp,coords)"
   ]
  },
  {
   "cell_type": "code",
   "execution_count": 77,
   "metadata": {},
   "outputs": [
    {
     "name": "stderr",
     "output_type": "stream",
     "text": [
      "C:\\Users\\payal\\Anaconda4\\lib\\site-packages\\iris\\coords.py:1410: UserWarning: Collapsing a non-contiguous coordinate. Metadata may not be fully descriptive for 'time'.\n",
      "  warnings.warn(msg.format(self.name()))\n",
      "C:\\Users\\payal\\Anaconda4\\lib\\site-packages\\iris\\coords.py:1410: UserWarning: Collapsing a non-contiguous coordinate. Metadata may not be fully descriptive for 'month'.\n",
      "  warnings.warn(msg.format(self.name()))\n",
      "C:\\Users\\payal\\Anaconda4\\lib\\site-packages\\iris\\coords.py:1410: UserWarning: Collapsing a non-contiguous coordinate. Metadata may not be fully descriptive for 'year'.\n",
      "  warnings.warn(msg.format(self.name()))\n"
     ]
    }
   ],
   "source": [
    "cube_mean = cube_local.collapsed(['year'], iris.analysis.MAX)"
   ]
  },
  {
   "cell_type": "code",
   "execution_count": 78,
   "metadata": {},
   "outputs": [
    {
     "data": {
      "text/plain": [
       "DimCoord(array([69.75, 69.25, 68.75, 68.25, 67.75, 67.25, 66.75, 66.25, 65.75,\n",
       "       65.25, 64.75, 64.25, 63.75, 63.25, 62.75, 62.25, 61.75, 61.25,\n",
       "       60.75, 60.25, 59.75, 59.25, 58.75, 58.25, 57.75, 57.25, 56.75,\n",
       "       56.25, 55.75, 55.25, 54.75, 54.25, 53.75, 53.25, 52.75, 52.25,\n",
       "       51.75, 51.25], dtype=float32), standard_name='latitude', units=Unit('degrees'), long_name='Latitude', var_name='lat', attributes={'actual_range': array([ 89.75, -89.75], dtype=float32), 'coordinate_defines': 'center'})"
      ]
     },
     "execution_count": 78,
     "metadata": {},
     "output_type": "execute_result"
    }
   ],
   "source": [
    "cube_mean.coord('latitude')"
   ]
  },
  {
   "cell_type": "code",
   "execution_count": 79,
   "metadata": {},
   "outputs": [
    {
     "data": {
      "text/plain": [
       "array([60.44, 61.45, 61.98, 62.12, 62.3 , 62.4 , 62.53, 62.7 , 62.84,\n",
       "       63.08, 63.2 , 63.42, 63.45, 63.47, 63.57, 63.59, 63.63, 63.65,\n",
       "       63.82, 64.02, 64.1 , 64.12, 64.14, 64.22, 64.33, 64.35, 64.37,\n",
       "       64.46, 64.47, 64.48, 64.64, 64.66, 64.67, 64.72, 64.73, 64.75,\n",
       "       64.79, 64.9 , 64.93, 64.97, 64.98, 65.18, 65.27, 65.28, 65.44,\n",
       "       65.52, 65.67, 65.71, 65.72, 65.75, 65.79, 65.8 , 65.87, 65.9 ,\n",
       "       65.95, 65.98, 66.  , 66.16, 66.22, 66.3 , 66.48, 66.52, 66.72,\n",
       "       66.73, 66.79, 66.83, 66.85, 66.91, 66.96, 67.1 , 67.21, 67.22,\n",
       "       67.53, 69.05])"
      ]
     },
     "execution_count": 79,
     "metadata": {},
     "output_type": "execute_result"
    }
   ],
   "source": [
    "np.unique(lat_fire)"
   ]
  },
  {
   "cell_type": "code",
   "execution_count": 80,
   "metadata": {},
   "outputs": [],
   "source": [
    "lat = cube_mean.coord('latitude').points\n",
    "lon = cube_mean.coord('longitude').points"
   ]
  },
  {
   "cell_type": "code",
   "execution_count": 81,
   "metadata": {},
   "outputs": [],
   "source": [
    "data = cube_mean.data"
   ]
  },
  {
   "cell_type": "code",
   "execution_count": 82,
   "metadata": {},
   "outputs": [
    {
     "data": {
      "image/png": "[encoded data removed]",
      "text/plain": [
       "<Figure size 1080x576 with 1 Axes>"
      ]
     },
     "metadata": {},
     "output_type": "display_data"
    }
   ],
   "source": [
    "plt.figure(figsize=[15,8])\n",
    "m=Basemap(projection='mill',lat_ts=10, \\\n",
    "  llcrnrlon=lon.min(),urcrnrlon=lon.max(), \\\n",
    "  llcrnrlat=lat.min(),urcrnrlat=lat.max(), \\\n",
    "  resolution='c')\n",
    "m.drawcoastlines(linewidth=0.25)\n",
    "m.drawcountries(linewidth=0.85,color='red')\n",
    "#xxx,yyy = meshgrid(lons,lats)\n",
    "#x,y=m(xxx,yyy)\n",
    "#print(y)\n",
    "Lon,Lat = meshgrid(lon,lat)\n",
    "x, y = m(Lon,Lat)\n",
    "cs = m.pcolormesh(x,y,data,shading='flat',cmap=plt.cm.jet)\n",
    "a,b = m(lon_fire,lat_fire)\n",
    "scat = m.scatter(a,b,marker='D',color='m')"
   ]
  },
  {
   "cell_type": "code",
   "execution_count": null,
   "metadata": {},
   "outputs": [],
   "source": []
  }
 ],
 "metadata": {
  "kernelspec": {
   "display_name": "Python 3",
   "language": "python",
   "name": "python3"
  },
  "language_info": {
   "codemirror_mode": {
    "name": "ipython",
    "version": 3
   },
   "file_extension": ".py",
   "mimetype": "text/x-python",
   "name": "python",
   "nbconvert_exporter": "python",
   "pygments_lexer": "ipython3",
   "version": "3.6.8"
  }
 },
 "nbformat": 4,
 "nbformat_minor": 2
}
